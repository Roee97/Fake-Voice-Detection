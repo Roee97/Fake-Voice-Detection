{
 "cells": [
  {
   "cell_type": "markdown",
   "metadata": {
    "id": "A0vC_v_apIP0"
   },
   "source": [
    "Imports"
   ]
  },
  {
   "cell_type": "code",
   "execution_count": 31,
   "metadata": {
    "id": "4tt6YnkKmCn5",
    "ExecuteTime": {
     "end_time": "2025-02-03T17:07:38.060843Z",
     "start_time": "2025-02-03T17:07:37.979465Z"
    }
   },
   "outputs": [
    {
     "ename": "OSError",
     "evalue": "dlopen(/Library/Python/3.9/site-packages/torchaudio/lib/libtorchaudio.so, 0x0006): Symbol not found: __ZN2at4_ops9fft_irfft4callERKNS_6TensorENSt3__18optionalIN3c106SymIntEEExNS6_INS7_17basic_string_viewIcEEEE\n  Referenced from: <7CB27178-9CF6-3B2E-BBB0-528F29A2DEBB> /Library/Python/3.9/site-packages/torchaudio/lib/libtorchaudio.so\n  Expected in:     <D983C0C6-7C01-3D9C-A96B-07BB20D2CE66> /Users/roeeseren/Library/Python/3.9/lib/python/site-packages/torch/lib/libtorch_cpu.dylib",
     "output_type": "error",
     "traceback": [
      "\u001B[0;31m---------------------------------------------------------------------------\u001B[0m",
      "\u001B[0;31mOSError\u001B[0m                                   Traceback (most recent call last)",
      "Cell \u001B[0;32mIn[31], line 11\u001B[0m\n\u001B[1;32m      9\u001B[0m \u001B[38;5;28;01mimport\u001B[39;00m \u001B[38;5;21;01mlibrosa\u001B[39;00m\n\u001B[1;32m     10\u001B[0m \u001B[38;5;28;01mimport\u001B[39;00m \u001B[38;5;21;01mkagglehub\u001B[39;00m\n\u001B[0;32m---> 11\u001B[0m \u001B[38;5;28;01mfrom\u001B[39;00m \u001B[38;5;21;01mwavencoder\u001B[39;00m\u001B[38;5;21;01m.\u001B[39;00m\u001B[38;5;21;01mmodels\u001B[39;00m\u001B[38;5;21;01m.\u001B[39;00m\u001B[38;5;21;01mrawnet\u001B[39;00m \u001B[38;5;28;01mimport\u001B[39;00m RawNet2Model\n\u001B[1;32m     12\u001B[0m \u001B[38;5;28;01mimport\u001B[39;00m \u001B[38;5;21;01mtorch\u001B[39;00m\u001B[38;5;21;01m.\u001B[39;00m\u001B[38;5;21;01moptim\u001B[39;00m \u001B[38;5;28;01mas\u001B[39;00m \u001B[38;5;21;01moptim\u001B[39;00m\n",
      "File \u001B[0;32m/Library/Python/3.9/site-packages/wavencoder/__init__.py:5\u001B[0m\n\u001B[1;32m      1\u001B[0m __version__ \u001B[38;5;241m=\u001B[39m \u001B[38;5;124m'\u001B[39m\u001B[38;5;124m0.0.6\u001B[39m\u001B[38;5;124m'\u001B[39m\n\u001B[0;32m----> 5\u001B[0m \u001B[38;5;28;01mfrom\u001B[39;00m \u001B[38;5;21;01mwavencoder\u001B[39;00m\u001B[38;5;21;01m.\u001B[39;00m\u001B[38;5;21;01mmodels\u001B[39;00m\u001B[38;5;21;01m.\u001B[39;00m\u001B[38;5;21;01mwav2vec\u001B[39;00m \u001B[38;5;28;01mimport\u001B[39;00m Wav2Vec\n\u001B[1;32m      6\u001B[0m \u001B[38;5;28;01mfrom\u001B[39;00m \u001B[38;5;21;01mwavencoder\u001B[39;00m\u001B[38;5;21;01m.\u001B[39;00m\u001B[38;5;21;01mmodels\u001B[39;00m\u001B[38;5;21;01m.\u001B[39;00m\u001B[38;5;21;01mwav2vec2\u001B[39;00m \u001B[38;5;28;01mimport\u001B[39;00m Wav2Vec2\n\u001B[1;32m      7\u001B[0m \u001B[38;5;28;01mfrom\u001B[39;00m \u001B[38;5;21;01mwavencoder\u001B[39;00m\u001B[38;5;21;01m.\u001B[39;00m\u001B[38;5;21;01mmodels\u001B[39;00m\u001B[38;5;21;01m.\u001B[39;00m\u001B[38;5;21;01msincnet\u001B[39;00m \u001B[38;5;28;01mimport\u001B[39;00m SincNet, SincConvLayer\n",
      "File \u001B[0;32m/Library/Python/3.9/site-packages/wavencoder/models/__init__.py:1\u001B[0m\n\u001B[0;32m----> 1\u001B[0m \u001B[38;5;28;01mfrom\u001B[39;00m \u001B[38;5;21;01mwavencoder\u001B[39;00m\u001B[38;5;21;01m.\u001B[39;00m\u001B[38;5;21;01mmodels\u001B[39;00m\u001B[38;5;21;01m.\u001B[39;00m\u001B[38;5;21;01mwav2vec\u001B[39;00m \u001B[38;5;28;01mimport\u001B[39;00m Wav2Vec\n\u001B[1;32m      2\u001B[0m \u001B[38;5;28;01mfrom\u001B[39;00m \u001B[38;5;21;01mwavencoder\u001B[39;00m\u001B[38;5;21;01m.\u001B[39;00m\u001B[38;5;21;01mmodels\u001B[39;00m\u001B[38;5;21;01m.\u001B[39;00m\u001B[38;5;21;01mwav2vec2\u001B[39;00m \u001B[38;5;28;01mimport\u001B[39;00m Wav2Vec2\n\u001B[1;32m      3\u001B[0m \u001B[38;5;28;01mfrom\u001B[39;00m \u001B[38;5;21;01mwavencoder\u001B[39;00m\u001B[38;5;21;01m.\u001B[39;00m\u001B[38;5;21;01mmodels\u001B[39;00m\u001B[38;5;21;01m.\u001B[39;00m\u001B[38;5;21;01msincnet\u001B[39;00m \u001B[38;5;28;01mimport\u001B[39;00m SincNet, SincConvLayer\n",
      "File \u001B[0;32m/Library/Python/3.9/site-packages/wavencoder/models/wav2vec.py:16\u001B[0m\n\u001B[1;32m     14\u001B[0m \u001B[38;5;28;01mfrom\u001B[39;00m \u001B[38;5;21;01margparse\u001B[39;00m \u001B[38;5;28;01mimport\u001B[39;00m Namespace\n\u001B[1;32m     15\u001B[0m \u001B[38;5;28;01mfrom\u001B[39;00m \u001B[38;5;21;01mtqdm\u001B[39;00m \u001B[38;5;28;01mimport\u001B[39;00m tqdm\n\u001B[0;32m---> 16\u001B[0m \u001B[38;5;28;01mfrom\u001B[39;00m \u001B[38;5;21;01mwavencoder\u001B[39;00m\u001B[38;5;21;01m.\u001B[39;00m\u001B[38;5;21;01mutils\u001B[39;00m \u001B[38;5;28;01mimport\u001B[39;00m _reporthook\n\u001B[1;32m     19\u001B[0m \u001B[38;5;28;01mfrom\u001B[39;00m \u001B[38;5;21;01mtyping\u001B[39;00m \u001B[38;5;28;01mimport\u001B[39;00m Dict, List, Optional, Tuple\n\u001B[1;32m     20\u001B[0m \u001B[38;5;28;01mfrom\u001B[39;00m \u001B[38;5;21;01mtorch\u001B[39;00m \u001B[38;5;28;01mimport\u001B[39;00m Tensor\n",
      "File \u001B[0;32m/Library/Python/3.9/site-packages/wavencoder/utils.py:6\u001B[0m\n\u001B[1;32m      4\u001B[0m \u001B[38;5;28;01mimport\u001B[39;00m \u001B[38;5;21;01mzipfile\u001B[39;00m\n\u001B[1;32m      5\u001B[0m \u001B[38;5;28;01mimport\u001B[39;00m \u001B[38;5;21;01mshutil\u001B[39;00m\n\u001B[0;32m----> 6\u001B[0m \u001B[38;5;28;01mimport\u001B[39;00m \u001B[38;5;21;01mtorchaudio\u001B[39;00m\n\u001B[1;32m      8\u001B[0m \u001B[38;5;28;01mdef\u001B[39;00m \u001B[38;5;21misnotebook\u001B[39m():\n\u001B[1;32m      9\u001B[0m     \u001B[38;5;28;01mtry\u001B[39;00m:\n",
      "File \u001B[0;32m/Library/Python/3.9/site-packages/torchaudio/__init__.py:2\u001B[0m\n\u001B[1;32m      1\u001B[0m \u001B[38;5;66;03m# Initialize extension and backend first\u001B[39;00m\n\u001B[0;32m----> 2\u001B[0m \u001B[38;5;28;01mfrom\u001B[39;00m \u001B[38;5;21;01m.\u001B[39;00m \u001B[38;5;28;01mimport\u001B[39;00m _extension  \u001B[38;5;66;03m# noqa  # usort: skip\u001B[39;00m\n\u001B[1;32m      3\u001B[0m \u001B[38;5;28;01mfrom\u001B[39;00m \u001B[38;5;21;01m.\u001B[39;00m\u001B[38;5;21;01m_backend\u001B[39;00m \u001B[38;5;28;01mimport\u001B[39;00m (  \u001B[38;5;66;03m# noqa  # usort: skip\u001B[39;00m\n\u001B[1;32m      4\u001B[0m     AudioMetaData,\n\u001B[1;32m      5\u001B[0m     get_audio_backend,\n\u001B[0;32m   (...)\u001B[0m\n\u001B[1;32m     10\u001B[0m     set_audio_backend,\n\u001B[1;32m     11\u001B[0m )\n\u001B[1;32m     13\u001B[0m \u001B[38;5;28;01mfrom\u001B[39;00m \u001B[38;5;21;01m.\u001B[39;00m \u001B[38;5;28;01mimport\u001B[39;00m (  \u001B[38;5;66;03m# noqa: F401\u001B[39;00m\n\u001B[1;32m     14\u001B[0m     compliance,\n\u001B[1;32m     15\u001B[0m     datasets,\n\u001B[0;32m   (...)\u001B[0m\n\u001B[1;32m     23\u001B[0m     utils,\n\u001B[1;32m     24\u001B[0m )\n",
      "File \u001B[0;32m/Library/Python/3.9/site-packages/torchaudio/_extension/__init__.py:38\u001B[0m\n\u001B[1;32m     36\u001B[0m _IS_ALIGN_AVAILABLE \u001B[38;5;241m=\u001B[39m \u001B[38;5;28;01mFalse\u001B[39;00m\n\u001B[1;32m     37\u001B[0m \u001B[38;5;28;01mif\u001B[39;00m _IS_TORCHAUDIO_EXT_AVAILABLE:\n\u001B[0;32m---> 38\u001B[0m     \u001B[43m_load_lib\u001B[49m\u001B[43m(\u001B[49m\u001B[38;5;124;43m\"\u001B[39;49m\u001B[38;5;124;43mlibtorchaudio\u001B[39;49m\u001B[38;5;124;43m\"\u001B[39;49m\u001B[43m)\u001B[49m\n\u001B[1;32m     40\u001B[0m     \u001B[38;5;28;01mimport\u001B[39;00m \u001B[38;5;21;01mtorchaudio\u001B[39;00m\u001B[38;5;21;01m.\u001B[39;00m\u001B[38;5;21;01mlib\u001B[39;00m\u001B[38;5;21;01m.\u001B[39;00m\u001B[38;5;21;01m_torchaudio\u001B[39;00m  \u001B[38;5;66;03m# noqa\u001B[39;00m\n\u001B[1;32m     42\u001B[0m     _check_cuda_version()\n",
      "File \u001B[0;32m/Library/Python/3.9/site-packages/torchaudio/_extension/utils.py:60\u001B[0m, in \u001B[0;36m_load_lib\u001B[0;34m(lib)\u001B[0m\n\u001B[1;32m     58\u001B[0m \u001B[38;5;28;01mif\u001B[39;00m \u001B[38;5;129;01mnot\u001B[39;00m path\u001B[38;5;241m.\u001B[39mexists():\n\u001B[1;32m     59\u001B[0m     \u001B[38;5;28;01mreturn\u001B[39;00m \u001B[38;5;28;01mFalse\u001B[39;00m\n\u001B[0;32m---> 60\u001B[0m \u001B[43mtorch\u001B[49m\u001B[38;5;241;43m.\u001B[39;49m\u001B[43mops\u001B[49m\u001B[38;5;241;43m.\u001B[39;49m\u001B[43mload_library\u001B[49m\u001B[43m(\u001B[49m\u001B[43mpath\u001B[49m\u001B[43m)\u001B[49m\n\u001B[1;32m     61\u001B[0m \u001B[38;5;28;01mreturn\u001B[39;00m \u001B[38;5;28;01mTrue\u001B[39;00m\n",
      "File \u001B[0;32m~/Library/Python/3.9/lib/python/site-packages/torch/_ops.py:1357\u001B[0m, in \u001B[0;36m_Ops.load_library\u001B[0;34m(self, path)\u001B[0m\n\u001B[1;32m   1352\u001B[0m path \u001B[38;5;241m=\u001B[39m _utils_internal\u001B[38;5;241m.\u001B[39mresolve_library_path(path)\n\u001B[1;32m   1353\u001B[0m \u001B[38;5;28;01mwith\u001B[39;00m dl_open_guard():\n\u001B[1;32m   1354\u001B[0m     \u001B[38;5;66;03m# Import the shared library into the process, thus running its\u001B[39;00m\n\u001B[1;32m   1355\u001B[0m     \u001B[38;5;66;03m# static (global) initialization code in order to register custom\u001B[39;00m\n\u001B[1;32m   1356\u001B[0m     \u001B[38;5;66;03m# operators with the JIT.\u001B[39;00m\n\u001B[0;32m-> 1357\u001B[0m     \u001B[43mctypes\u001B[49m\u001B[38;5;241;43m.\u001B[39;49m\u001B[43mCDLL\u001B[49m\u001B[43m(\u001B[49m\u001B[43mpath\u001B[49m\u001B[43m)\u001B[49m\n\u001B[1;32m   1358\u001B[0m \u001B[38;5;28mself\u001B[39m\u001B[38;5;241m.\u001B[39mloaded_libraries\u001B[38;5;241m.\u001B[39madd(path)\n",
      "File \u001B[0;32m/Applications/Xcode.app/Contents/Developer/Library/Frameworks/Python3.framework/Versions/3.9/lib/python3.9/ctypes/__init__.py:366\u001B[0m, in \u001B[0;36mCDLL.__init__\u001B[0;34m(self, name, mode, handle, use_errno, use_last_error, winmode)\u001B[0m\n\u001B[1;32m    363\u001B[0m \u001B[38;5;28mself\u001B[39m\u001B[38;5;241m.\u001B[39m_FuncPtr \u001B[38;5;241m=\u001B[39m _FuncPtr\n\u001B[1;32m    365\u001B[0m \u001B[38;5;28;01mif\u001B[39;00m handle \u001B[38;5;129;01mis\u001B[39;00m \u001B[38;5;28;01mNone\u001B[39;00m:\n\u001B[0;32m--> 366\u001B[0m     \u001B[38;5;28mself\u001B[39m\u001B[38;5;241m.\u001B[39m_handle \u001B[38;5;241m=\u001B[39m \u001B[43m_dlopen\u001B[49m\u001B[43m(\u001B[49m\u001B[38;5;28;43mself\u001B[39;49m\u001B[38;5;241;43m.\u001B[39;49m\u001B[43m_name\u001B[49m\u001B[43m,\u001B[49m\u001B[43m \u001B[49m\u001B[43mmode\u001B[49m\u001B[43m)\u001B[49m\n\u001B[1;32m    367\u001B[0m \u001B[38;5;28;01melse\u001B[39;00m:\n\u001B[1;32m    368\u001B[0m     \u001B[38;5;28mself\u001B[39m\u001B[38;5;241m.\u001B[39m_handle \u001B[38;5;241m=\u001B[39m handle\n",
      "\u001B[0;31mOSError\u001B[0m: dlopen(/Library/Python/3.9/site-packages/torchaudio/lib/libtorchaudio.so, 0x0006): Symbol not found: __ZN2at4_ops9fft_irfft4callERKNS_6TensorENSt3__18optionalIN3c106SymIntEEExNS6_INS7_17basic_string_viewIcEEEE\n  Referenced from: <7CB27178-9CF6-3B2E-BBB0-528F29A2DEBB> /Library/Python/3.9/site-packages/torchaudio/lib/libtorchaudio.so\n  Expected in:     <D983C0C6-7C01-3D9C-A96B-07BB20D2CE66> /Users/roeeseren/Library/Python/3.9/lib/python/site-packages/torch/lib/libtorch_cpu.dylib"
     ]
    }
   ],
   "source": [
    "import os\n",
    "import numpy as np\n",
    "import torch\n",
    "import torch.nn as nn\n",
    "from torch.utils.data import Dataset, DataLoader\n",
    "import librosa\n",
    "import datasets\n",
    "import pandas as pd\n",
    "import librosa\n",
    "import kagglehub\n",
    "from wavencoder.models.rawnet import RawNet2Model\n",
    "import torch.optim as optim"
   ]
  },
  {
   "cell_type": "code",
   "execution_count": 33,
   "outputs": [],
   "source": [
    "from utils import load_protocol, plot_results\n",
    "import data_utils\n",
    "import audio_utils\n",
    "import train_utils"
   ],
   "metadata": {
    "collapsed": false,
    "ExecuteTime": {
     "end_time": "2025-02-03T17:16:58.068732Z",
     "start_time": "2025-02-03T17:16:58.061295Z"
    }
   }
  },
  {
   "cell_type": "code",
   "source": [
    "# Find the strongest available GPU\n",
    "if torch.cuda.is_available():\n",
    "    device = torch.device(f'cuda:{torch.cuda.device_count() - 1}')\n",
    "elif torch.mps.is_available():\n",
    "    device = torch.device('mps')\n",
    "else:\n",
    "    device = torch.device('cpu')\n",
    "\n",
    "print(f\"Using device: {device}\")"
   ],
   "metadata": {
    "colab": {
     "base_uri": "https://localhost:8080/"
    },
    "id": "5vTJkpvwguWC",
    "outputId": "779e59d8-921d-497a-f42f-4baf9687410c",
    "ExecuteTime": {
     "end_time": "2025-02-03T17:05:37.301364Z",
     "start_time": "2025-02-03T17:05:37.294907Z"
    }
   },
   "execution_count": 22,
   "outputs": [
    {
     "name": "stdout",
     "output_type": "stream",
     "text": [
      "Using device: mps\n"
     ]
    }
   ]
  },
  {
   "cell_type": "code",
   "execution_count": 23,
   "metadata": {
    "id": "huGZHRPWVCFm",
    "colab": {
     "base_uri": "https://localhost:8080/"
    },
    "outputId": "cb3c8dff-c19e-4655-feda-b69384bba72e",
    "ExecuteTime": {
     "end_time": "2025-02-03T17:05:38.182050Z",
     "start_time": "2025-02-03T17:05:38.173150Z"
    }
   },
   "outputs": [],
   "source": [
    "dataset_path = data_utils.get_data()"
   ]
  },
  {
   "cell_type": "code",
   "execution_count": 24,
   "metadata": {
    "id": "m7N0Sy9A-gyC",
    "colab": {
     "base_uri": "https://localhost:8080/",
     "height": 206
    },
    "outputId": "440d7dd8-684b-4b92-a723-8b2213b21314",
    "ExecuteTime": {
     "end_time": "2025-02-03T17:05:41.799232Z",
     "start_time": "2025-02-03T17:05:41.779438Z"
    }
   },
   "outputs": [],
   "source": [
    "col_names = ['speaker', 'file_name', 'attack', 'label']\n",
    "protocols_folder = \"LA/LA/ASVspoof2019_LA_cm_protocols\"\n",
    "protocol_file_prefix = \"ASVspoof2019.LA.cm\"\n",
    "\n",
    "data_info_train_file_path = f\"{dataset_path}/{protocols_folder}/{protocol_file_prefix}.train.trn.txt\"\n",
    "data_info_val_file_path = f\"{dataset_path}/{protocols_folder}/{protocol_file_prefix}.dev.trl.txt\"\n",
    "data_info_test_file_path = f\"{dataset_path}/{protocols_folder}/{protocol_file_prefix}.eval.trl.txt\""
   ]
  },
  {
   "cell_type": "code",
   "execution_count": 25,
   "outputs": [],
   "source": [
    "train_df_info = load_protocol(data_info_train_file_path, names=col_names)\n",
    "val_df_info = load_protocol(data_info_train_file_path, names=col_names)\n",
    "test_df_info = load_protocol(data_info_train_file_path, names=col_names)"
   ],
   "metadata": {
    "collapsed": false,
    "ExecuteTime": {
     "end_time": "2025-02-03T17:05:42.837013Z",
     "start_time": "2025-02-03T17:05:42.779437Z"
    }
   }
  },
  {
   "cell_type": "code",
   "execution_count": 26,
   "metadata": {
    "id": "F4ckJPoh_Rfj",
    "ExecuteTime": {
     "end_time": "2025-02-03T17:05:43.684476Z",
     "start_time": "2025-02-03T17:05:43.667406Z"
    }
   },
   "outputs": [
    {
     "name": "stdout",
     "output_type": "stream",
     "text": [
      "      file_name label\n",
      "0  LA_T_1138215     0\n",
      "1  LA_T_1271820     0\n",
      "2  LA_T_1272637     0\n",
      "3  LA_T_1276960     0\n",
      "4  LA_T_1341447     0\n",
      "      file_name label\n",
      "0  LA_T_1138215     0\n",
      "1  LA_T_1271820     0\n",
      "2  LA_T_1272637     0\n",
      "3  LA_T_1276960     0\n",
      "4  LA_T_1341447     0\n",
      "      file_name label\n",
      "0  LA_T_1138215     0\n",
      "1  LA_T_1271820     0\n",
      "2  LA_T_1272637     0\n",
      "3  LA_T_1276960     0\n",
      "4  LA_T_1341447     0\n"
     ]
    }
   ],
   "source": [
    "train_df = data_utils.process_data_frame(train_df_info)\n",
    "val_df = data_utils.process_data_frame(val_df_info)\n",
    "test_df = data_utils.process_data_frame(test_df_info)"
   ]
  },
  {
   "cell_type": "markdown",
   "metadata": {
    "id": "21JApraypKkB"
   },
   "source": [
    "Fit data to model"
   ]
  },
  {
   "cell_type": "code",
   "execution_count": 28,
   "metadata": {
    "id": "1w7dWo8GybM7",
    "ExecuteTime": {
     "end_time": "2025-02-03T17:07:14.995114Z",
     "start_time": "2025-02-03T17:07:14.957015Z"
    }
   },
   "outputs": [
    {
     "ename": "NameError",
     "evalue": "name 'RawNet2Model' is not defined",
     "output_type": "error",
     "traceback": [
      "\u001B[0;31m---------------------------------------------------------------------------\u001B[0m",
      "\u001B[0;31mNameError\u001B[0m                                 Traceback (most recent call last)",
      "Cell \u001B[0;32mIn[28], line 1\u001B[0m\n\u001B[0;32m----> 1\u001B[0m \u001B[38;5;28;01mclass\u001B[39;00m \u001B[38;5;21;01mModifiedRawNet2Model\u001B[39;00m(\u001B[43mRawNet2Model\u001B[49m):\n\u001B[1;32m      2\u001B[0m     \u001B[38;5;28;01mdef\u001B[39;00m \u001B[38;5;21m__init__\u001B[39m(\u001B[38;5;28mself\u001B[39m, pretrained\u001B[38;5;241m=\u001B[39m\u001B[38;5;28;01mTrue\u001B[39;00m, pretrained_path\u001B[38;5;241m=\u001B[39m\u001B[38;5;28;01mNone\u001B[39;00m, device\u001B[38;5;241m=\u001B[39m\u001B[38;5;124m\"\u001B[39m\u001B[38;5;124mcpu\u001B[39m\u001B[38;5;124m\"\u001B[39m):\n\u001B[1;32m      3\u001B[0m         \u001B[38;5;28msuper\u001B[39m()\u001B[38;5;241m.\u001B[39m\u001B[38;5;21m__init__\u001B[39m(pretrained\u001B[38;5;241m=\u001B[39mpretrained, class_dim\u001B[38;5;241m=\u001B[39m\u001B[38;5;241m1\u001B[39m, pretrained_path\u001B[38;5;241m=\u001B[39mpretrained_path, device\u001B[38;5;241m=\u001B[39mdevice, return_code\u001B[38;5;241m=\u001B[39m\u001B[38;5;28;01mFalse\u001B[39;00m)\n",
      "\u001B[0;31mNameError\u001B[0m: name 'RawNet2Model' is not defined"
     ]
    }
   ],
   "source": [
    "class ModifiedRawNet2Model(RawNet2Model):\n",
    "    def __init__(self, pretrained=True, pretrained_path=None, device=\"cpu\"):\n",
    "        super().__init__(pretrained=pretrained, class_dim=1, pretrained_path=pretrained_path, device=device, return_code=False)\n",
    "        # class_dim=1 ensures the output is a single scalar (logit)\n",
    "\n",
    "    def forward(self, x):\n",
    "        x = super().forward(x)  # Pass input through RawNet2Model\n",
    "        x = torch.sigmoid(x)    # Apply sigmoid for binary classification\n",
    "        return x"
   ]
  },
  {
   "cell_type": "code",
   "execution_count": 16,
   "metadata": {
    "id": "09E11IEruNoU",
    "colab": {
     "base_uri": "https://localhost:8080/"
    },
    "outputId": "393e08f6-cb03-40b7-9c62-e0627e1004a4"
   },
   "outputs": [
    {
     "output_type": "stream",
     "name": "stderr",
     "text": [
      "/usr/local/lib/python3.11/dist-packages/wavencoder/models/rawnet.py:209: FutureWarning: You are using `torch.load` with `weights_only=False` (the current default value), which uses the default pickle module implicitly. It is possible to construct malicious pickle data which will execute arbitrary code during unpickling (See https://github.com/pytorch/pytorch/blob/main/SECURITY.md#untrusted-models for more details). In a future release, the default value for `weights_only` will be flipped to `True`. This limits the functions that could be executed during unpickling. Arbitrary objects will no longer be allowed to be loaded via this mode unless they are explicitly allowlisted by the user via `torch.serialization.add_safe_globals`. We recommend you start setting `weights_only=True` for any use case where you don't have full control of the loaded file. Please open an issue on GitHub for any issues related to this experimental feature.\n",
      "  cp = torch.load(pretrained_path, map_location=self.device)\n"
     ]
    },
    {
     "output_type": "stream",
     "name": "stdout",
     "text": [
      "Unfreesing: encoder.fc2_gru\n"
     ]
    },
    {
     "output_type": "execute_result",
     "data": {
      "text/plain": [
       "ModifiedRawNet2Model(\n",
       "  (encoder): RawNet2(\n",
       "    (ln): LayerNorm()\n",
       "    (first_conv): SincConvLayer()\n",
       "    (first_bn): BatchNorm1d(128, eps=1e-05, momentum=0.1, affine=True, track_running_stats=True)\n",
       "    (lrelu): LeakyReLU(negative_slope=0.01)\n",
       "    (lrelu_keras): LeakyReLU(negative_slope=0.3)\n",
       "    (block0): Sequential(\n",
       "      (0): Residual_block_wFRM(\n",
       "        (lrelu): LeakyReLU(negative_slope=0.01)\n",
       "        (lrelu_keras): LeakyReLU(negative_slope=0.3)\n",
       "        (conv1): Conv1d(128, 128, kernel_size=(3,), stride=(1,), padding=(1,))\n",
       "        (bn2): BatchNorm1d(128, eps=1e-05, momentum=0.1, affine=True, track_running_stats=True)\n",
       "        (conv2): Conv1d(128, 128, kernel_size=(3,), stride=(1,), padding=(1,))\n",
       "        (mp): MaxPool1d(kernel_size=3, stride=3, padding=0, dilation=1, ceil_mode=False)\n",
       "        (frm): FRM(\n",
       "          (fc): Linear(in_features=128, out_features=128, bias=True)\n",
       "          (sig): Sigmoid()\n",
       "        )\n",
       "      )\n",
       "    )\n",
       "    (block1): Sequential(\n",
       "      (0): Residual_block_wFRM(\n",
       "        (bn1): BatchNorm1d(128, eps=1e-05, momentum=0.1, affine=True, track_running_stats=True)\n",
       "        (lrelu): LeakyReLU(negative_slope=0.01)\n",
       "        (lrelu_keras): LeakyReLU(negative_slope=0.3)\n",
       "        (conv1): Conv1d(128, 128, kernel_size=(3,), stride=(1,), padding=(1,))\n",
       "        (bn2): BatchNorm1d(128, eps=1e-05, momentum=0.1, affine=True, track_running_stats=True)\n",
       "        (conv2): Conv1d(128, 128, kernel_size=(3,), stride=(1,), padding=(1,))\n",
       "        (mp): MaxPool1d(kernel_size=3, stride=3, padding=0, dilation=1, ceil_mode=False)\n",
       "        (frm): FRM(\n",
       "          (fc): Linear(in_features=128, out_features=128, bias=True)\n",
       "          (sig): Sigmoid()\n",
       "        )\n",
       "      )\n",
       "    )\n",
       "    (block2): Sequential(\n",
       "      (0): Residual_block_wFRM(\n",
       "        (bn1): BatchNorm1d(128, eps=1e-05, momentum=0.1, affine=True, track_running_stats=True)\n",
       "        (lrelu): LeakyReLU(negative_slope=0.01)\n",
       "        (lrelu_keras): LeakyReLU(negative_slope=0.3)\n",
       "        (conv1): Conv1d(128, 256, kernel_size=(3,), stride=(1,), padding=(1,))\n",
       "        (bn2): BatchNorm1d(256, eps=1e-05, momentum=0.1, affine=True, track_running_stats=True)\n",
       "        (conv2): Conv1d(256, 256, kernel_size=(3,), stride=(1,), padding=(1,))\n",
       "        (conv_downsample): Conv1d(128, 256, kernel_size=(1,), stride=(1,))\n",
       "        (mp): MaxPool1d(kernel_size=3, stride=3, padding=0, dilation=1, ceil_mode=False)\n",
       "        (frm): FRM(\n",
       "          (fc): Linear(in_features=256, out_features=256, bias=True)\n",
       "          (sig): Sigmoid()\n",
       "        )\n",
       "      )\n",
       "    )\n",
       "    (block3): Sequential(\n",
       "      (0): Residual_block_wFRM(\n",
       "        (bn1): BatchNorm1d(256, eps=1e-05, momentum=0.1, affine=True, track_running_stats=True)\n",
       "        (lrelu): LeakyReLU(negative_slope=0.01)\n",
       "        (lrelu_keras): LeakyReLU(negative_slope=0.3)\n",
       "        (conv1): Conv1d(256, 256, kernel_size=(3,), stride=(1,), padding=(1,))\n",
       "        (bn2): BatchNorm1d(256, eps=1e-05, momentum=0.1, affine=True, track_running_stats=True)\n",
       "        (conv2): Conv1d(256, 256, kernel_size=(3,), stride=(1,), padding=(1,))\n",
       "        (mp): MaxPool1d(kernel_size=3, stride=3, padding=0, dilation=1, ceil_mode=False)\n",
       "        (frm): FRM(\n",
       "          (fc): Linear(in_features=256, out_features=256, bias=True)\n",
       "          (sig): Sigmoid()\n",
       "        )\n",
       "      )\n",
       "    )\n",
       "    (block4): Sequential(\n",
       "      (0): Residual_block_wFRM(\n",
       "        (bn1): BatchNorm1d(256, eps=1e-05, momentum=0.1, affine=True, track_running_stats=True)\n",
       "        (lrelu): LeakyReLU(negative_slope=0.01)\n",
       "        (lrelu_keras): LeakyReLU(negative_slope=0.3)\n",
       "        (conv1): Conv1d(256, 256, kernel_size=(3,), stride=(1,), padding=(1,))\n",
       "        (bn2): BatchNorm1d(256, eps=1e-05, momentum=0.1, affine=True, track_running_stats=True)\n",
       "        (conv2): Conv1d(256, 256, kernel_size=(3,), stride=(1,), padding=(1,))\n",
       "        (mp): MaxPool1d(kernel_size=3, stride=3, padding=0, dilation=1, ceil_mode=False)\n",
       "        (frm): FRM(\n",
       "          (fc): Linear(in_features=256, out_features=256, bias=True)\n",
       "          (sig): Sigmoid()\n",
       "        )\n",
       "      )\n",
       "    )\n",
       "    (block5): Sequential(\n",
       "      (0): Residual_block_wFRM(\n",
       "        (bn1): BatchNorm1d(256, eps=1e-05, momentum=0.1, affine=True, track_running_stats=True)\n",
       "        (lrelu): LeakyReLU(negative_slope=0.01)\n",
       "        (lrelu_keras): LeakyReLU(negative_slope=0.3)\n",
       "        (conv1): Conv1d(256, 256, kernel_size=(3,), stride=(1,), padding=(1,))\n",
       "        (bn2): BatchNorm1d(256, eps=1e-05, momentum=0.1, affine=True, track_running_stats=True)\n",
       "        (conv2): Conv1d(256, 256, kernel_size=(3,), stride=(1,), padding=(1,))\n",
       "        (mp): MaxPool1d(kernel_size=3, stride=3, padding=0, dilation=1, ceil_mode=False)\n",
       "        (frm): FRM(\n",
       "          (fc): Linear(in_features=256, out_features=256, bias=True)\n",
       "          (sig): Sigmoid()\n",
       "        )\n",
       "      )\n",
       "    )\n",
       "    (avgpool): AdaptiveAvgPool1d(output_size=1)\n",
       "    (bn_before_gru): BatchNorm1d(256, eps=1e-05, momentum=0.1, affine=True, track_running_stats=True)\n",
       "    (gru): GRU(256, 1024, batch_first=True)\n",
       "    (fc1_gru): Linear(in_features=1024, out_features=1024, bias=True)\n",
       "    (fc2_gru): Linear(in_features=1024, out_features=1, bias=True)\n",
       "  )\n",
       ")"
      ]
     },
     "metadata": {},
     "execution_count": 16
    }
   ],
   "source": [
    "model = ModifiedRawNet2Model(pretrained = True, pretrained_path=\"./rawnet2_best_weights.pt\", device=device)\n",
    "\n",
    "# Freeze all layers\n",
    "for param in model.parameters():\n",
    "    param.requires_grad = False\n",
    "\n",
    "# Unfreeze fc2_gru\n",
    "for name, module in model.named_modules():\n",
    "  if 'fc2_gru' in name: # Check if it's a linear layer and its name ends with 'fc'\n",
    "    print(f\"Unfreesing: {name}\")\n",
    "    for param in module.parameters():\n",
    "      param.requires_grad = True\n",
    "    break # Stop after unfreezing the first matching layer\n",
    "\n",
    "model.to(device)"
   ]
  },
  {
   "cell_type": "code",
   "execution_count": null,
   "metadata": {
    "collapsed": true,
    "id": "wseVFyHHmgq3"
   },
   "outputs": [],
   "source": [
    "for name, param in model.named_parameters():\n",
    "    print(f\"{name}: requires_grad={param.requires_grad}\")"
   ]
  },
  {
   "cell_type": "code",
   "execution_count": 27,
   "metadata": {
    "id": "OVfR8aHUxAqI"
   },
   "outputs": [],
   "source": [
    "# HYPER PARAMETERS\n",
    "BATCH_SIZE = 128\n",
    "EPOCHS = 10\n",
    "LEARNING_RATE = 0.001\n",
    "criterion = nn.BCEWithLogitsLoss()\n",
    "optimizer = optim.Adam(model.parameters(), lr=LEARNING_RATE)"
   ]
  },
  {
   "cell_type": "code",
   "execution_count": 24,
   "metadata": {
    "id": "syj-Ya_mv3r7"
   },
   "outputs": [],
   "source": [
    "train_dataset = audio_utils.AudioDataset(train_df, data_dir=f\"{dataset_path}/LA/LA/ASVspoof2019_LA_train/flac\")\n",
    "val_dataset = audio_utils.AudioDataset(val_df, data_dir=f\"{dataset_path}/LA/LA/ASVspoof2019_LA_dev/flac\")\n",
    "test_dataset = audio_utils.AudioDataset(test_df, data_dir=f\"{dataset_path}/LA/LA/ASVspoof2019_LA_eval/flac\")"
   ]
  },
  {
   "cell_type": "code",
   "execution_count": 28,
   "metadata": {
    "id": "TNHXjpPQwRTN",
    "colab": {
     "base_uri": "https://localhost:8080/",
     "height": 1000
    },
    "outputId": "77954705-6b28-436d-b73a-6585fc40c2e6"
   },
   "outputs": [
    {
     "output_type": "stream",
     "name": "stdout",
     "text": [
      "iteration number: 0 finished\n",
      "iteration number: 50 finished\n",
      "iteration number: 100 finished\n",
      "iteration number: 150 finished\n",
      "Epoch [1/10], Loss: 0.2904, Accuracy: 88.25%\n",
      "iteration number: 0 finished\n",
      "iteration number: 50 finished\n",
      "iteration number: 100 finished\n",
      "iteration number: 150 finished\n",
      "Epoch [2/10], Loss: 0.2847, Accuracy: 89.83%\n",
      "iteration number: 0 finished\n",
      "iteration number: 50 finished\n",
      "iteration number: 100 finished\n",
      "iteration number: 150 finished\n",
      "Epoch [3/10], Loss: 0.2817, Accuracy: 88.16%\n",
      "iteration number: 0 finished\n",
      "iteration number: 50 finished\n",
      "iteration number: 100 finished\n",
      "iteration number: 150 finished\n",
      "Epoch [4/10], Loss: 0.2784, Accuracy: 89.83%\n",
      "iteration number: 0 finished\n",
      "iteration number: 50 finished\n",
      "iteration number: 100 finished\n",
      "iteration number: 150 finished\n",
      "Epoch [5/10], Loss: 0.2757, Accuracy: 89.39%\n",
      "iteration number: 0 finished\n",
      "iteration number: 50 finished\n",
      "iteration number: 100 finished\n",
      "iteration number: 150 finished\n",
      "Epoch [6/10], Loss: 0.2736, Accuracy: 88.56%\n",
      "iteration number: 0 finished\n",
      "iteration number: 50 finished\n",
      "iteration number: 100 finished\n",
      "iteration number: 150 finished\n",
      "Epoch [7/10], Loss: 0.2726, Accuracy: 89.42%\n",
      "iteration number: 0 finished\n",
      "iteration number: 50 finished\n",
      "iteration number: 100 finished\n",
      "iteration number: 150 finished\n",
      "Epoch [8/10], Loss: 0.2712, Accuracy: 89.46%\n",
      "iteration number: 0 finished\n",
      "iteration number: 50 finished\n",
      "iteration number: 100 finished\n",
      "iteration number: 150 finished\n",
      "Epoch [9/10], Loss: 0.2688, Accuracy: 89.11%\n",
      "iteration number: 0 finished\n",
      "iteration number: 50 finished\n",
      "iteration number: 100 finished\n",
      "iteration number: 150 finished\n",
      "Epoch [10/10], Loss: 0.2692, Accuracy: 89.40%\n"
     ]
    },
    {
     "output_type": "display_data",
     "data": {
      "text/plain": [
       "<Figure size 1200x500 with 2 Axes>"
      ],
      "image/png": "[encoded data removed]"
     },
     "metadata": {}
    }
   ],
   "source": [
    "train_loader = DataLoader(train_dataset, batch_size=BATCH_SIZE, shuffle=True)\n",
    "val_loader = DataLoader(val_dataset, batch_size=BATCH_SIZE, shuffle=False)\n",
    "\n",
    "last_val_accuracy, best_val, history = train_utils.train_model(model, train_loader, val_loader, criterion, optimizer, EPOCHS, device)"
   ]
  },
  {
   "cell_type": "code",
   "source": [
    "plot_results(history['train_loss'], history['train_accuracy'], EPOCHS)"
   ],
   "metadata": {
    "colab": {
     "base_uri": "https://localhost:8080/",
     "height": 507
    },
    "id": "Ijt2yVwKDf9E",
    "outputId": "d0894f0c-36fa-45eb-8a52-85a8dd8c2724",
    "ExecuteTime": {
     "end_time": "2025-01-31T17:50:04.254461Z",
     "start_time": "2025-01-31T17:50:04.094789Z"
    }
   },
   "execution_count": 4,
   "outputs": [
    {
     "ename": "ImportError",
     "evalue": "cannot import name 'plot_results' from 'utils' (/Users/roeeseren/Documents/semester-seven/deep-learning/project/utils.py)",
     "output_type": "error",
     "traceback": [
      "\u001B[0;31m---------------------------------------------------------------------------\u001B[0m",
      "\u001B[0;31mImportError\u001B[0m                               Traceback (most recent call last)",
      "Cell \u001B[0;32mIn[4], line 25\u001B[0m\n\u001B[1;32m      1\u001B[0m \u001B[38;5;66;03m# # Visualize loss and accuracy after training\u001B[39;00m\n\u001B[1;32m      2\u001B[0m \u001B[38;5;66;03m# plt.figure(figsize=(12, 5))\u001B[39;00m\n\u001B[1;32m      3\u001B[0m \u001B[38;5;66;03m# \u001B[39;00m\n\u001B[0;32m   (...)\u001B[0m\n\u001B[1;32m     22\u001B[0m \u001B[38;5;66;03m# plt.tight_layout()\u001B[39;00m\n\u001B[1;32m     23\u001B[0m \u001B[38;5;66;03m# plt.show()\u001B[39;00m\n\u001B[0;32m---> 25\u001B[0m \u001B[38;5;28;01mfrom\u001B[39;00m \u001B[38;5;21;01mutils\u001B[39;00m \u001B[38;5;28;01mimport\u001B[39;00m plot_results\n\u001B[1;32m     27\u001B[0m plot_results(epoch_losses, epoch_accuracies, EPOCHS)\n",
      "\u001B[0;31mImportError\u001B[0m: cannot import name 'plot_results' from 'utils' (/Users/roeeseren/Documents/semester-seven/deep-learning/project/utils.py)"
     ]
    }
   ]
  },
  {
   "cell_type": "markdown",
   "source": [
    "Evaluate model on test"
   ],
   "metadata": {
    "id": "dHHMbYUz_yGv"
   }
  },
  {
   "cell_type": "code",
   "source": [
    "test_dataloader = DataLoader(test_dataset, batch_size=BATCH_SIZE, shuffle=True, num_workers=2)"
   ],
   "metadata": {
    "id": "QbQIEa5qC1dK"
   },
   "execution_count": 42,
   "outputs": []
  },
  {
   "cell_type": "code",
   "source": [
    "print(f\"Test Results: {train_utils.evaluate_model(model, test_dataloader, criterion, device)}\")"
   ],
   "metadata": {
    "colab": {
     "base_uri": "https://localhost:8080/"
    },
    "id": "x_jFrET_C0E6",
    "outputId": "3bfe669a-69a2-4ff8-f4f9-508ddaa5409c"
   },
   "execution_count": 43,
   "outputs": [
    {
     "output_type": "stream",
     "name": "stdout",
     "text": [
      "Evaluation Accuracy: 90.31%\n"
     ]
    }
   ]
  },
  {
   "cell_type": "code",
   "execution_count": 34,
   "outputs": [
    {
     "ename": "NameError",
     "evalue": "name 'model' is not defined",
     "output_type": "error",
     "traceback": [
      "\u001B[0;31m---------------------------------------------------------------------------\u001B[0m",
      "\u001B[0;31mNameError\u001B[0m                                 Traceback (most recent call last)",
      "Cell \u001B[0;32mIn[34], line 2\u001B[0m\n\u001B[1;32m      1\u001B[0m \u001B[38;5;66;03m# Export to file\u001B[39;00m\n\u001B[0;32m----> 2\u001B[0m torch\u001B[38;5;241m.\u001B[39msave(\u001B[43mmodel\u001B[49m\u001B[38;5;241m.\u001B[39mstate_dict(), \u001B[38;5;124m\"\u001B[39m\u001B[38;5;124mtrained_models/rawnet_model_weights.pth\u001B[39m\u001B[38;5;124m\"\u001B[39m)\n",
      "\u001B[0;31mNameError\u001B[0m: name 'model' is not defined"
     ]
    }
   ],
   "source": [
    "# Export to file\n",
    "torch.save(model.state_dict(), \"trained_models/rawnet_model_weights.pth\")"
   ],
   "metadata": {
    "collapsed": false,
    "ExecuteTime": {
     "end_time": "2025-02-03T20:10:01.372498Z",
     "start_time": "2025-02-03T20:10:00.929248Z"
    }
   }
  },
  {
   "cell_type": "code",
   "execution_count": null,
   "outputs": [],
   "source": [],
   "metadata": {
    "collapsed": false
   }
  }
 ],
 "metadata": {
  "accelerator": "GPU",
  "colab": {
   "gpuType": "A100",
   "provenance": [],
   "machine_shape": "hm"
  },
  "kernelspec": {
   "name": "python3",
   "language": "python",
   "display_name": "Python 3 (ipykernel)"
  },
  "language_info": {
   "name": "python"
  }
 },
 "nbformat": 4,
 "nbformat_minor": 0
}
