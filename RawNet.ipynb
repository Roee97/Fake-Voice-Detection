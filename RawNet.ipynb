{
 "cells": [
  {
   "cell_type": "markdown",
   "metadata": {
    "id": "A0vC_v_apIP0"
   },
   "source": [
    "Imports"
   ]
  },
  {
   "cell_type": "code",
   "metadata": {
    "id": "4tt6YnkKmCn5",
    "ExecuteTime": {
     "end_time": "2025-02-07T08:59:50.963123Z",
     "start_time": "2025-02-07T08:59:47.727871Z"
    }
   },
   "source": [
    "import os\n",
    "\n",
    "import torch\n",
    "import torch.nn as nn\n",
    "from torch.utils.data import DataLoader\n",
    "import pandas as pd\n",
    "import torch.optim as optim\n",
    "import numpy as np\n",
    "import random"
   ],
   "outputs": [],
   "execution_count": 1
  },
  {
   "cell_type": "code",
   "source": [
    "from utils import load_protocol, plot_results\n",
    "import data_utils\n",
    "import audio_utils\n",
    "import train_utils\n",
    "from models.rawnet_modified import RawNet2BinaryClassifier"
   ],
   "metadata": {
    "collapsed": false,
    "ExecuteTime": {
     "end_time": "2025-02-07T08:59:57.443844Z",
     "start_time": "2025-02-07T08:59:51.001257Z"
    }
   },
   "outputs": [
    {
     "name": "stderr",
     "output_type": "stream",
     "text": [
      "C:\\Users\\roee2\\AppData\\Local\\Programs\\Python\\Python39\\lib\\site-packages\\tqdm\\auto.py:21: TqdmWarning: IProgress not found. Please update jupyter and ipywidgets. See https://ipywidgets.readthedocs.io/en/stable/user_install.html\n",
      "  from .autonotebook import tqdm as notebook_tqdm\n"
     ]
    }
   ],
   "execution_count": 2
  },
  {
   "cell_type": "code",
   "source": [
    "# Find the strongest available GPU\n",
    "if torch.cuda.is_available():\n",
    "    device = torch.device(f'cuda:{torch.cuda.device_count() - 1}')\n",
    "elif torch.mps.is_available():\n",
    "    device = torch.device('mps')\n",
    "else:\n",
    "    device = torch.device('cpu')\n",
    "\n",
    "print(f\"Using device: {device}\")"
   ],
   "metadata": {
    "colab": {
     "base_uri": "https://localhost:8080/"
    },
    "id": "5vTJkpvwguWC",
    "outputId": "779e59d8-921d-497a-f42f-4baf9687410c",
    "ExecuteTime": {
     "end_time": "2025-02-07T08:59:58.964109Z",
     "start_time": "2025-02-07T08:59:58.953996Z"
    }
   },
   "outputs": [
    {
     "name": "stdout",
     "output_type": "stream",
     "text": [
      "Using device: cuda:0\n"
     ]
    }
   ],
   "execution_count": 3
  },
  {
   "cell_type": "code",
   "metadata": {
    "id": "huGZHRPWVCFm",
    "colab": {
     "base_uri": "https://localhost:8080/"
    },
    "outputId": "cb3c8dff-c19e-4655-feda-b69384bba72e",
    "ExecuteTime": {
     "end_time": "2025-02-07T09:00:01.500676Z",
     "start_time": "2025-02-07T09:00:01.487486Z"
    }
   },
   "source": "dataset_path = data_utils.get_data()",
   "outputs": [],
   "execution_count": 4
  },
  {
   "cell_type": "code",
   "metadata": {
    "id": "m7N0Sy9A-gyC",
    "colab": {
     "base_uri": "https://localhost:8080/",
     "height": 206
    },
    "outputId": "440d7dd8-684b-4b92-a723-8b2213b21314",
    "ExecuteTime": {
     "end_time": "2025-02-07T09:00:03.561669Z",
     "start_time": "2025-02-07T09:00:03.549463Z"
    }
   },
   "source": [
    "col_names = ['speaker', 'file_name', 'attack', 'label']\n",
    "protocols_folder = \"LA\\\\LA\\\\ASVspoof2019_LA_cm_protocols\"\n",
    "protocol_file_prefix = \"ASVspoof2019.LA.cm\"\n",
    "\n",
    "data_info_train_file_path = f\"{dataset_path}\\\\{protocols_folder}\\\\{protocol_file_prefix}.train.trn.txt\"\n",
    "data_info_val_file_path = f\"{dataset_path}\\\\{protocols_folder}\\\\{protocol_file_prefix}.dev.trl.txt\"\n",
    "data_info_test_file_path = f\"{dataset_path}\\\\{protocols_folder}\\\\{protocol_file_prefix}.eval.trl.txt\""
   ],
   "outputs": [],
   "execution_count": 5
  },
  {
   "cell_type": "code",
   "source": [
    "train_df_info = load_protocol(data_info_train_file_path, names=col_names)\n",
    "val_df_info = load_protocol(data_info_val_file_path, names=col_names)\n",
    "test_df_info = load_protocol(data_info_test_file_path, names=col_names)"
   ],
   "metadata": {
    "collapsed": false,
    "ExecuteTime": {
     "end_time": "2025-02-07T09:00:06.516561Z",
     "start_time": "2025-02-07T09:00:06.380877Z"
    }
   },
   "outputs": [],
   "execution_count": 6
  },
  {
   "metadata": {
    "ExecuteTime": {
     "end_time": "2025-02-07T09:00:08.548052Z",
     "start_time": "2025-02-07T09:00:08.525101Z"
    }
   },
   "cell_type": "code",
   "source": "train_df_info['label'].value_counts()",
   "outputs": [
    {
     "data": {
      "text/plain": [
       "label\n",
       "spoof       22800\n",
       "bonafide     2580\n",
       "Name: count, dtype: int64"
      ]
     },
     "execution_count": 7,
     "metadata": {},
     "output_type": "execute_result"
    }
   ],
   "execution_count": 7
  },
  {
   "metadata": {
    "ExecuteTime": {
     "end_time": "2025-02-07T09:00:14.038204Z",
     "start_time": "2025-02-07T09:00:14.011545Z"
    }
   },
   "cell_type": "code",
   "source": [
    "bonafide_rows = train_df_info[train_df_info['label'] == 'bonafide']\n",
    "spoof_rows = train_df_info[train_df_info['label'] == 'spoof'].sample(n=len(bonafide_rows))\n",
    "\n",
    "train_df_info = pd.concat([bonafide_rows, spoof_rows], ignore_index=True)"
   ],
   "outputs": [],
   "execution_count": 8
  },
  {
   "metadata": {
    "ExecuteTime": {
     "end_time": "2025-02-07T09:00:15.868857Z",
     "start_time": "2025-02-07T09:00:15.849455Z"
    }
   },
   "cell_type": "code",
   "source": "train_df_info[['label']].value_counts()\n",
   "outputs": [
    {
     "data": {
      "text/plain": [
       "label   \n",
       "bonafide    2580\n",
       "spoof       2580\n",
       "Name: count, dtype: int64"
      ]
     },
     "execution_count": 9,
     "metadata": {},
     "output_type": "execute_result"
    }
   ],
   "execution_count": 9
  },
  {
   "cell_type": "code",
   "source": [
    "train_dir = f\"{dataset_path}\\\\LA\\\\LA\\\\ASVspoof2019_LA_train\\\\flac\"\n",
    "val_dir = f\"{dataset_path}\\\\LA\\\\LA\\\\ASVspoof2019_LA_dev\\\\flac\"\n",
    "test_dir = f\"{dataset_path}\\\\LA\\\\LA\\\\ASVspoof2019_LA_eval\\\\flac\""
   ],
   "metadata": {
    "collapsed": false,
    "ExecuteTime": {
     "end_time": "2025-02-07T09:00:18.194658Z",
     "start_time": "2025-02-07T09:00:18.180674Z"
    }
   },
   "outputs": [],
   "execution_count": 10
  },
  {
   "cell_type": "code",
   "source": [
    "train_df_info = audio_utils.add_augmentations(train_dir, train_df_info)"
   ],
   "metadata": {
    "collapsed": false,
    "ExecuteTime": {
     "end_time": "2025-02-07T09:02:06.042964Z",
     "start_time": "2025-02-07T09:01:27.077864Z"
    }
   },
   "outputs": [],
   "execution_count": 11
  },
  {
   "cell_type": "code",
   "metadata": {
    "id": "F4ckJPoh_Rfj",
    "ExecuteTime": {
     "end_time": "2025-02-07T09:02:12.988978Z",
     "start_time": "2025-02-07T09:02:12.684959Z"
    }
   },
   "source": [
    "train_df = data_utils.process_data_frame(train_dir, train_df_info)\n",
    "val_df = data_utils.process_data_frame(val_dir, val_df_info)\n",
    "test_df = data_utils.process_data_frame(test_dir, test_df_info)"
   ],
   "outputs": [
    {
     "name": "stdout",
     "output_type": "stream",
     "text": [
      "      file_name label\n",
      "0  LA_T_1138215     0\n",
      "1  LA_T_1271820     0\n",
      "2  LA_T_1272637     0\n",
      "3  LA_T_1276960     0\n",
      "4  LA_T_1341447     0\n",
      "      file_name label\n",
      "0  LA_D_1047731     0\n",
      "1  LA_D_1105538     0\n",
      "2  LA_D_1125976     0\n",
      "3  LA_D_1293230     0\n",
      "4  LA_D_1340209     0\n",
      "      file_name label\n",
      "0  LA_E_2834763     1\n",
      "1  LA_E_8877452     1\n",
      "2  LA_E_6828287     1\n",
      "3  LA_E_6977360     1\n",
      "4  LA_E_5932896     1\n"
     ]
    }
   ],
   "execution_count": 12
  },
  {
   "metadata": {
    "ExecuteTime": {
     "end_time": "2025-02-07T09:02:14.525880Z",
     "start_time": "2025-02-07T09:02:14.507541Z"
    }
   },
   "cell_type": "code",
   "source": "train_df.tail()",
   "outputs": [
    {
     "data": {
      "text/plain": [
       "             file_name label\n",
       "6445  aug_LA_T_1734632     1\n",
       "6446  aug_LA_T_3630477     1\n",
       "6447  aug_LA_T_4239283     0\n",
       "6448  aug_LA_T_7165182     0\n",
       "6449  aug_LA_T_1687721     1"
      ],
      "text/html": [
       "<div>\n",
       "<style scoped>\n",
       "    .dataframe tbody tr th:only-of-type {\n",
       "        vertical-align: middle;\n",
       "    }\n",
       "\n",
       "    .dataframe tbody tr th {\n",
       "        vertical-align: top;\n",
       "    }\n",
       "\n",
       "    .dataframe thead th {\n",
       "        text-align: right;\n",
       "    }\n",
       "</style>\n",
       "<table border=\"1\" class=\"dataframe\">\n",
       "  <thead>\n",
       "    <tr style=\"text-align: right;\">\n",
       "      <th></th>\n",
       "      <th>file_name</th>\n",
       "      <th>label</th>\n",
       "    </tr>\n",
       "  </thead>\n",
       "  <tbody>\n",
       "    <tr>\n",
       "      <th>6445</th>\n",
       "      <td>aug_LA_T_1734632</td>\n",
       "      <td>1</td>\n",
       "    </tr>\n",
       "    <tr>\n",
       "      <th>6446</th>\n",
       "      <td>aug_LA_T_3630477</td>\n",
       "      <td>1</td>\n",
       "    </tr>\n",
       "    <tr>\n",
       "      <th>6447</th>\n",
       "      <td>aug_LA_T_4239283</td>\n",
       "      <td>0</td>\n",
       "    </tr>\n",
       "    <tr>\n",
       "      <th>6448</th>\n",
       "      <td>aug_LA_T_7165182</td>\n",
       "      <td>0</td>\n",
       "    </tr>\n",
       "    <tr>\n",
       "      <th>6449</th>\n",
       "      <td>aug_LA_T_1687721</td>\n",
       "      <td>1</td>\n",
       "    </tr>\n",
       "  </tbody>\n",
       "</table>\n",
       "</div>"
      ]
     },
     "execution_count": 13,
     "metadata": {},
     "output_type": "execute_result"
    }
   ],
   "execution_count": 13
  },
  {
   "cell_type": "markdown",
   "metadata": {
    "id": "21JApraypKkB"
   },
   "source": "Fit data to model"
  },
  {
   "cell_type": "code",
   "metadata": {
    "id": "1w7dWo8GybM7",
    "ExecuteTime": {
     "end_time": "2025-02-07T00:04:46.716985Z",
     "start_time": "2025-02-07T00:04:46.706802Z"
    }
   },
   "source": [
    "# class ModifiedRawNet2Model(RawNet2Model):\n",
    "#     def __init__(self, pretrained=True, pretrained_path=\"pretrained_models_pt/rawnet2_best_weights.pt\", device=\"cpu\"):\n",
    "#         super().__init__(pretrained=pretrained, class_dim=1, pretrained_path=pretrained_path, device=device, return_code=False)\n",
    "#         # class_dim=1 ensures the output is a single scalar (logit)\n",
    "#\n",
    "#     def forward(self, x):\n",
    "#         x = super().forward(x)\n",
    "#         # Apply sigmoid for binary classification\n",
    "#         x = torch.sigmoid(x)\n",
    "#         return x"
   ],
   "outputs": [],
   "execution_count": 55
  },
  {
   "metadata": {
    "ExecuteTime": {
     "end_time": "2025-02-07T01:35:12.978973Z",
     "start_time": "2025-02-07T01:35:12.781007Z"
    }
   },
   "cell_type": "code",
   "source": "model = RawNet2BinaryClassifier(pretrained = True, pretrained_path=\"pretrained_models_pt/rawnet2_best_weights.pt\", device=device)",
   "outputs": [],
   "execution_count": 15
  },
  {
   "cell_type": "code",
   "metadata": {
    "id": "09E11IEruNoU",
    "colab": {
     "base_uri": "https://localhost:8080/"
    },
    "outputId": "393e08f6-cb03-40b7-9c62-e0627e1004a4",
    "ExecuteTime": {
     "end_time": "2025-02-07T09:02:23.047893Z",
     "start_time": "2025-02-07T09:02:23.035688Z"
    }
   },
   "source": [
    "def freeze_layers(model):\n",
    "    # Freeze all layers\n",
    "    for param in model.parameters():\n",
    "        param.requires_grad = False\n",
    "\n",
    "    # Unfreeze fc2_gru\n",
    "    for name, module in model.named_modules():\n",
    "      if 'fc2_gru' in name: # Check if it's a linear layer and its name ends with 'fc'\n",
    "        print(f\"Unfreesing: {name}\")\n",
    "        for param in module.parameters():\n",
    "          param.requires_grad = True\n",
    "        break # Stop after unfreezing the first matching layer\n",
    "\n",
    "    model.to(device)"
   ],
   "outputs": [],
   "execution_count": 14
  },
  {
   "cell_type": "code",
   "metadata": {
    "collapsed": true,
    "id": "wseVFyHHmgq3",
    "ExecuteTime": {
     "end_time": "2025-02-07T01:35:17.185698Z",
     "start_time": "2025-02-07T01:35:17.141817Z"
    }
   },
   "source": "freeze_layers(model)",
   "outputs": [
    {
     "name": "stdout",
     "output_type": "stream",
     "text": [
      "Unfreesing: encoder.fc2_gru\n"
     ]
    }
   ],
   "execution_count": 17
  },
  {
   "metadata": {
    "ExecuteTime": {
     "end_time": "2025-02-07T09:02:29.105654Z",
     "start_time": "2025-02-07T09:02:29.091642Z"
    }
   },
   "cell_type": "code",
   "source": [
    "# Balance validation data to include much less data for balanced, faster training\n",
    "val_bonafide_rows = val_df[val_df['label'] == 0]\n",
    "val_bonafide_rows = val_bonafide_rows.sample(n=int(len(val_bonafide_rows) * 0.3))\n",
    "\n",
    "val_spoof_rows = val_df[val_df['label'] == 1].sample(n=len(val_bonafide_rows))\n",
    "\n",
    "val_df = pd.concat([val_bonafide_rows, val_spoof_rows], ignore_index=True)"
   ],
   "outputs": [],
   "execution_count": 15
  },
  {
   "metadata": {
    "ExecuteTime": {
     "end_time": "2025-02-07T09:02:32.180350Z",
     "start_time": "2025-02-07T09:02:32.171176Z"
    }
   },
   "cell_type": "code",
   "source": "val_df['label'].value_counts()",
   "outputs": [
    {
     "data": {
      "text/plain": [
       "label\n",
       "0    764\n",
       "1    764\n",
       "Name: count, dtype: int64"
      ]
     },
     "execution_count": 16,
     "metadata": {},
     "output_type": "execute_result"
    }
   ],
   "execution_count": 16
  },
  {
   "cell_type": "code",
   "metadata": {
    "id": "syj-Ya_mv3r7",
    "ExecuteTime": {
     "end_time": "2025-02-07T09:34:19.113575Z",
     "start_time": "2025-02-07T09:34:19.101233Z"
    }
   },
   "source": [
    "train_dataset = audio_utils.AudioDataset(train_df, data_dir=f\"{dataset_path}\\\\LA\\\\LA\\\\ASVspoof2019_LA_train\\\\flac\")\n",
    "val_dataset = audio_utils.AudioDataset(val_df, data_dir=f\"{dataset_path}\\\\LA\\\\LA\\\\ASVspoof2019_LA_dev\\\\flac\")\n",
    "test_dataset = audio_utils.AudioDataset(test_df, data_dir=f\"{dataset_path}\\\\LA\\\\LA\\\\ASVspoof2019_LA_eval\\\\flac\")"
   ],
   "outputs": [],
   "execution_count": 28
  },
  {
   "metadata": {
    "ExecuteTime": {
     "end_time": "2025-02-07T09:02:40.518653Z",
     "start_time": "2025-02-07T09:02:40.504945Z"
    }
   },
   "cell_type": "code",
   "source": [
    "# clear device cache\n",
    "torch.cuda.empty_cache()"
   ],
   "outputs": [],
   "execution_count": 18
  },
  {
   "metadata": {
    "ExecuteTime": {
     "end_time": "2025-02-07T09:02:42.227738Z",
     "start_time": "2025-02-07T09:02:42.214458Z"
    }
   },
   "cell_type": "code",
   "source": [
    "def get_new_model_instance(device):\n",
    "    model = RawNet2BinaryClassifier(pretrained = True, pretrained_path=\"pretrained_models_pt/rawnet2_best_weights.pt\", device=device)\n",
    "    freeze_layers(model)\n",
    "    model.to(device)\n",
    "    return model"
   ],
   "outputs": [],
   "execution_count": 19
  },
  {
   "metadata": {
    "ExecuteTime": {
     "end_time": "2025-02-07T09:02:46.331357Z",
     "start_time": "2025-02-07T09:02:46.318135Z"
    }
   },
   "cell_type": "code",
   "source": [
    "seed = 42\n",
    "torch.cuda.manual_seed(seed)\n",
    "torch.backends.cudnn.deterministic = True\n",
    "torch.backends.cudnn.benchmark = False\n",
    "np.random.seed(seed)\n",
    "random.seed(seed)"
   ],
   "outputs": [],
   "execution_count": 20
  },
  {
   "metadata": {
    "ExecuteTime": {
     "end_time": "2025-02-07T03:38:29.538631Z",
     "start_time": "2025-02-07T01:40:30.582673Z"
    }
   },
   "cell_type": "code",
   "source": "results = train_utils.get_best_hyperparameters(criterion, train_dataset, val_dataset, get_new_model_instance)",
   "outputs": [
    {
     "name": "stdout",
     "output_type": "stream",
     "text": [
      "Chosen device: cuda\n",
      "Testing hyperparameters: {'batch_size': 64, 'epochs': 7, 'learning_rate': 0.005, 'optimizer': 'Adam'}\n",
      "Unfreesing: encoder.fc2_gru\n",
      "Progress of epoch 1/7: loop 0/101 finished\n",
      "Progress of epoch 1/7: loop 50/101 finished\n",
      "Progress of epoch 1/7: loop 100/101 finished\n",
      "Epoch [1/7], Loss: 0.6776, Train Accuracy: 56.42%, Val Accuracy: 0.57%\n",
      "Progress of epoch 2/7: loop 0/101 finished\n",
      "Progress of epoch 2/7: loop 50/101 finished\n",
      "Progress of epoch 2/7: loop 100/101 finished\n",
      "Epoch [2/7], Loss: 0.6559, Train Accuracy: 63.33%, Val Accuracy: 0.63%\n",
      "Progress of epoch 3/7: loop 0/101 finished\n",
      "Progress of epoch 3/7: loop 50/101 finished\n",
      "Progress of epoch 3/7: loop 100/101 finished\n",
      "Epoch [3/7], Loss: 0.6476, Train Accuracy: 65.98%, Val Accuracy: 0.65%\n",
      "Progress of epoch 4/7: loop 0/101 finished\n",
      "Progress of epoch 4/7: loop 50/101 finished\n",
      "Progress of epoch 4/7: loop 100/101 finished\n",
      "Epoch [4/7], Loss: 0.6430, Train Accuracy: 67.22%, Val Accuracy: 0.65%\n",
      "Progress of epoch 5/7: loop 0/101 finished\n",
      "Progress of epoch 5/7: loop 50/101 finished\n",
      "Progress of epoch 5/7: loop 100/101 finished\n",
      "Epoch [5/7], Loss: 0.6403, Train Accuracy: 67.75%, Val Accuracy: 0.67%\n",
      "Progress of epoch 6/7: loop 0/101 finished\n",
      "Progress of epoch 6/7: loop 50/101 finished\n",
      "Progress of epoch 6/7: loop 100/101 finished\n",
      "Epoch [6/7], Loss: 0.6382, Train Accuracy: 67.92%, Val Accuracy: 0.65%\n",
      "Progress of epoch 7/7: loop 0/101 finished\n",
      "Progress of epoch 7/7: loop 50/101 finished\n",
      "Progress of epoch 7/7: loop 100/101 finished\n",
      "Epoch [7/7], Loss: 0.6374, Train Accuracy: 68.29%, Val Accuracy: 0.66%\n",
      "Best model validation score during training: 0.6662303664921466\n",
      "Validation Accuracy: 0.66%\n",
      "----------------------------------------\n",
      "Testing hyperparameters: {'batch_size': 64, 'epochs': 7, 'learning_rate': 0.005, 'optimizer': 'RMSprop'}\n",
      "Unfreesing: encoder.fc2_gru\n",
      "Progress of epoch 1/7: loop 0/101 finished\n",
      "Progress of epoch 1/7: loop 50/101 finished\n",
      "Progress of epoch 1/7: loop 100/101 finished\n",
      "Epoch [1/7], Loss: 0.6750, Train Accuracy: 57.21%, Val Accuracy: 0.57%\n",
      "Progress of epoch 2/7: loop 0/101 finished\n",
      "Progress of epoch 2/7: loop 50/101 finished\n",
      "Progress of epoch 2/7: loop 100/101 finished\n",
      "Epoch [2/7], Loss: 0.6541, Train Accuracy: 64.03%, Val Accuracy: 0.65%\n",
      "Progress of epoch 3/7: loop 0/101 finished\n",
      "Progress of epoch 3/7: loop 50/101 finished\n",
      "Progress of epoch 3/7: loop 100/101 finished\n",
      "Epoch [3/7], Loss: 0.6475, Train Accuracy: 65.83%, Val Accuracy: 0.64%\n",
      "Progress of epoch 4/7: loop 0/101 finished\n",
      "Progress of epoch 4/7: loop 50/101 finished\n",
      "Progress of epoch 4/7: loop 100/101 finished\n",
      "Epoch [4/7], Loss: 0.6442, Train Accuracy: 66.71%, Val Accuracy: 0.66%\n",
      "Progress of epoch 5/7: loop 0/101 finished\n",
      "Progress of epoch 5/7: loop 50/101 finished\n",
      "Progress of epoch 5/7: loop 100/101 finished\n",
      "Epoch [5/7], Loss: 0.6413, Train Accuracy: 67.69%, Val Accuracy: 0.66%\n",
      "Progress of epoch 6/7: loop 0/101 finished\n",
      "Progress of epoch 6/7: loop 50/101 finished\n",
      "Progress of epoch 6/7: loop 100/101 finished\n",
      "Epoch [6/7], Loss: 0.6380, Train Accuracy: 68.78%, Val Accuracy: 0.66%\n",
      "Progress of epoch 7/7: loop 0/101 finished\n",
      "Progress of epoch 7/7: loop 50/101 finished\n",
      "Progress of epoch 7/7: loop 100/101 finished\n",
      "Epoch [7/7], Loss: 0.6373, Train Accuracy: 68.65%, Val Accuracy: 0.65%\n",
      "Best model validation score during training: 0.6649214659685864\n",
      "Validation Accuracy: 0.65%\n",
      "----------------------------------------\n",
      "Testing hyperparameters: {'batch_size': 64, 'epochs': 7, 'learning_rate': 0.01, 'optimizer': 'Adam'}\n",
      "Unfreesing: encoder.fc2_gru\n",
      "Progress of epoch 1/7: loop 0/101 finished\n",
      "Progress of epoch 1/7: loop 50/101 finished\n",
      "Progress of epoch 1/7: loop 100/101 finished\n",
      "Epoch [1/7], Loss: 0.6815, Train Accuracy: 55.10%, Val Accuracy: 0.60%\n",
      "Progress of epoch 2/7: loop 0/101 finished\n",
      "Progress of epoch 2/7: loop 50/101 finished\n",
      "Progress of epoch 2/7: loop 100/101 finished\n",
      "Epoch [2/7], Loss: 0.6542, Train Accuracy: 62.79%, Val Accuracy: 0.64%\n",
      "Progress of epoch 3/7: loop 0/101 finished\n",
      "Progress of epoch 3/7: loop 50/101 finished\n",
      "Progress of epoch 3/7: loop 100/101 finished\n",
      "Epoch [3/7], Loss: 0.6462, Train Accuracy: 65.43%, Val Accuracy: 0.66%\n",
      "Progress of epoch 4/7: loop 0/101 finished\n",
      "Progress of epoch 4/7: loop 50/101 finished\n",
      "Progress of epoch 4/7: loop 100/101 finished\n",
      "Epoch [4/7], Loss: 0.6407, Train Accuracy: 67.18%, Val Accuracy: 0.66%\n",
      "Progress of epoch 5/7: loop 0/101 finished\n",
      "Progress of epoch 5/7: loop 50/101 finished\n",
      "Progress of epoch 5/7: loop 100/101 finished\n",
      "Epoch [5/7], Loss: 0.6404, Train Accuracy: 66.99%, Val Accuracy: 0.67%\n",
      "Progress of epoch 6/7: loop 0/101 finished\n",
      "Progress of epoch 6/7: loop 50/101 finished\n",
      "Progress of epoch 6/7: loop 100/101 finished\n",
      "Epoch [6/7], Loss: 0.6376, Train Accuracy: 68.42%, Val Accuracy: 0.68%\n",
      "Progress of epoch 7/7: loop 0/101 finished\n",
      "Progress of epoch 7/7: loop 50/101 finished\n",
      "Progress of epoch 7/7: loop 100/101 finished\n",
      "Epoch [7/7], Loss: 0.6347, Train Accuracy: 69.24%, Val Accuracy: 0.70%\n",
      "Best model validation score during training: 0.6969895287958116\n",
      "Validation Accuracy: 0.70%\n",
      "----------------------------------------\n",
      "Testing hyperparameters: {'batch_size': 64, 'epochs': 7, 'learning_rate': 0.01, 'optimizer': 'RMSprop'}\n",
      "Unfreesing: encoder.fc2_gru\n",
      "Progress of epoch 1/7: loop 0/101 finished\n",
      "Progress of epoch 1/7: loop 50/101 finished\n",
      "Progress of epoch 1/7: loop 100/101 finished\n",
      "Epoch [1/7], Loss: 0.6944, Train Accuracy: 50.48%, Val Accuracy: 0.54%\n",
      "Progress of epoch 2/7: loop 0/101 finished\n",
      "Progress of epoch 2/7: loop 50/101 finished\n",
      "Progress of epoch 2/7: loop 100/101 finished\n",
      "Epoch [2/7], Loss: 0.6906, Train Accuracy: 53.01%, Val Accuracy: 0.55%\n",
      "Progress of epoch 3/7: loop 0/101 finished\n",
      "Progress of epoch 3/7: loop 50/101 finished\n",
      "Progress of epoch 3/7: loop 100/101 finished\n",
      "Epoch [3/7], Loss: 0.6643, Train Accuracy: 59.89%, Val Accuracy: 0.63%\n",
      "Progress of epoch 4/7: loop 0/101 finished\n",
      "Progress of epoch 4/7: loop 50/101 finished\n",
      "Progress of epoch 4/7: loop 100/101 finished\n",
      "Epoch [4/7], Loss: 0.6513, Train Accuracy: 64.17%, Val Accuracy: 0.66%\n",
      "Progress of epoch 5/7: loop 0/101 finished\n",
      "Progress of epoch 5/7: loop 50/101 finished\n",
      "Progress of epoch 5/7: loop 100/101 finished\n",
      "Epoch [5/7], Loss: 0.6459, Train Accuracy: 65.35%, Val Accuracy: 0.63%\n",
      "Progress of epoch 6/7: loop 0/101 finished\n",
      "Progress of epoch 6/7: loop 50/101 finished\n",
      "Progress of epoch 6/7: loop 100/101 finished\n",
      "Epoch [6/7], Loss: 0.6413, Train Accuracy: 66.98%, Val Accuracy: 0.67%\n",
      "Progress of epoch 7/7: loop 0/101 finished\n",
      "Progress of epoch 7/7: loop 50/101 finished\n",
      "Progress of epoch 7/7: loop 100/101 finished\n",
      "Epoch [7/7], Loss: 0.6376, Train Accuracy: 68.23%, Val Accuracy: 0.64%\n",
      "Best model validation score during training: 0.668848167539267\n",
      "Validation Accuracy: 0.64%\n",
      "----------------------------------------\n",
      "Testing hyperparameters: {'batch_size': 32, 'epochs': 7, 'learning_rate': 0.005, 'optimizer': 'Adam'}\n",
      "Unfreesing: encoder.fc2_gru\n",
      "Progress of epoch 1/7: loop 0/202 finished\n",
      "Progress of epoch 1/7: loop 50/202 finished\n",
      "Progress of epoch 1/7: loop 100/202 finished\n",
      "Progress of epoch 1/7: loop 150/202 finished\n",
      "Progress of epoch 1/7: loop 200/202 finished\n",
      "Epoch [1/7], Loss: 0.6707, Train Accuracy: 58.36%, Val Accuracy: 0.64%\n",
      "Progress of epoch 2/7: loop 0/202 finished\n",
      "Progress of epoch 2/7: loop 50/202 finished\n",
      "Progress of epoch 2/7: loop 100/202 finished\n",
      "Progress of epoch 2/7: loop 150/202 finished\n",
      "Progress of epoch 2/7: loop 200/202 finished\n",
      "Epoch [2/7], Loss: 0.6532, Train Accuracy: 63.94%, Val Accuracy: 0.63%\n",
      "Progress of epoch 3/7: loop 0/202 finished\n",
      "Progress of epoch 3/7: loop 50/202 finished\n",
      "Progress of epoch 3/7: loop 100/202 finished\n",
      "Progress of epoch 3/7: loop 150/202 finished\n",
      "Progress of epoch 3/7: loop 200/202 finished\n",
      "Epoch [3/7], Loss: 0.6472, Train Accuracy: 65.71%, Val Accuracy: 0.64%\n",
      "Progress of epoch 4/7: loop 0/202 finished\n",
      "Progress of epoch 4/7: loop 50/202 finished\n",
      "Progress of epoch 4/7: loop 100/202 finished\n",
      "Progress of epoch 4/7: loop 150/202 finished\n",
      "Progress of epoch 4/7: loop 200/202 finished\n",
      "Epoch [4/7], Loss: 0.6444, Train Accuracy: 65.98%, Val Accuracy: 0.66%\n",
      "Progress of epoch 5/7: loop 0/202 finished\n",
      "Progress of epoch 5/7: loop 50/202 finished\n",
      "Progress of epoch 5/7: loop 100/202 finished\n",
      "Progress of epoch 5/7: loop 150/202 finished\n",
      "Progress of epoch 5/7: loop 200/202 finished\n",
      "Epoch [5/7], Loss: 0.6418, Train Accuracy: 67.16%, Val Accuracy: 0.66%\n",
      "Progress of epoch 6/7: loop 0/202 finished\n",
      "Progress of epoch 6/7: loop 50/202 finished\n",
      "Progress of epoch 6/7: loop 100/202 finished\n",
      "Progress of epoch 6/7: loop 150/202 finished\n",
      "Progress of epoch 6/7: loop 200/202 finished\n",
      "Epoch [6/7], Loss: 0.6390, Train Accuracy: 68.06%, Val Accuracy: 0.64%\n",
      "Progress of epoch 7/7: loop 0/202 finished\n",
      "Progress of epoch 7/7: loop 50/202 finished\n",
      "Progress of epoch 7/7: loop 100/202 finished\n",
      "Progress of epoch 7/7: loop 150/202 finished\n",
      "Progress of epoch 7/7: loop 200/202 finished\n",
      "Epoch [7/7], Loss: 0.6392, Train Accuracy: 67.69%, Val Accuracy: 0.67%\n",
      "Best model validation score during training: 0.6734293193717278\n",
      "Validation Accuracy: 0.67%\n",
      "----------------------------------------\n",
      "Testing hyperparameters: {'batch_size': 32, 'epochs': 7, 'learning_rate': 0.005, 'optimizer': 'RMSprop'}\n",
      "Unfreesing: encoder.fc2_gru\n",
      "Progress of epoch 1/7: loop 0/202 finished\n",
      "Progress of epoch 1/7: loop 50/202 finished\n",
      "Progress of epoch 1/7: loop 100/202 finished\n",
      "Progress of epoch 1/7: loop 150/202 finished\n",
      "Progress of epoch 1/7: loop 200/202 finished\n",
      "Epoch [1/7], Loss: 0.6762, Train Accuracy: 56.81%, Val Accuracy: 0.63%\n",
      "Progress of epoch 2/7: loop 0/202 finished\n",
      "Progress of epoch 2/7: loop 50/202 finished\n",
      "Progress of epoch 2/7: loop 100/202 finished\n",
      "Progress of epoch 2/7: loop 150/202 finished\n",
      "Progress of epoch 2/7: loop 200/202 finished\n",
      "Epoch [2/7], Loss: 0.6524, Train Accuracy: 64.05%, Val Accuracy: 0.66%\n",
      "Progress of epoch 3/7: loop 0/202 finished\n",
      "Progress of epoch 3/7: loop 50/202 finished\n",
      "Progress of epoch 3/7: loop 100/202 finished\n",
      "Progress of epoch 3/7: loop 150/202 finished\n",
      "Progress of epoch 3/7: loop 200/202 finished\n",
      "Epoch [3/7], Loss: 0.6469, Train Accuracy: 65.80%, Val Accuracy: 0.62%\n",
      "Progress of epoch 4/7: loop 0/202 finished\n",
      "Progress of epoch 4/7: loop 50/202 finished\n",
      "Progress of epoch 4/7: loop 100/202 finished\n",
      "Progress of epoch 4/7: loop 150/202 finished\n",
      "Progress of epoch 4/7: loop 200/202 finished\n",
      "Epoch [4/7], Loss: 0.6423, Train Accuracy: 66.76%, Val Accuracy: 0.65%\n",
      "Progress of epoch 5/7: loop 0/202 finished\n",
      "Progress of epoch 5/7: loop 50/202 finished\n",
      "Progress of epoch 5/7: loop 100/202 finished\n",
      "Progress of epoch 5/7: loop 150/202 finished\n",
      "Progress of epoch 5/7: loop 200/202 finished\n",
      "Epoch [5/7], Loss: 0.6408, Train Accuracy: 66.84%, Val Accuracy: 0.67%\n",
      "Progress of epoch 6/7: loop 0/202 finished\n",
      "Progress of epoch 6/7: loop 50/202 finished\n",
      "Progress of epoch 6/7: loop 100/202 finished\n",
      "Progress of epoch 6/7: loop 150/202 finished\n",
      "Progress of epoch 6/7: loop 200/202 finished\n",
      "Epoch [6/7], Loss: 0.6407, Train Accuracy: 67.18%, Val Accuracy: 0.66%\n",
      "Progress of epoch 7/7: loop 0/202 finished\n",
      "Progress of epoch 7/7: loop 50/202 finished\n",
      "Progress of epoch 7/7: loop 100/202 finished\n",
      "Progress of epoch 7/7: loop 150/202 finished\n",
      "Progress of epoch 7/7: loop 200/202 finished\n",
      "Epoch [7/7], Loss: 0.6371, Train Accuracy: 68.14%, Val Accuracy: 0.60%\n",
      "Best model validation score during training: 0.6681937172774869\n",
      "Validation Accuracy: 0.60%\n",
      "----------------------------------------\n",
      "Testing hyperparameters: {'batch_size': 32, 'epochs': 7, 'learning_rate': 0.01, 'optimizer': 'Adam'}\n",
      "Unfreesing: encoder.fc2_gru\n",
      "Progress of epoch 1/7: loop 0/202 finished\n",
      "Progress of epoch 1/7: loop 50/202 finished\n",
      "Progress of epoch 1/7: loop 100/202 finished\n",
      "Progress of epoch 1/7: loop 150/202 finished\n",
      "Progress of epoch 1/7: loop 200/202 finished\n",
      "Epoch [1/7], Loss: 0.6710, Train Accuracy: 57.92%, Val Accuracy: 0.63%\n",
      "Progress of epoch 2/7: loop 0/202 finished\n",
      "Progress of epoch 2/7: loop 50/202 finished\n",
      "Progress of epoch 2/7: loop 100/202 finished\n",
      "Progress of epoch 2/7: loop 150/202 finished\n",
      "Progress of epoch 2/7: loop 200/202 finished\n",
      "Epoch [2/7], Loss: 0.6489, Train Accuracy: 64.67%, Val Accuracy: 0.65%\n",
      "Progress of epoch 3/7: loop 0/202 finished\n",
      "Progress of epoch 3/7: loop 50/202 finished\n",
      "Progress of epoch 3/7: loop 100/202 finished\n",
      "Progress of epoch 3/7: loop 150/202 finished\n",
      "Progress of epoch 3/7: loop 200/202 finished\n",
      "Epoch [3/7], Loss: 0.6436, Train Accuracy: 66.14%, Val Accuracy: 0.67%\n",
      "Progress of epoch 4/7: loop 0/202 finished\n",
      "Progress of epoch 4/7: loop 50/202 finished\n",
      "Progress of epoch 4/7: loop 100/202 finished\n",
      "Progress of epoch 4/7: loop 150/202 finished\n",
      "Progress of epoch 4/7: loop 200/202 finished\n",
      "Epoch [4/7], Loss: 0.6434, Train Accuracy: 66.11%, Val Accuracy: 0.68%\n",
      "Progress of epoch 5/7: loop 0/202 finished\n",
      "Progress of epoch 5/7: loop 50/202 finished\n",
      "Progress of epoch 5/7: loop 100/202 finished\n",
      "Progress of epoch 5/7: loop 150/202 finished\n",
      "Progress of epoch 5/7: loop 200/202 finished\n",
      "Epoch [5/7], Loss: 0.6388, Train Accuracy: 67.19%, Val Accuracy: 0.68%\n",
      "Progress of epoch 6/7: loop 0/202 finished\n",
      "Progress of epoch 6/7: loop 50/202 finished\n",
      "Progress of epoch 6/7: loop 100/202 finished\n",
      "Progress of epoch 6/7: loop 150/202 finished\n",
      "Progress of epoch 6/7: loop 200/202 finished\n",
      "Epoch [6/7], Loss: 0.6393, Train Accuracy: 67.47%, Val Accuracy: 0.67%\n",
      "Progress of epoch 7/7: loop 0/202 finished\n",
      "Progress of epoch 7/7: loop 50/202 finished\n",
      "Progress of epoch 7/7: loop 100/202 finished\n",
      "Progress of epoch 7/7: loop 150/202 finished\n",
      "Progress of epoch 7/7: loop 200/202 finished\n",
      "Epoch [7/7], Loss: 0.6355, Train Accuracy: 68.51%, Val Accuracy: 0.69%\n",
      "Best model validation score during training: 0.6924083769633508\n",
      "Validation Accuracy: 0.69%\n",
      "----------------------------------------\n",
      "Testing hyperparameters: {'batch_size': 32, 'epochs': 7, 'learning_rate': 0.01, 'optimizer': 'RMSprop'}\n",
      "Unfreesing: encoder.fc2_gru\n",
      "Progress of epoch 1/7: loop 0/202 finished\n",
      "Progress of epoch 1/7: loop 50/202 finished\n",
      "Progress of epoch 1/7: loop 100/202 finished\n",
      "Progress of epoch 1/7: loop 150/202 finished\n",
      "Progress of epoch 1/7: loop 200/202 finished\n",
      "Epoch [1/7], Loss: 0.6935, Train Accuracy: 50.54%, Val Accuracy: 0.50%\n",
      "Progress of epoch 2/7: loop 0/202 finished\n",
      "Progress of epoch 2/7: loop 50/202 finished\n",
      "Progress of epoch 2/7: loop 100/202 finished\n",
      "Progress of epoch 2/7: loop 150/202 finished\n",
      "Progress of epoch 2/7: loop 200/202 finished\n",
      "Epoch [2/7], Loss: 0.6878, Train Accuracy: 52.62%, Val Accuracy: 0.59%\n",
      "Progress of epoch 3/7: loop 0/202 finished\n",
      "Progress of epoch 3/7: loop 50/202 finished\n",
      "Progress of epoch 3/7: loop 100/202 finished\n",
      "Progress of epoch 3/7: loop 150/202 finished\n",
      "Progress of epoch 3/7: loop 200/202 finished\n",
      "Epoch [3/7], Loss: 0.6613, Train Accuracy: 62.17%, Val Accuracy: 0.66%\n",
      "Progress of epoch 4/7: loop 0/202 finished\n",
      "Progress of epoch 4/7: loop 50/202 finished\n",
      "Progress of epoch 4/7: loop 100/202 finished\n",
      "Progress of epoch 4/7: loop 150/202 finished\n",
      "Progress of epoch 4/7: loop 200/202 finished\n",
      "Epoch [4/7], Loss: 0.6481, Train Accuracy: 65.26%, Val Accuracy: 0.61%\n",
      "Progress of epoch 5/7: loop 0/202 finished\n",
      "Progress of epoch 5/7: loop 50/202 finished\n",
      "Progress of epoch 5/7: loop 100/202 finished\n",
      "Progress of epoch 5/7: loop 150/202 finished\n",
      "Progress of epoch 5/7: loop 200/202 finished\n",
      "Epoch [5/7], Loss: 0.6453, Train Accuracy: 66.02%, Val Accuracy: 0.68%\n",
      "Progress of epoch 6/7: loop 0/202 finished\n",
      "Progress of epoch 6/7: loop 50/202 finished\n",
      "Progress of epoch 6/7: loop 100/202 finished\n",
      "Progress of epoch 6/7: loop 150/202 finished\n",
      "Progress of epoch 6/7: loop 200/202 finished\n",
      "Epoch [6/7], Loss: 0.6416, Train Accuracy: 67.36%, Val Accuracy: 0.66%\n",
      "Progress of epoch 7/7: loop 0/202 finished\n",
      "Progress of epoch 7/7: loop 50/202 finished\n",
      "Progress of epoch 7/7: loop 100/202 finished\n",
      "Progress of epoch 7/7: loop 150/202 finished\n",
      "Progress of epoch 7/7: loop 200/202 finished\n",
      "Epoch [7/7], Loss: 0.6382, Train Accuracy: 67.94%, Val Accuracy: 0.66%\n",
      "Best model validation score during training: 0.6780104712041884\n",
      "Validation Accuracy: 0.66%\n",
      "----------------------------------------\n",
      "Best Hyperparameters: {'batch_size': 64, 'epochs': 7, 'learning_rate': 0.01, 'optimizer': 'Adam'}\n",
      "Best Validation Accuracy: 0.70%\n"
     ]
    }
   ],
   "execution_count": 27
  },
  {
   "metadata": {
    "ExecuteTime": {
     "end_time": "2025-02-07T09:25:17.902270Z",
     "start_time": "2025-02-07T09:05:16.472911Z"
    }
   },
   "cell_type": "code",
   "source": [
    "# BEST HYPER PARAMETERS\n",
    "BATCH_SIZE = 64\n",
    "EPOCHS = 7\n",
    "LEARNING_RATE = 0.01\n",
    "\n",
    "# Train models on best hyperparameters\n",
    "criterion = nn.BCEWithLogitsLoss()\n",
    "train_dataset = audio_utils.AudioDataset(train_df, data_dir=f\"{dataset_path}\\\\LA\\\\LA\\\\ASVspoof2019_LA_train\\\\flac\")\n",
    "val_dataset = audio_utils.AudioDataset(val_df, data_dir=f\"{dataset_path}\\\\LA\\\\LA\\\\ASVspoof2019_LA_dev\\\\flac\")\n",
    "\n",
    "train_loader = DataLoader(train_dataset, batch_size=BATCH_SIZE, shuffle=True, num_workers=4)\n",
    "val_loader = DataLoader(val_dataset, batch_size=BATCH_SIZE, shuffle=False, num_workers=4)\n",
    "\n",
    "model = get_new_model_instance(device)\n",
    "optimizer = optim.Adam(model.parameters(), lr=LEARNING_RATE)\n",
    "results = train_utils.train_model(model, train_loader, val_loader, criterion, optimizer, EPOCHS, device)"
   ],
   "outputs": [
    {
     "name": "stdout",
     "output_type": "stream",
     "text": [
      "Unfreesing: encoder.fc2_gru\n",
      "Progress of epoch 1/7: loop 0/101 finished\n",
      "Progress of epoch 1/7: loop 50/101 finished\n",
      "Progress of epoch 1/7: loop 100/101 finished\n",
      "Epoch [1/7], Loss: 0.6772, Train Accuracy: 56.00%, Val Accuracy: 0.60%\n",
      "Progress of epoch 2/7: loop 0/101 finished\n",
      "Progress of epoch 2/7: loop 50/101 finished\n",
      "Progress of epoch 2/7: loop 100/101 finished\n",
      "Epoch [2/7], Loss: 0.6531, Train Accuracy: 63.26%, Val Accuracy: 0.67%\n",
      "Progress of epoch 3/7: loop 0/101 finished\n",
      "Progress of epoch 3/7: loop 50/101 finished\n",
      "Progress of epoch 3/7: loop 100/101 finished\n",
      "Epoch [3/7], Loss: 0.6435, Train Accuracy: 66.26%, Val Accuracy: 0.69%\n",
      "Progress of epoch 4/7: loop 0/101 finished\n",
      "Progress of epoch 4/7: loop 50/101 finished\n",
      "Progress of epoch 4/7: loop 100/101 finished\n",
      "Epoch [4/7], Loss: 0.6393, Train Accuracy: 67.46%, Val Accuracy: 0.70%\n",
      "Progress of epoch 5/7: loop 0/101 finished\n",
      "Progress of epoch 5/7: loop 50/101 finished\n",
      "Progress of epoch 5/7: loop 100/101 finished\n",
      "Epoch [5/7], Loss: 0.6382, Train Accuracy: 67.61%, Val Accuracy: 0.70%\n",
      "Progress of epoch 6/7: loop 0/101 finished\n",
      "Progress of epoch 6/7: loop 50/101 finished\n",
      "Progress of epoch 6/7: loop 100/101 finished\n",
      "Epoch [6/7], Loss: 0.6338, Train Accuracy: 68.81%, Val Accuracy: 0.69%\n",
      "Progress of epoch 7/7: loop 0/101 finished\n",
      "Progress of epoch 7/7: loop 50/101 finished\n",
      "Progress of epoch 7/7: loop 100/101 finished\n",
      "Epoch [7/7], Loss: 0.6319, Train Accuracy: 69.38%, Val Accuracy: 0.70%\n"
     ]
    }
   ],
   "execution_count": 22
  },
  {
   "cell_type": "code",
   "source": "last_val_accuracy, best_val_accuracy, history = results",
   "metadata": {
    "colab": {
     "base_uri": "https://localhost:8080/",
     "height": 507
    },
    "id": "Ijt2yVwKDf9E",
    "outputId": "d0894f0c-36fa-45eb-8a52-85a8dd8c2724",
    "ExecuteTime": {
     "end_time": "2025-02-07T09:26:35.289899Z",
     "start_time": "2025-02-07T09:26:35.278670Z"
    }
   },
   "outputs": [],
   "execution_count": 24
  },
  {
   "metadata": {
    "ExecuteTime": {
     "end_time": "2025-02-07T09:28:02.753027Z",
     "start_time": "2025-02-07T09:28:02.460262Z"
    }
   },
   "cell_type": "code",
   "source": "plot_results(history['train_loss'], history['val_accuracy'], 7)",
   "outputs": [
    {
     "data": {
      "text/plain": [
       "<Figure size 1200x500 with 2 Axes>"
      ],
      "image/png": "[encoded data removed]"
     },
     "metadata": {},
     "output_type": "display_data"
    }
   ],
   "execution_count": 26
  },
  {
   "cell_type": "markdown",
   "source": [
    "Evaluate model on test"
   ],
   "metadata": {
    "id": "dHHMbYUz_yGv"
   }
  },
  {
   "cell_type": "code",
   "source": "test_dataloader = DataLoader(test_dataset, batch_size=BATCH_SIZE, shuffle=False, num_workers=4)",
   "metadata": {
    "id": "QbQIEa5qC1dK",
    "ExecuteTime": {
     "end_time": "2025-02-07T09:34:27.054845Z",
     "start_time": "2025-02-07T09:34:27.046692Z"
    }
   },
   "outputs": [],
   "execution_count": 29
  },
  {
   "cell_type": "code",
   "source": [
    "print(f\"Test Results: {train_utils.evaluate_model(model, test_dataloader, criterion, device)}\")"
   ],
   "metadata": {
    "colab": {
     "base_uri": "https://localhost:8080/"
    },
    "id": "x_jFrET_C0E6",
    "outputId": "3bfe669a-69a2-4ff8-f4f9-508ddaa5409c",
    "ExecuteTime": {
     "end_time": "2025-02-07T09:53:51.488974Z",
     "start_time": "2025-02-07T09:34:33.122131Z"
    }
   },
   "outputs": [
    {
     "name": "stdout",
     "output_type": "stream",
     "text": [
      "Test Results: {'loss': 0.5035756933945942, 'accuracy': 0.5991689711807067, 'precision': 0.9755545983200516, 'recall': 0.5672333364641057, 'f1': 0.7173598875536991, 'eer': 0.3305295123089631}\n"
     ]
    }
   ],
   "execution_count": 30
  },
  {
   "cell_type": "code",
   "source": [
    "# Export to file\n",
    "torch.save(model.state_dict(), \"trained_models/rawnet_model_weights.pth\")"
   ],
   "metadata": {
    "collapsed": false,
    "ExecuteTime": {
     "end_time": "2025-02-07T09:54:22.022639Z",
     "start_time": "2025-02-07T09:54:21.949050Z"
    }
   },
   "outputs": [],
   "execution_count": 31
  },
  {
   "metadata": {},
   "cell_type": "code",
   "outputs": [],
   "execution_count": null,
   "source": ""
  }
 ],
 "metadata": {
  "accelerator": "GPU",
  "colab": {
   "gpuType": "A100",
   "provenance": [],
   "machine_shape": "hm"
  },
  "kernelspec": {
   "name": "python3",
   "language": "python",
   "display_name": "Python 3 (ipykernel)"
  },
  "language_info": {
   "name": "python"
  }
 },
 "nbformat": 4,
 "nbformat_minor": 0
}
