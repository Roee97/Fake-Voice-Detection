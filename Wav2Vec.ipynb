{
 "cells": [
  {
   "cell_type": "code",
   "execution_count": 1,
   "id": "initial_id",
   "metadata": {
    "collapsed": true,
    "ExecuteTime": {
     "end_time": "2025-02-06T20:16:52.658382Z",
     "start_time": "2025-02-06T20:16:39.489657Z"
    }
   },
   "outputs": [
    {
     "name": "stderr",
     "output_type": "stream",
     "text": [
      "/Users/roeeseren/Library/Python/3.9/lib/python/site-packages/urllib3/__init__.py:34: NotOpenSSLWarning: urllib3 v2 only supports OpenSSL 1.1.1+, currently the 'ssl' module is compiled with 'LibreSSL 2.8.3'. See: https://github.com/urllib3/urllib3/issues/3020\n",
      "  warnings.warn(\n"
     ]
    }
   ],
   "source": [
    "import os\n",
    "\n",
    "from transformers import Wav2Vec2Model\n",
    "import torch.nn as nn\n",
    "from pydub import AudioSegment\n",
    "import torch\n",
    "from torch.utils.data import DataLoader\n",
    "import pandas as pd\n"
   ]
  },
  {
   "cell_type": "code",
   "execution_count": 58,
   "outputs": [],
   "source": [
    "# Local imports\n",
    "import data_utils\n",
    "import importlib\n",
    "importlib.reload(data_utils)\n",
    "from data_utils import get_data\n",
    "from utils import load_protocol, plot_results\n",
    "import train_utils\n",
    "import audio_utils\n",
    "from models.wav2vec_modified import Wav2Vec2BinaryClassifier"
   ],
   "metadata": {
    "collapsed": false,
    "ExecuteTime": {
     "end_time": "2025-02-07T00:28:59.590577Z",
     "start_time": "2025-02-07T00:28:59.547271Z"
    }
   },
   "id": "ae6296b26406970f"
  },
  {
   "cell_type": "code",
   "execution_count": 3,
   "outputs": [],
   "source": [
    "dataset_path = get_data()\n",
    "\n",
    "train_dir = f\"{dataset_path}/LA/LA/ASVspoof2019_LA_train/flac\"\n",
    "val_dir = f\"{dataset_path}/LA/LA/ASVspoof2019_LA_dev/flac\"\n",
    "test_dir = f\"{dataset_path}/LA/LA/ASVspoof2019_LA_eval/flac\""
   ],
   "metadata": {
    "collapsed": false,
    "ExecuteTime": {
     "end_time": "2025-02-06T20:18:32.390336Z",
     "start_time": "2025-02-06T20:18:32.364664Z"
    }
   },
   "id": "933a0fafab3dbc36"
  },
  {
   "cell_type": "code",
   "execution_count": 48,
   "outputs": [],
   "source": [
    "col_names = ['speaker', 'file_name', 'attack', 'label']\n",
    "protocols_folder = \"LA/LA/ASVspoof2019_LA_cm_protocols\"\n",
    "protocol_file_prefix = \"ASVspoof2019.LA.cm\"\n",
    "\n",
    "data_info_train_file_path = f\"{dataset_path}/{protocols_folder}/{protocol_file_prefix}.train.trn.txt\"\n",
    "data_info_val_file_path = f\"{dataset_path}/{protocols_folder}/{protocol_file_prefix}.dev.trl.txt\"\n",
    "data_info_test_file_path = f\"{dataset_path}/{protocols_folder}/{protocol_file_prefix}.eval.trl.txt\"\n",
    "\n",
    "train_df_info = load_protocol(data_info_train_file_path, names=col_names)\n",
    "val_df_info = load_protocol(data_info_val_file_path, names=col_names)\n",
    "test_df_info = load_protocol(data_info_test_file_path, names=col_names)"
   ],
   "metadata": {
    "collapsed": false,
    "ExecuteTime": {
     "end_time": "2025-02-06T21:47:13.521637Z",
     "start_time": "2025-02-06T21:47:13.457288Z"
    }
   },
   "id": "854704be937d7ff2"
  },
  {
   "cell_type": "code",
   "execution_count": 8,
   "outputs": [],
   "source": [
    "# Balance data - get equal number of data files for each label\n",
    "bonafide_rows = train_df_info[train_df_info['label'] == 'bonafide']\n",
    "spoof_rows = train_df_info[train_df_info['label'] == 'spoof'].sample(n=len(bonafide_rows))\n",
    "\n",
    "train_df_info = pd.concat([bonafide_rows, spoof_rows], ignore_index=True)"
   ],
   "metadata": {
    "collapsed": false,
    "ExecuteTime": {
     "end_time": "2025-02-06T20:23:41.407256Z",
     "start_time": "2025-02-06T20:23:41.371611Z"
    }
   },
   "id": "a540959494952042"
  },
  {
   "cell_type": "code",
   "execution_count": 10,
   "outputs": [
    {
     "data": {
      "text/plain": "label\nbonafide    2580\nspoof       2580\nName: count, dtype: int64"
     },
     "execution_count": 10,
     "metadata": {},
     "output_type": "execute_result"
    }
   ],
   "source": [
    "train_df_info['label'].value_counts()"
   ],
   "metadata": {
    "collapsed": false,
    "ExecuteTime": {
     "end_time": "2025-02-06T20:24:04.004360Z",
     "start_time": "2025-02-06T20:24:03.941374Z"
    }
   },
   "id": "190dbb67450d8f8c"
  },
  {
   "cell_type": "code",
   "execution_count": 11,
   "outputs": [],
   "source": [
    "# Add augmentations to train data\n",
    "train_df_info = audio_utils.add_augmentations(train_dir, train_df_info)"
   ],
   "metadata": {
    "collapsed": false,
    "ExecuteTime": {
     "end_time": "2025-02-06T20:24:27.834576Z",
     "start_time": "2025-02-06T20:24:09.432946Z"
    }
   },
   "id": "9fcd3218d507a9c4"
  },
  {
   "cell_type": "code",
   "execution_count": 12,
   "outputs": [
    {
     "data": {
      "text/plain": "label\nbonafide    3231\nspoof       3219\nName: count, dtype: int64"
     },
     "execution_count": 12,
     "metadata": {},
     "output_type": "execute_result"
    }
   ],
   "source": [
    "train_df_info['label'].value_counts()"
   ],
   "metadata": {
    "collapsed": false,
    "ExecuteTime": {
     "end_time": "2025-02-06T20:24:42.225046Z",
     "start_time": "2025-02-06T20:24:42.217018Z"
    }
   },
   "id": "c0f39f2b93eeb498"
  },
  {
   "cell_type": "code",
   "execution_count": 13,
   "outputs": [],
   "source": [
    "# get a file that was augmented\n",
    "train_augmented_files = [f for f in os.listdir(train_dir) if f.startswith(\"aug_\")]\n",
    "\n",
    "example_aug_file = train_augmented_files[2]\n",
    "example_orig_file = example_aug_file[4:]\n",
    "\n"
   ],
   "metadata": {
    "collapsed": false,
    "ExecuteTime": {
     "end_time": "2025-02-06T20:24:48.756126Z",
     "start_time": "2025-02-06T20:24:48.726489Z"
    }
   },
   "id": "a97cdf32f5651df1"
  },
  {
   "cell_type": "code",
   "execution_count": 14,
   "outputs": [
    {
     "data": {
      "text/plain": "<pydub.audio_segment.AudioSegment at 0x3303e1370>",
      "text/html": "\n                    <audio controls>\n                        <source src=\"data:audio/mpeg;base64,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\" type=\"audio/mpeg\"/>\n                        Your browser does not support the audio element.\n                    </audio>\n                  "
     },
     "execution_count": 14,
     "metadata": {},
     "output_type": "execute_result"
    }
   ],
   "source": [
    "# display original file\n",
    "AudioSegment.from_file(f\"{train_dir}/{example_orig_file}\", format=\"flac\")"
   ],
   "metadata": {
    "collapsed": false,
    "ExecuteTime": {
     "end_time": "2025-02-06T20:25:08.283217Z",
     "start_time": "2025-02-06T20:25:07.844081Z"
    }
   },
   "id": "cef29490d8fb827d"
  },
  {
   "cell_type": "code",
   "execution_count": 15,
   "outputs": [
    {
     "data": {
      "text/plain": "<pydub.audio_segment.AudioSegment at 0x33066e310>",
      "text/html": "\n                    <audio controls>\n                        <source src=\"data:audio/mpeg;base64,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\" type=\"audio/mpeg\"/>\n                        Your browser does not support the audio element.\n                    </audio>\n                  "
     },
     "execution_count": 15,
     "metadata": {},
     "output_type": "execute_result"
    }
   ],
   "source": [
    "# display augmentation file\n",
    "AudioSegment.from_file(f\"{train_dir}/{example_aug_file}\", format=\"flac\")"
   ],
   "metadata": {
    "collapsed": false,
    "ExecuteTime": {
     "end_time": "2025-02-06T20:25:14.037687Z",
     "start_time": "2025-02-06T20:25:13.834899Z"
    }
   },
   "id": "715d06115286a4d2"
  },
  {
   "cell_type": "code",
   "execution_count": 49,
   "outputs": [
    {
     "name": "stdout",
     "output_type": "stream",
     "text": [
      "      file_name label\n",
      "0  LA_E_2834763     1\n",
      "1  LA_E_8877452     1\n",
      "2  LA_E_6828287     1\n",
      "3  LA_E_6977360     1\n",
      "4  LA_E_5932896     1\n"
     ]
    }
   ],
   "source": [
    "train_df = data_utils.process_data_frame(train_dir, train_df_info)\n",
    "val_df = data_utils.process_data_frame(val_dir, val_df_info)\n",
    "test_df = data_utils.process_data_frame(test_dir, test_df_info)"
   ],
   "metadata": {
    "collapsed": false,
    "ExecuteTime": {
     "end_time": "2025-02-06T21:47:29.319625Z",
     "start_time": "2025-02-06T21:47:29.071652Z"
    }
   },
   "id": "e4fdcea353786df7"
  },
  {
   "cell_type": "code",
   "execution_count": 17,
   "outputs": [
    {
     "data": {
      "text/plain": "             file_name label\n5325  aug_LA_T_9854555     1",
      "text/html": "<div>\n<style scoped>\n    .dataframe tbody tr th:only-of-type {\n        vertical-align: middle;\n    }\n\n    .dataframe tbody tr th {\n        vertical-align: top;\n    }\n\n    .dataframe thead th {\n        text-align: right;\n    }\n</style>\n<table border=\"1\" class=\"dataframe\">\n  <thead>\n    <tr style=\"text-align: right;\">\n      <th></th>\n      <th>file_name</th>\n      <th>label</th>\n    </tr>\n  </thead>\n  <tbody>\n    <tr>\n      <th>5325</th>\n      <td>aug_LA_T_9854555</td>\n      <td>1</td>\n    </tr>\n  </tbody>\n</table>\n</div>"
     },
     "execution_count": 17,
     "metadata": {},
     "output_type": "execute_result"
    }
   ],
   "source": [
    "train_df[train_df['file_name'] == example_aug_file[:-5]]"
   ],
   "metadata": {
    "collapsed": false,
    "ExecuteTime": {
     "end_time": "2025-02-06T20:26:44.524045Z",
     "start_time": "2025-02-06T20:26:44.515966Z"
    }
   },
   "id": "49efcd40748ebef4"
  },
  {
   "cell_type": "code",
   "execution_count": 36,
   "outputs": [
    {
     "data": {
      "text/plain": "label\n1    22296\n0     2548\nName: count, dtype: int64"
     },
     "execution_count": 36,
     "metadata": {},
     "output_type": "execute_result"
    }
   ],
   "source": [
    "val_df['label'].value_counts()"
   ],
   "metadata": {
    "collapsed": false,
    "ExecuteTime": {
     "end_time": "2025-02-06T20:43:21.013921Z",
     "start_time": "2025-02-06T20:43:20.999167Z"
    }
   },
   "id": "6d47333c3c19ea69"
  },
  {
   "cell_type": "code",
   "execution_count": 37,
   "outputs": [],
   "source": [
    "# Reduce validation set significantly, and balance data for each label\n",
    "val_bonafide_rows = val_df[val_df['label'] == 0]\n",
    "val_bonafide_rows = val_bonafide_rows.sample(n=int(len(val_bonafide_rows) * 0.3))\n",
    "val_spoof_rows = val_df[val_df['label'] == 1].sample(n=len(val_bonafide_rows))\n",
    "\n",
    "val_df = pd.concat([val_bonafide_rows, val_spoof_rows], ignore_index=True)"
   ],
   "metadata": {
    "collapsed": false,
    "ExecuteTime": {
     "end_time": "2025-02-06T20:43:31.470734Z",
     "start_time": "2025-02-06T20:43:31.455637Z"
    }
   },
   "id": "365ab73e6db4fb31"
  },
  {
   "cell_type": "code",
   "execution_count": 40,
   "outputs": [
    {
     "data": {
      "text/plain": "label\n0    764\n1    764\nName: count, dtype: int64"
     },
     "execution_count": 40,
     "metadata": {},
     "output_type": "execute_result"
    }
   ],
   "source": [
    "val_df['label'].value_counts()"
   ],
   "metadata": {
    "collapsed": false,
    "ExecuteTime": {
     "end_time": "2025-02-06T20:43:46.857280Z",
     "start_time": "2025-02-06T20:43:46.849072Z"
    }
   },
   "id": "c413abf406f763b7"
  },
  {
   "cell_type": "code",
   "execution_count": 51,
   "outputs": [],
   "source": [
    "train_dataset = audio_utils.AudioDataset(data_dir=train_dir, df=train_df)\n",
    "val_dataset = audio_utils.AudioDataset(data_dir=val_dir, df=val_df)\n",
    "test_dataset = audio_utils.AudioDataset(data_dir=test_dir, df=test_df)"
   ],
   "metadata": {
    "collapsed": false,
    "ExecuteTime": {
     "end_time": "2025-02-06T21:47:52.571066Z",
     "start_time": "2025-02-06T21:47:52.555427Z"
    }
   },
   "id": "f85e68e706979634"
  },
  {
   "cell_type": "code",
   "execution_count": 28,
   "outputs": [
    {
     "name": "stdout",
     "output_type": "stream",
     "text": [
      "Device chosen: mps\n"
     ]
    }
   ],
   "source": [
    "device = torch.device('mps' if torch.mps.is_available() else 'cuda' if torch.cuda.is_available() else 'cpu')\n",
    "print(f\"Device chosen: {device}\")"
   ],
   "metadata": {
    "collapsed": false,
    "ExecuteTime": {
     "end_time": "2025-02-06T20:30:05.351055Z",
     "start_time": "2025-02-06T20:30:05.283818Z"
    }
   },
   "id": "dcfc3aaf613c7db1"
  },
  {
   "cell_type": "code",
   "execution_count": 29,
   "outputs": [],
   "source": [
    "def freeze_except_classifier(model):\n",
    "    \"\"\"\n",
    "    Freeze all layers of the Wav2Vec 2.0 model except the classifier layers.\n",
    "    \"\"\"\n",
    "    \n",
    "    # Freeze all parameters in the Wav2Vec 2.0 model\n",
    "    for param in model.wav2vec2.parameters():\n",
    "        param.requires_grad = False\n",
    "\n",
    "    # Unfreeze the classifier layers\n",
    "    for param in model.classifier.parameters():\n",
    "        param.requires_grad = True\n",
    "\n",
    "    print(\"Wav2Vec 2.0 layers frozen. Only classifier layers are trainable.\")"
   ],
   "metadata": {
    "collapsed": false,
    "ExecuteTime": {
     "end_time": "2025-02-06T20:30:09.870681Z",
     "start_time": "2025-02-06T20:30:09.846398Z"
    }
   },
   "id": "41f2c7c797d13ca4"
  },
  {
   "cell_type": "code",
   "execution_count": 30,
   "outputs": [],
   "source": [
    "# Hyperparameters\n",
    "LEARNING_RATE = 0.001\n",
    "criterion = nn.BCEWithLogitsLoss()\n",
    "EPOCHS = 5\n",
    "BATCH_SIZE = 16"
   ],
   "metadata": {
    "collapsed": false,
    "ExecuteTime": {
     "end_time": "2025-02-06T20:30:12.952052Z",
     "start_time": "2025-02-06T20:30:12.946632Z"
    }
   },
   "id": "d5107dfba5eeac0b"
  },
  {
   "cell_type": "code",
   "execution_count": 42,
   "outputs": [
    {
     "name": "stderr",
     "output_type": "stream",
     "text": [
      "/Library/Python/3.9/site-packages/transformers/configuration_utils.py:312: UserWarning: Passing `gradient_checkpointing` to a config initialization is deprecated and will be removed in v5 Transformers. Using `model.gradient_checkpointing_enable()` instead, or if you are using the `Trainer` API, pass `gradient_checkpointing=True` in your `TrainingArguments`.\n",
      "  warnings.warn(\n"
     ]
    },
    {
     "name": "stdout",
     "output_type": "stream",
     "text": [
      "Wav2Vec 2.0 layers frozen. Only classifier layers are trainable.\n",
      "Progress of epoch 1/5: loop 0/404 finished\n",
      "Progress of epoch 1/5: loop 50/404 finished\n",
      "Progress of epoch 1/5: loop 100/404 finished\n",
      "Progress of epoch 1/5: loop 150/404 finished\n",
      "Progress of epoch 1/5: loop 200/404 finished\n",
      "Progress of epoch 1/5: loop 250/404 finished\n",
      "Progress of epoch 1/5: loop 300/404 finished\n",
      "Progress of epoch 1/5: loop 350/404 finished\n",
      "Progress of epoch 1/5: loop 400/404 finished\n",
      "Epoch [1/5], Loss: 0.5960, Train Accuracy: 79.29%, Val Accuracy: 0.77%\n",
      "Progress of epoch 2/5: loop 0/404 finished\n",
      "Progress of epoch 2/5: loop 50/404 finished\n",
      "Progress of epoch 2/5: loop 100/404 finished\n",
      "Progress of epoch 2/5: loop 150/404 finished\n",
      "Progress of epoch 2/5: loop 200/404 finished\n",
      "Progress of epoch 2/5: loop 250/404 finished\n",
      "Progress of epoch 2/5: loop 300/404 finished\n",
      "Progress of epoch 2/5: loop 350/404 finished\n",
      "Progress of epoch 2/5: loop 400/404 finished\n",
      "Epoch [2/5], Loss: 0.5641, Train Accuracy: 85.88%, Val Accuracy: 0.85%\n",
      "Progress of epoch 3/5: loop 0/404 finished\n",
      "Progress of epoch 3/5: loop 50/404 finished\n",
      "Progress of epoch 3/5: loop 100/404 finished\n",
      "Progress of epoch 3/5: loop 150/404 finished\n",
      "Progress of epoch 3/5: loop 200/404 finished\n",
      "Progress of epoch 3/5: loop 250/404 finished\n",
      "Progress of epoch 3/5: loop 300/404 finished\n",
      "Progress of epoch 3/5: loop 350/404 finished\n",
      "Progress of epoch 3/5: loop 400/404 finished\n",
      "Epoch [3/5], Loss: 0.5610, Train Accuracy: 86.57%, Val Accuracy: 0.83%\n",
      "Progress of epoch 4/5: loop 0/404 finished\n",
      "Progress of epoch 4/5: loop 50/404 finished\n",
      "Progress of epoch 4/5: loop 100/404 finished\n",
      "Progress of epoch 4/5: loop 150/404 finished\n",
      "Progress of epoch 4/5: loop 200/404 finished\n",
      "Progress of epoch 4/5: loop 250/404 finished\n",
      "Progress of epoch 4/5: loop 300/404 finished\n",
      "Progress of epoch 4/5: loop 350/404 finished\n",
      "Progress of epoch 4/5: loop 400/404 finished\n",
      "Epoch [4/5], Loss: 0.5578, Train Accuracy: 86.96%, Val Accuracy: 0.88%\n",
      "Progress of epoch 5/5: loop 0/404 finished\n",
      "Progress of epoch 5/5: loop 50/404 finished\n",
      "Progress of epoch 5/5: loop 100/404 finished\n",
      "Progress of epoch 5/5: loop 150/404 finished\n",
      "Progress of epoch 5/5: loop 200/404 finished\n",
      "Progress of epoch 5/5: loop 250/404 finished\n",
      "Progress of epoch 5/5: loop 300/404 finished\n",
      "Progress of epoch 5/5: loop 350/404 finished\n",
      "Progress of epoch 5/5: loop 400/404 finished\n",
      "Epoch [5/5], Loss: 0.5579, Train Accuracy: 86.82%, Val Accuracy: 0.88%\n"
     ]
    }
   ],
   "source": [
    "wav2vec = Wav2Vec2BinaryClassifier()\n",
    "freeze_except_classifier(wav2vec)\n",
    "\n",
    "optimizer = torch.optim.Adam(wav2vec.parameters(), lr=LEARNING_RATE)\n",
    "wav2vec.to(device)\n",
    "\n",
    "train_loader = DataLoader(train_dataset, batch_size=BATCH_SIZE, shuffle=True, num_workers=2)\n",
    "val_loader = DataLoader(val_dataset, batch_size=BATCH_SIZE, shuffle=False, num_workers=2)\n",
    "\n",
    "results = train_utils.train_model(wav2vec, train_loader, val_loader, criterion, optimizer, EPOCHS, device) "
   ],
   "metadata": {
    "collapsed": false,
    "ExecuteTime": {
     "end_time": "2025-02-06T21:37:40.343259Z",
     "start_time": "2025-02-06T20:44:12.539885Z"
    }
   },
   "id": "d2e262fe336558e0"
  },
  {
   "cell_type": "code",
   "execution_count": 44,
   "outputs": [],
   "source": [
    "last_val_accuracy, best_val, history = results"
   ],
   "metadata": {
    "collapsed": false,
    "ExecuteTime": {
     "end_time": "2025-02-06T21:40:28.079392Z",
     "start_time": "2025-02-06T21:40:28.052800Z"
    }
   },
   "id": "5c73128739554bd3"
  },
  {
   "cell_type": "code",
   "execution_count": 46,
   "outputs": [
    {
     "data": {
      "text/plain": "<Figure size 1200x500 with 2 Axes>",
      "image/png": "[encoded data removed]"
     },
     "metadata": {},
     "output_type": "display_data"
    }
   ],
   "source": [
    "plot_results(history['train_loss'], history['val_accuracy'], 5)"
   ],
   "metadata": {
    "collapsed": false,
    "ExecuteTime": {
     "end_time": "2025-02-06T21:41:21.285838Z",
     "start_time": "2025-02-06T21:41:20.584802Z"
    }
   },
   "id": "5ae75fdf7ebc09d0"
  },
  {
   "cell_type": "code",
   "execution_count": 52,
   "outputs": [],
   "source": [
    "test_loader = DataLoader(test_dataset, batch_size=BATCH_SIZE, shuffle=False)\n",
    "test_data = train_utils.evaluate_model(wav2vec, test_loader, criterion, device)"
   ],
   "metadata": {
    "collapsed": false,
    "ExecuteTime": {
     "end_time": "2025-02-06T22:18:07.744986Z",
     "start_time": "2025-02-06T21:48:03.925228Z"
    }
   },
   "id": "76747daf318580f7"
  },
  {
   "cell_type": "code",
   "execution_count": 53,
   "outputs": [
    {
     "data": {
      "text/plain": "{'loss': 0.46496097966041455,\n 'accuracy': 0.7000294790628465,\n 'precision': 0.9988032382963745,\n 'recall': 0.6662909739832816,\n 'f1': 0.7993464604636751,\n 'eer': 0.25151893439184386}"
     },
     "execution_count": 53,
     "metadata": {},
     "output_type": "execute_result"
    }
   ],
   "source": [
    "test_data"
   ],
   "metadata": {
    "collapsed": false,
    "ExecuteTime": {
     "end_time": "2025-02-06T22:18:20.800544Z",
     "start_time": "2025-02-06T22:18:20.784420Z"
    }
   },
   "id": "7035a7383692a6c5"
  },
  {
   "cell_type": "code",
   "execution_count": 54,
   "outputs": [],
   "source": [
    "torch.save(wav2vec.state_dict(), \"trained_models/wav2vec_model_weights.pth\")"
   ],
   "metadata": {
    "collapsed": false,
    "ExecuteTime": {
     "end_time": "2025-02-06T22:29:36.407829Z",
     "start_time": "2025-02-06T22:29:31.332777Z"
    }
   },
   "id": "72a7b64f6727e29e"
  }
 ],
 "metadata": {
  "kernelspec": {
   "display_name": "Python 3",
   "language": "python",
   "name": "python3"
  },
  "language_info": {
   "codemirror_mode": {
    "name": "ipython",
    "version": 2
   },
   "file_extension": ".py",
   "mimetype": "text/x-python",
   "name": "python",
   "nbconvert_exporter": "python",
   "pygments_lexer": "ipython2",
   "version": "2.7.6"
  }
 },
 "nbformat": 4,
 "nbformat_minor": 5
}
