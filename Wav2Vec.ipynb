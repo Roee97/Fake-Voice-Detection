{
 "cells": [
  {
   "cell_type": "code",
   "execution_count": 41,
   "id": "initial_id",
   "metadata": {
    "collapsed": true,
    "ExecuteTime": {
     "end_time": "2025-02-04T09:23:54.492152Z",
     "start_time": "2025-02-04T09:23:54.487771Z"
    }
   },
   "outputs": [],
   "source": [
    "import os\n",
    "\n",
    "from transformers import Wav2Vec2Model\n",
    "import torch.nn as nn\n",
    "from pydub import AudioSegment\n",
    "import torch\n",
    "from torch.utils.data import DataLoader\n"
   ]
  },
  {
   "cell_type": "code",
   "execution_count": 3,
   "outputs": [],
   "source": [
    "# Local imports\n",
    "import data_utils\n",
    "import importlib\n",
    "importlib.reload(data_utils)\n",
    "from data_utils import get_data\n",
    "from utils import load_protocol, plot_results\n",
    "import train_utils\n",
    "import audio_utils"
   ],
   "metadata": {
    "collapsed": false,
    "ExecuteTime": {
     "end_time": "2025-02-03T12:33:44.842837Z",
     "start_time": "2025-02-03T12:33:44.271414Z"
    }
   },
   "id": "ae6296b26406970f"
  },
  {
   "cell_type": "code",
   "execution_count": 38,
   "outputs": [],
   "source": [
    "import importlib\n",
    "importlib.reload(audio_utils)\n",
    "dataset_path = get_data()\n",
    "\n",
    "train_dir = f\"{dataset_path}/LA/LA/ASVspoof2019_LA_train/flac\"\n",
    "val_dir = f\"{dataset_path}/LA/LA/ASVspoof2019_LA_dev/flac\"\n",
    "test_dir = f\"{dataset_path}/LA/LA/ASVspoof2019_LA_eval/flac\""
   ],
   "metadata": {
    "collapsed": false,
    "ExecuteTime": {
     "end_time": "2025-02-04T09:20:31.431358Z",
     "start_time": "2025-02-04T09:20:31.253626Z"
    }
   },
   "id": "933a0fafab3dbc36"
  },
  {
   "cell_type": "code",
   "execution_count": 39,
   "outputs": [],
   "source": [
    "# Add augmentations to train data\n",
    "audio_utils.add_augmentations(train_dir)"
   ],
   "metadata": {
    "collapsed": false,
    "ExecuteTime": {
     "end_time": "2025-02-04T09:22:05.604752Z",
     "start_time": "2025-02-04T09:20:33.711628Z"
    }
   },
   "id": "9fcd3218d507a9c4"
  },
  {
   "cell_type": "code",
   "execution_count": 53,
   "outputs": [],
   "source": [
    "# get a file that was augmented\n",
    "train_augmented_files = [f for f in os.listdir(train_dir) if f.startswith(\"aug_\")]\n",
    "\n",
    "example_aug_file = train_augmented_files[2]\n",
    "example_orig_file = example_aug_file[4:]\n",
    "\n"
   ],
   "metadata": {
    "collapsed": false,
    "ExecuteTime": {
     "end_time": "2025-02-04T09:27:56.256106Z",
     "start_time": "2025-02-04T09:27:56.233189Z"
    }
   },
   "id": "a97cdf32f5651df1"
  },
  {
   "cell_type": "code",
   "execution_count": 51,
   "outputs": [
    {
     "name": "stderr",
     "output_type": "stream",
     "text": [
      "Python(54161) MallocStackLogging: can't turn off malloc stack logging because it was not enabled.\n",
      "Python(54162) MallocStackLogging: can't turn off malloc stack logging because it was not enabled.\n",
      "Python(54163) MallocStackLogging: can't turn off malloc stack logging because it was not enabled.\n"
     ]
    },
    {
     "data": {
      "text/plain": "<pydub.audio_segment.AudioSegment at 0x177143e80>",
      "text/html": "\n                    <audio controls>\n                        <source src=\"data:audio/mpeg;base64,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\" type=\"audio/mpeg\"/>\n                        Your browser does not support the audio element.\n                    </audio>\n                  "
     },
     "execution_count": 51,
     "metadata": {},
     "output_type": "execute_result"
    }
   ],
   "source": [
    "# display original file\n",
    "AudioSegment.from_file(f\"{train_dir}/{example_orig_file}\", format=\"flac\")"
   ],
   "metadata": {
    "collapsed": false,
    "ExecuteTime": {
     "end_time": "2025-02-04T09:27:42.029466Z",
     "start_time": "2025-02-04T09:27:41.828478Z"
    }
   },
   "id": "cef29490d8fb827d"
  },
  {
   "cell_type": "code",
   "execution_count": 54,
   "outputs": [
    {
     "name": "stderr",
     "output_type": "stream",
     "text": [
      "Python(54174) MallocStackLogging: can't turn off malloc stack logging because it was not enabled.\n",
      "Python(54175) MallocStackLogging: can't turn off malloc stack logging because it was not enabled.\n",
      "Python(54176) MallocStackLogging: can't turn off malloc stack logging because it was not enabled.\n"
     ]
    },
    {
     "data": {
      "text/plain": "<pydub.audio_segment.AudioSegment at 0x32a425040>",
      "text/html": "\n                    <audio controls>\n                        <source src=\"data:audio/mpeg;base64,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\" type=\"audio/mpeg\"/>\n                        Your browser does not support the audio element.\n                    </audio>\n                  "
     },
     "execution_count": 54,
     "metadata": {},
     "output_type": "execute_result"
    }
   ],
   "source": [
    "AudioSegment.from_file(f\"{train_dir}/{example_aug_file}\", format=\"flac\")"
   ],
   "metadata": {
    "collapsed": false,
    "ExecuteTime": {
     "end_time": "2025-02-04T09:27:58.886784Z",
     "start_time": "2025-02-04T09:27:58.555044Z"
    }
   },
   "id": "715d06115286a4d2"
  },
  {
   "cell_type": "code",
   "execution_count": 6,
   "outputs": [
    {
     "data": {
      "text/plain": "<pydub.audio_segment.AudioSegment at 0x105a264c0>",
      "text/html": "\n                    <audio controls>\n                        <source src=\"data:audio/mpeg;base64,SUQzBAAAAAAAIlRTU0UAAAAOAAADTGF2ZjYxLjcuMTAwAAAAAAAAAAAAAAD/81jAAAAAAAAAAAAASW5mbwAAAA8AAADuAABlHAAEBwoMDhETFxkbHiAiJigrLS8yNTc6PD9BREdJTE5QVFZYW11gYmVoamxvcXV3eXx+gYSGiYuNkJOWmJqdn6Klp6qsrrK0trm7vsDDxsjLzc/T1dfa3N/i5Ofp6+7x9Pb4+/0AAAAATGF2YzYxLjE5AAAAAAAAAAAAAAAAJAOuAAAAAAAAZRw4ayUYAAAAAAAAAAAAAAD/8zjEABMQblQCYkYI4vHMCYFo3iAEAwTo0b139ABEREQQD4Pg+D4OAgCAIAgD4Pg+D4OAgCAIAgD4Pg+D4OAgCAIBhZ+9Ehrf/g+D4PmgQd/5AHz/Kd/1BhUWq8ywowMpTDeJk+dyGVlGm3z/8zjEEhAIalwUekxAFJB2pjmJCoBCY0FQMHREHdywnpUwlaN0W3ttItXjxnelbtmLOcrT3/7a/dz1daoIg3/J4A7DoWSMA0EIfwVPHC8PBjo1ztr6Jf1l3uu6TnlLP7k/9mZ2ZkhforFCjDD/8zjEMBf6MmDVTxgAeeam/Ao4gxDAb5EcscMR7shFBAYRkZGTzeflCs2KE45DlANQJqAY16luGoKbe//ToIKmHDrQLANVc6D4AOAr9T5y5r5bY5DRk1kmRAzCnwNNw1V5PoGiAxhBhYBq/MD/8zjELyBrEogBmpgA0QdAV4aIzotAz719nY0UgK+OQGrxei5xO/9n7pi1iFxkxO4hOPYYz/9Ru63pxCcehXCEK4hQnT4uT//36+US2RQpnygswSoK/////oVIMcNDR1r59/gJOoB+nCEuTeD/8zjEDBcp0sQBj0gACfXwgWQWokRjjQfHRSmZjbP6f/r9OPjlet+ev6QxXdP+ndO8n7TVlTEkDR/Si9k9SmipdbEYrWhG/llz0SkNj7D5K5NwJAULWM7FtfdU//9dtocOPtXqmP+5apl42JX/8zjEDhi6moABmWgBFQ4ZISJiljohg6hVTB3SQQRZSL/0ElJJev6nMUTcLbt/xjDBBJRLiETQ5UyW9XfxzkYTYYIdyReJJVTKVf/6SNRNUmXUnRS/v//6y6isuompdcukunZyL2MRnYilKE3/8zjEChUZ0qgBhigA9rEMgkJilKmRziQdQ3Z8TE0USMFgyE2i5RpzDg8Cix2HvuuZ3tZa2Xkb9kqqexhqn+iOPjyAhPqBZYz/qQDBoDwOkkRxQ9/+f/0VYfSiLAROYD/u8sddgVQnr2ns6m3/8zjEFBoQ9qpX2kgAlwszgWpWBocQKgNYEAkzoNlE/lSWMqSH91lpCSG9AujmjqoXpAKBQ7Z0gTJ22xUaBHQmBFUBjXidU4IGCc3nzkHxAZggET9YfDGpL8T8ccrCLxtbFf/e9Y0CwplAQ7X/8zjEChbB0rAA28q4O9+zkPAAEgl2FQnK7s/JnLmv/w3xa6//ir2v8fUBXKnOviFCUI5GGfO9VfqvH33ORvqnqimFHzOOAdCcgcGGbkGQQqKnHMAAcP2C3u7t5DaUcASlo1nddt3gUWNbpO3/8zjEDheLLsQ2BgoUDL2BGB6rLEPfgUBwV01yt9FFf3L+YRHGekaBf1L/L/Qv6P7sJDRX5lb+38u/lLfqVm9ytdLysx0QWI08iCAqHzCDHcTeJgQTdXEBTOdyCkmqIQH8sABB5oxBdAZGA8H/8zjEDhRTRr2WUBWq0w4mFUcHxCeS5MrascajqzKaQkXWY3/+dR7ohh6ppNN6/T//+h6qef0tnsr555ksYYYiqgA0YhbFcCiGgnAGgLBejaoxU2y2WziO+vsBdQhJRaPCyNRYRnYsp/DgWJP/8zjEGxO5tuW8AYYKKo6Bwy5kae8W8yHGChJmRleZ5lPqn8zIzSx8hxiNPe4rzr3pCWoJCVgsokyre1///EUWNQBA+ixDs8pTLNWBNCOBwpd1rkysEez0Yc6ZcQY9GvZ5bzS1A3mx+4oiVib/8zjEKxOJDrZIDpA0cjI5/3Dto5qyAUEtsOgsOw/MiqgQqaHzlAONUkQLeBAfT/UqAUUsqdfwQDNorUpLX7+7RjjRxTCc1C7zvuG9SgqG1/ePfoKtN+5S+i/2N9HKnqOBFVIccprZChgbPnP/8zjEOxRJnvZWBoQ6BQRqwhRUxCzWXGTCnGiJc0Aiqv/+hVUEQhf9XcoHxwBHFoNSaKr9jgAzILH/Y0MIU5f/ErYzRvcBL2sBG6HIAiVTRS+hTG9HKX1mf8pdWQdno7GRWyym+W3+VvXojs//8zjESBTCuto2C8Q7//+rOVGUT1gJm/IaxkAXH+PuCUAAqFsIQjoz1qOrLI5v3kesQc4w/OWjL///PRddf//by//b/X/9v/bq9L0ZP1+9kzGPU0nU412QxDEY+eegN4AcF4WQJBHQfmI1FoD/8zjEVBRjPqxWeFTdFEoAg9lE0lC1IcVzucrQWXDNuRqam6D8PTn15f3//53//1//2J/Ic/U6MhJzgYGBgYx3YjAbkoEAAGIAAMBA5Wf7dbv///+Ijx0GVQBWq7tbI4A/koNoPhEOJmmaBkH/8zjEYRNRwsEWDgQ0B7hbw5MVqOBBANBr0VTyIFybn8R57bRUW7WHRe/bIM3qe/yjU5tDkI3up1uDknPU3J5eOjnV7tXFCKuI+nlFCMBie2qAbDPBgCWOVVuf8AwwBY/TREmrCoc7Zr/FKv3/8zjEchRhzvZcmdjazZoklIiLIWDQde1oRbBbEfqR6iCWHWI+mIlb4YDoVSVcaGm+Ge3o4hdp4m5Xr4i6f5UAQABuRIAGAfOoIynAhiUS76rchylBLBE5B9flOTCwLzXgwlCt7v6bfmyp9MH/8zjEfxSBBu5cAF4CSR5xCzraWeZjPQw1Utv5lAYVxnKnfdiVMFQ0FMt2f/b/+hSYw2oEcADJdXdwP//3k9IGDIkQSAgma72Os3ClxM9KMKE4ByBiAi3UbV/AtPV7uCyIEXENK9pbtSMIwQ7/8zjEjBSY6speDl40TjG/eqxWHccWs1wAAv2mxM1802I/fvl86X2cNcuaUyK8Uie+CM79NEFGu0hGaQnZEzvWh9t2Y7k5wxagpsdBySoEQAKXPZZeP/jMi7AOUoT7RcuuRJTFV0bMJ9CV0bP/8zjEmB5Svro+y8a1+0FCzM18B0Da/4KoWOYWdYFl/kVFUbr1XYoy6FQhcky0Kn/54vWJJN/laiGGHeze1NevB3r2sM3HU9v/FrWzf//8f8pc3MSjXa2sxdPKfzC/njFSA0H4dnh9V88EAbD/8zjEfR3rPsY/T0AD4IxXK7ZJABiTFsFAywp3BxEA3h5y6B0f9bZKB0Kdz//penBzo9Rof//9+uPHVYmbxw///ki7jV2xIQhg3DRTf///W7sbfpzjINjkc7MmPveP8fzSPp2S7k6cZFQrH+7/8zjEZCcDJrm/j3gCG7iZ/pm+63vrHbpazQmJrUjZaZlkrNJDmiP7/c//z//vHzrX3fWo9q29tVhVh1tavpLXUOlp4kXVP+X6EIKoBICAQ4plT7hcclBHYFkhKImDDbnPaCV6WaMZNi9ara//8zjEJx8Z2sQBmcgA+Aeze3evynO3qpjKtRjVfm+fE8KCQfIL8llrEE1n+dzmlL4k2CTaqfnlv7t2/+scsaTv4/c7yksaz7n9fKPyOrF8NYWqTkrrdrnv03NTF9KHf0dndSoAxEhydK3AP///8zjECRdRquJXzzgC6dDFZ3q7Q2C/MoIlW5arK5VG4zRvyhAaDJisxAkApT2UUicDQXszmMRDIya7oeKwXDRWHy5MSg5kqhhp/1/t+c32Inz1OkOK/6d6NS9bSrg/UsUkalAJHBMmAs080IT/8zjEChRBrrkWAwYYbQ9CchKAU4Xk25iOIAJEEp/pCoBGTfAon/6AmpVeM7MwZqJjbUKAkzMq7H////w+epMtVVgEKKu8Su//iXlg7LPKhqGqg4oWvkvDKN4imEdLE6q6cGCzFG3Ai6pmLrX/8zjEGBQRymQVTxAA59Wv+/0+jsf2lTSntulf2pZG1KxqdXVHYrOFK8sKoOOd1mAUAYslxYWg+LtfseK1FQnHiwEkM1qqSrilUtk4vF92u23F4A2d2EkT5uN2BfkqAbnBMTzRcssAGBOvz6f/8zjEJh7i/v5fjEEiw/FxOG//KqNrBoLECJ/+yKIofrYiB4I5REJX+JzCYRzD7QfRif/VdvAvA4nWzDg4xcw0+vnp77/mj7s9EFJaVb7ghUHYr/////1ykLPFU9ujY9SsBKoxB3bbbbYAf///8zjECRVBvuG/z0AAzDSxLVE+z6MZnFGHS5xIqvLoVKEKrc6TUpd3EpK31zVr/N01bc0a1RdXTj17qf/1ZWq5ZWUfXLB6EQmPRixQgQSgVcKiT/VSXct3FUxAU7NbJNaB/edYqCJkHBWGfJX/8zjEExVJss5fSRgCMtaq4VHR1FdW4kMK+GtL1lAQwI14ZNfscTDYM8FE17S//b/JuWlxqsbMKCHI1DEQkayxblhYOhMyEn+tV+SJFesNVQWMKUQQQQQAtanMxECR8kaN5hiiySgCPJFoIsT/8zjEHBvy/qT1hVAAcuZ8wwiEQNCQfmCsH35hhIULSAsgtof/JyBlQw4KQ5HIXM/7GFzDC5ASR4Yw/J7Glf/3McwxzDFfH9DFJ1VmJD//+sn1fP9WPJELA6SDAnEn//+hCYiZpYl9/+OAP/7/8zjECxSxGysf2EACrbeCKgWJ5iHMlLvy6MSlE9VYHAZc9cWff+U9vxBcqxpwChgdiKNkYnp/Uvc/vCIiU4ybez5h4xXaeGDCpwTg+feIwWb//9Y9AkyuEIA8yzHWo5NZmv/GmZyEGk/Jynf/8zjEFxTZAsWUDhg00W2AlqQi3xzo8DqSkfvdysCgpEntgPyuA9TGf/xUGY+DtfpyF986m0jhldYql6BYPHgODLlGFaS52pGtKgJAiQoHmDqNBQIyhgHHvG6g5zN98zswEghRxh3DbRANjl//8zjEIhShHsFWDhA22YFIe9fjgBhGWLsVA4AvUX5K//wcTMpJfqPaCoxomPaeJXYif//5dYNCUMjAZEQ+ugIBi/D/qfTOGQAAx+HDqIFLnLCP3ZYUVEnKYMA1OCcWku0oFBb2fOIwWojiNef/8zjELhUI3o1U5gxQDttI1sAgcY7knkox5wFVKPKe12oO8GjwNh02Mif+W6xWv/+mtnVVJVjvm34H/cyp4quouia2S1dNJf/HdnCzreVNLu/pdYZARmGMjspNmWyxZtt5HFuTNUJBzgENCU//8zjEOBURKpx/WBgAaxY2VBJ4JLDVjBUbX9FLMcwrVJdSGktO8SlaOxUkgoISWLYEHjAYnamCDjMTdtTRn7sQ1g1yAx7NQTSe4zMyQ866KalEExkk97kc7vfbSgmHCs3RhssJ1KNs6q9SnDr/8zjEQiSDBlABmFgAB8pR87JljWNqAcFJPJ6hxjf7qJridkfoEwsG8QYI5QdLPfzURe+G2+O9j57Us6Tz6ahocMT/t4u59tdRx1fNcXf3qHHNem8PgNYHV/xn/BADb77eDW7lXT7Z9l8bNhn/8zjEDxjx6rTLmIgAf2GFSUFzwMs4eTLS0gRwi5XPJ9tJBkWTZN2Xom9TU1GiCJutFcyRamm9E3QPoWrZGXlPoWUTZXMzYuFtBZ51rUmpJJKxn+ZphYIAMNpCuHSPXzg2QQp/9fhKosI6nOn/8zjEChRpnrhB2TAA6IVr8FpOGgqgkQBMNmYgzRDdXsayzkWBQArzuTOBUDt7ZmzP8O2Vviadvus+bjeM2WfGx23Nwt7hJE5j8QIpOBFyoNCyc19SwgBUkjTlwGEwacAKYySQbPhIi7mPf4v/8zjEFxNZDtG+E8Y2QlctV/+ql+agwpKRAyZPhLGyO2T1Og89ELm87Y2JYyCodKnSonXh3flvUeEvcMS1mkOQZGRVVSACP8fwP/W6CnFHEeoeu3Z/EQjLcKxUeq9dr8UIJRkBN7OOZ/Z/uv7/8zjEKBSJ5r2UwJLYnr///k/3+c1F0kEFDFFgIuHRBgBxoTisNtzNoKYmujUcD78VP2EOj+oMKhABDJHI05IB+60CCGfz4ikINhc7kkkwsrjeWT/N/r7f0C+j///jnr6KdF/LlR4y7BtJhJP/8zjENBMyOu5eWFESaAYca4y1JD54W0INipqRt28fBumR11/cOjEg25IQCHBTJ7DsBfZ22+QWUlqUzE1ZIoSqdQ87XLN7YSrZvqCpd/7nfTNi3/m41O9d0znzhy0AhoGzIJQKVOij9ajyLKP/8zjERhNRFs2+A8wa///2OoYv5eoSoG+QCmHSWVQIwMFEibG2iKgHAuSk6TMGJ3u1JKd2McGaqFOZk3ajWvVCSc5l1ftev8yOu6iDwEKxZ1Cf7uxzVIf7NN8eWNFSRVDknXshkWNVEEtLT3L/8zjEVxRZirmWikRQIgAx1ZtFFsaaTyqCUZjwFTaR47rUT1JMzFe3RrgEH9bz75UERc6ysOAnAElHO62Jf/1o0gEHXLTNxzN2c6Z1xlRzTqAa3CcQiFYe7v/+lQdcmxU8Wuu/M3bbgD07zUf/8zjEZBThJsZWBhgYlygJBg8GM1L2uvQ0Kt3DvIAxtfsBoiz/RgjdX2Dwq3I2wGgLU78iCH0V8ELHPbma/Ui13NqWDWTasYYJhr452+dVKzBcvfzYD+FRtEoyOMKQ8pDuPJtVtE1Ye/xIe3r/8zjEbxRRrrSgBlAfh1+YBgYqZUMbyl2lDplvQwecrVKxn8vzOrUMHjIbKHRX0NVvMZ///1ZqGQPC2SWGvKnfiURJeJUBiQAPArao8WRTaQFgpaTmeWmmCTTnNnIOQrnVjKlfwQ4iMDEoG5//8zjEfBUyVtm3SygC8gkEGXm47iWidfzDD5MQRBPNWHCeO1nMV0kPhecYmOotPE1aP+Iebn6QZZ5qBykzn3/3CpfCd3NEgnn1TFJWDc9/8viftY+bn0Cg0+8+67b6Uotmvr/mq+rnfUvqn1L/8zjEhiUi3mgNmVgA9MPkTYjCxQSsPO/7v+IlbSApFklsslttt1tAAApwsdEGV3ImZyxNmAZ0LDCcYmCoIUmWNMJPqtAUAXHDh0EQ0yk09ADGhVen3SIMpnSGBIdavBTq2McMNRqMNvBLl0z/8zjEUCcqIsJfmcgD8cijLZNY9w5x1G3aBnlTXIDajqmpqammrmEvqaw7dvx7f7r4Tf0ncK07nzDmqsup+ayy7xic5KY/hvCpby3/7/8f/vecr4JdDToGnqp+P/8eRohcIKl+XKi09JRCEwz/8zjEEhmB4rgL2EgB0ADK5ypdC5TetgUhz7t04f/3r4f1BBe//3uf+c0mX5OeECbTHXb6OHUQIECrfUChJaOshJMVicUJgoBgUBsnUtIUMZeN7DznXm3vEf4GFw8d8f/kFKML6UlKBaR6NJb/8zjECxe6ruo2A8oft7raUjYey4M7f+VKWZZt/RZsGr/qIhx20MKfQ/qV29G+W3yK+hmfqZT8xSC4cZw8UAAR3jB89pTCYu2jnTVjKLrldTtq0jZVQj52nfNGCC12sfRNBjY4k/9sSdoH0gz/8zjECxb5xwL+hgRe4J5qSIwPgSHKzoSy2iel2Gm0KBzv834gG9NFa5hddNgtnmWFeIY5d324gr4cvpKnU5fkfqRjP1UxqZFdExBpyUGM+EU0gi6QI+pwK1J1br8sFLVW22zKUoGFuAGqY5//8zjEDhQ4/vZeBg4ePp6ZxSYyt9mW6uMYfN6ZVKc5lbD519d64Gi157sVLO/Ea93ccL2RUGwoJXHfhR+mhoSLhEFSIAJBI0pkXG6Pov//IxQZrbCncB//lqLchUbPem8Lk0xbSvnzEzT/18H/8zjEHBSons0fTzACLf/JoBtGQVDShKCssPEWJSzwanau3WGp4Goie8KHvBo9bdx8qQFn5HDTHlQVARENOBUAnQ6o2gKOpJJJFJJJIohEAR4VfroD0NAhjh8wQk4oZQLgFQVh/ColOeQHczz/8zjEKB9jGsW/iUAAvofeHUhQLEcfu9vNjHKONIq5mk/r0E4iOqDR388T/9/wgoeQIQoggQ0NFQ3//6dUZaO4oouCypFP/hmhm/rr//vzJxQXMQ8UMcRO422bZtitLP+v/poQJuf+srEFDAj/8zjECRURopzL2hAAMdNL3JisBfWhXenUPXQEumoxTw2oGqhEavM1Koot2eIHJbBBj+zsSUwVxBocIFIGHKVmVpbf7+2082FnhV/Z1Ov06+jTkvxKIqtiqiIk5rZ9v+B/3QTABjw2KrkiooL/8zjEExLZJtG/SBgCNxsSELX+GFX40ChnX6q+qkpfGP1jMFL59DQ0ePPDbDyCoK1CWHcXO+57DzD0lfBoh/7x4io7ErM1EgFlDQrGkkfSPJEWP58jWgkjO52nyx5o4sOjRICM1n4gQ4fUtX3/8zjEJhUxDnA3jygAsxBARA+3b4uaAdBXjjwDgDsneToc+4UT42YKDT7QOQuUKvfNV0Uy/B+cW7/p/60AtuSOSSSOW222WuSAD//6fXzEAUAHGybFK4rI4BkmmupEwpltipDBFawhNRIiASr/8zjEMCFaQs5fhkgD36ZEak3C0picQlwuq2JzpoSkCNEhkpUW1HF5SfN+IX0ijm7P7DotSpC2GGE7amtcY5NbsK03qcvJPo/nixCEUPNrG7DZglj3c331mNhbWxDfdY/a4UptSGs1Bo2m2i3/8zjECRcJEvZfmXgCtlsAAA+p9vdyiBwgJjEoXEup8XZYGARNDZQnHgxS3l7hLlyj2iPJIDHDxC3ArPH3ko0gjqx2XW/9//+2M/+JYRI/KDVgWqukPIwYFwEnv2D/MKRVwQK5ZIMB/X4hPjL/8zjECxTqxuV/zygD5qt0bwSQw1IxzuLWfh/L09vKpWNq5qHKYUDQHO6ChXAcHFDpVhWvaSvZ0r2PZaEnmy1YzsdVLRdKSo+vrz0bp////+tl3Ucq2jlwDudgBYSa5KdzUrC+KhqvXar0T+L/8zjEFhOpFrwUDlI0cSW8auXcf4urb8VR1VnE3IgVEyL1JM8MTjLxGERIT7Ctk6bGg+a7pcPPUgoqcZFLcAzrErAgYQlFEgBmdk4BXErcAZytCqZu/AErA1q5uwr1wXLP/dImzoczIvUBfS3/8zjEJhR5os2WA8QaEhiPhhRusztKocSGUiocIAsXq35SrYzOAlQqpEVUORKvQ95Zvar7dVSyLiwFTOtTbgf+8uUw6+DMBp7NgtiIs8M1AMGa9G5mabC3kr/Dm3iStwYNntOMY9KZn6kNKan/8zjEMxTBoqB/WRAAKVi1VvN+jlUui3VnMOFGURUZLIyLdT17G8bT91lad2lm4EMWiiAApU1zkkd4wsEqwBxUjhWa7Nyh24PAHBLBplRWQaDhQw+SsSGE5Oy0OcobsPWmGExx6Guh5yGLI57/8zjEPyHrzlQBm1AA7q5juQEJyIacdYqTEjEcw440lOd6mTEPRHY0hVScnPc0ypu+ZS/+/MtPdZx81DzbvbU02zn+jaIe60JDELHqeOn///+3//8oZZXv/R/5+x2+dOw06x9ZRZexQiiYxkD/8zjEFhpLDqQrjygAgH2RslQgECg/6IjHGlVU0aSw45w4QgcAgcp87ksZzuQXFxf/cnFLOqqNFKkI1q7PRXe7MriaOjPY/VWZraVe0iK76Mf0YjHNQxJ4qqhwXL/9v/Qq//13BRUQlNzh6UX/8zjECxSptrQB2UAA6uloZEByEgUhcTOrj0oTzPFYJIt6t0RqqctlbtCBRpWtBQ0450pAcDkoadi5Ywm3Ni3Tj+77/jqUXlEkuheS6IUhkH0k/9VFA0Ifwp6SGwusji3kVkVlwTCZAS3sqlD/8zjEFxRRorRUBgYY8DM1LUjl/RnC1VCqX00HbVqCFBRsqh0SdOGFASjMolQq+f6/mq//f/9VVQrieiTxY6WTrd/+z/3e+lUuNIyON8f/OEiAWgxXBucu2qGgcSGBCigqkUDZLuRXCJE8/Qr/8zjEJBU7Oqx+eMScnEQizmk9IId6eSeTyE98m1aM9GozTr22qdJEzr9N+jbH///P2kf/9ZFTZO8MIBpgzhZakBn8CEc6vu9ciQyxwqEIsThhsysdRzICAx4fwvVkM1jM4pz2p1ZGjnowOU//8zjELhTJtqWRQ0gAYk6c//45nyfhisp2v6tZzd3sMhFvHyb6BWEWNQv4Gc4////291VJOCU1CJtqRSO1zWgAD8foNSu74KIDtsTj2PtOdSSr3llgKOE4KYtjaaL9KsrySkQP8h53nDR3lyf/8zjEOSM6Vt5fmHgC1GWlIrk4qh8ZDatNqic9xos0keDGN9V2cP/ukmYkKNX7xFvrcfT+LDrEhsMHX3BndYjW9tpxwzHp9/Fv/nec2+vNm+MRNRYuvrvHKVnBDlQVyolWCUdFckcloAH//qz/8zjECxTBmv5fz1gCIxMRXGLWorgcyFRv+2GSwtEjFlIIjnfTA+Gy/PBJBOJJ1vnA61GC5IRBtNou/HhZ/+UGU1/J//5N6/4RPf+gSxCzA2XTkzufAJMAuAC4B//8lQA+XlHc+KgxxSVchmP/8zjEFxQJftI2estiOAegjGv8+ptaz/SxnxsUtWMKcR8f7jwI5Dr1jYiJ4CLin1pCA97ugJ+IP8n4kf0/r5TnP0/+Q1N11RBBAPgLAPaawTVL5vg/BenXiBih7gfxm63uhYsK/y4wWub9QVH/8zjEJRPRhtY0A9AY1fwK/8ycDU2I4MDsPat7gr6SpY25m4o74jcg6agWILIhOsC1oAroWfHFlRQhX6RdigV+xibY/z6HH4Ac1dT+QBr1liT1WzE/YsQS8n858UBC+Lg7eQc/i48vuONaqs//8zjENBTprt42BgoeyE1znRe4oUylyDiu9Di5awQNS5/JY4a1Dv/6CkEENHoQBQR2TXBgO7Mod14B3CgX6tuekRrKNwT9qFnW9/nEZNPKQon0lqavfSDvhEWJaggO1qIuhTHIJMfRRrkskSb/8zjEPxUJ/uZWU8p6PdfVtH+vfTK1BkZEqM9//KnCRY8K1TEw1HALEA9RSJgMrUdWwpwmIz41i0iXh2AvJ2HZV8zXPGfnkjWdPdwnxgLVfjL0JjqqokAganQK/Gi1mq5eiCifE/1/N9G+r2X/8zjESRTZ/tG2g8rOVVF6oE1f/6y9AooQEQJySExAP/RqT74IuPqHai8MxJFyR+MAdibL132rhGr8zCVREVuffAmTr8rNwpPhjunc3zP6hWfoZfzN0MeuoUVJqCusGSUgOiUIywr//TW0bSD/8zjEVBSpptZWewTOIFqWcgEgpn5EYkjJ00pgmp1R0SMJ1O3M5V3CpwbZQ8LMvGiKvqIBJ6TKVr6Cyt5W6S/oLUERK46MBlQNgUSlXN9h3PIiURRKmeWd1dncRXaqDAEDkt2u+4EJZbiehXX/8zjEYBRJPrWWBooWbwfQ9S8nwyydgoWVyC8PLQVSLhlmOvmRGW3sQI260vaafMpO/+s31RjQWikZ6Doaffnk23zSI7+v2pSaAdqbydUCdy22677ATM5hWQQEhSEw9gxslUrmbZtF1ctOBqv/8zjEbROJrtJeA8YSQolG1AU01oDp/0vZpD/+l5wyOGebf3/+qq/Ndeqvt5fDO8Y6UOz9GjTvwMexLR6lPoJEQ1/1KgSQD3VRVo4O8Y4RpLtRYwhhx52/UYRskCCkDA84AgA0cCzrp3TdgG//8zjEfRUKNrW/TBgCwwASwz+1B1mmIThc2LhBIgGQa1+gkyw6QOjD1x3BsgCgf3W/hkASiJ/DE4fGIBhqz/+zKaFkA0CAjjHPDL42jwWw///u/JwZgG54avGmFkA2UgvuRh4u/////k2OMnD/8zjEhycLzmgLj5AAcgiBFyfTIgX0jhcLhX//////8h5L1Rt9tNtLbRQB//SXWkEo02s046Exg0eFK8ttLSeMoeASxscBuetBLVTNp9+tkwfIhgwrzMUDI3ODO9B2F9lKU01EGROsDi7yvIn/8zjESRjBNvpf2kgCY+0w6PnbsDTgCTNjhgowaFgdCYykGjev/5YDAQPwUD///yiJkMvaZb2cu5AxA0p/rdTKPFUoUMya1rLjZr6wcEEVX+TxZm+rEUoleEo1JTFbHxLAWdWzfudo+2eyj9b/8zjERRjJor12whjsc+zBg39q65ApXfn2owJVFARDsWMkhoHF6ybv//6kKiUgHEDctA+BrYEg0lS1nubQOSul8gxxjhCdguH/+b+RbO/ZpeMraFWn8dA6Kv6l+LgCKsjwDDA92DgqZKVHl87/8zjEQBh56tG2Fgo+Y6OjqMOnkdtncy0oi8sQJPzO+57dtsJFjpVIGGqB4OGaFSEQWoknJLx/7LlnLJH+eJPmK+fNs2aoouS1/94fbt/8vbfHpNVln2b7+ViVmhKEJp/dFA2r+dm69zUio9T/8zjEPSFbStG+ehk+3vieVulgmp4HRRMvVzcTXxV3111b6acc+83H9xXEI9wp4uf2knn7iSJ9iFYdr3lhwSAaFiSWT15mfwHiGrToSj5gEACA+HB5ypmmQAweoAiAGGqzlTco/LTM7VItb3T/8zjEFherSrRWKB/GWlBU6eV122lo5glRyuVTOc+y13/////p8f//137/NrRM0kmtDhPMxY974h3s89H7DZ7PhkamCG2zguwMQHAlBom8py3DUPRl3Q45E5HE2oI/aWqZpWpK6d3AzMlNVU3/8zjEFhNTPspcGFOztBDmrImqzJFn/5//+qTgNE7b5TRX+9/MY3/6M2M+BzQPc1/Mb//n4rD//8OEDJGFQNHRbMki2ZUTbbSyVuPziDQ5z/wzHLAg1KVSCMSZtedHie1WZ6YNWTQDBAENAiP/8zjEJxOY6u5YFow2MFEJDNI3aw7rBJT8Qetn1u0W3u9dkILJnhcoJAQEAndu60Wl/eBjagWohKEnKH/uidtFwA7KZUpCYKmGKiJEEiRAASM64MOLLDCgkw4JUMZ4YSPGEM5phGAFKOuvXi7/8zjENxSArrrw7tBMirla4GmhOBToaWIgaBoksFToF3/9hVAMuDoBDFLDrbMTt4HzImSaTktQBk6nIEJKeecw1er1q9qRFAxs3YFQrkdyMd5GnOeSEEHO9GU/OfnFncnq5P/U/6Mc7zuRPb3/8zjERBTysuZeA8QeCE6k+d//yf//95xBgKYfqlCQ//3hDZYuyWVWJdTwAHNeWJVpTgKhShlc72gj5e+JqOnpCJnSw6Hau8zxwIlJ27AcEXGK8VAtU17MKaZ635BXy/t9UfaEFI9VCCo4EtP/8zjETxRJsrzCwwTwr/VVBzg1blbVk24H/fvRFRZMdIKQAJIxNttU93whKhruR8T0JoyaWu1KdG0xbAp5X2zswD9XfUIghFWjUpvg2Rwa/4M1Bc7c/KtLlaCx5S22P/+1/lUqENCBoOtwUD//8zjEXBTY8v7+exEi/kWAZbP3RxIlTFjjPXN9cPo6Js6WRyHd3reST6py7IXgQHQ+cL49AUHd/lL8KMq/6rdZZbP//3SmqHkVIpBG89AKLyVsb//3ZRM+9KoQoqs31u4H/ftpKi8OWsdWNpr/8zjEZxUxxto+ewTOU9Hi/FE+OtsjYv4IMXRS+owDC2ZSxZ2uIu2ccHgdgE7Ngq5yw65YarBJAsE3CxITQk/vysqvp0fS3LRpkJAUTB1pKgZIKBY7W3RJLoMAwBKUCqr9UoXPmTGoICE0Cg7/8zjEcRUg9uYfTygCckSIQA0fFRSmavzILTzgwcHAEHDeDXjpQA2s0FJ5NjBJoaghII8IiVBYQUAkqFw4lAXwCAJBUyeNBCYdJWIgDdQMbgRAhe4xUv3vw3wjiCG5kVP/p0Fm7mlkq7N55M//8zjEeyaKYpm/mqAALW9FywMgRMaZiTBcJwr9P///IumOA8YE+TZuQd//9FUxcUkgH//JSz0KCuS7DKOCiFPv1Dr7QEIogqCSUirVbM73qaJGfMMIxvFwMh8OTRURQXDkPGFAIh8IgjCQswf/8zjEPxtaHrg/2EACp1kmVPUt3O1/39fxPohTiwRo46iRXVaHzTTupTXWc1q1ocHQdcmd/tMlItat3SoRwK2Saa/Yf3h9AhEA1Cmh5A8fIyCiWyu2MgEzKmbASw+8Q/OClaOJjlayt7inIrL/8zjEMBXKYs2+WMSaO9i7f/6TGFcruTPOz///X9j0I5FCAzCNCbzLVo9Y+sMHmtBxqXGl1RK2nW5aB/4W6RlYUSBvqLFmD3LUaRYGJCNVXUvm2fGEIBiAETGn6eyXtJeVclYZ+QT/NMkkaLD/8zjENxqZIph+y8bsW50ziOIFQPZz8IIOCLl+2udLshPAMcjQq4d59AYFv2zJcgDjjQn5zKSnUuTedKdXbDH9Cv/8/sGGrF1pXL6SU3ja1TMDXNd6G2qmDQnpqqEHhHfvz0K7ebagLnblum7/8zjEKx5SQqQA09DUCj1awyxMIteZtyU0kSlWo0DxCVvqQGSkND3++su+eN54TLPd0Shdy3GDhwu4uHbgLh0DQXFz6sUMIMiXe0p3l/ntK5d7REMeGFAPOfT7qjEAcL/wP/8e0Sz3N73VBLT/8zjEEBi57smUwVjVcFd7uikYwUItYQ7FCwb0AZ+ik+Vvp7oimoYqc7jLGz28uc3ZottsEoR4YvQ46iHMiJ6dcKBOBu2uhK9z6l5Xt+uisYMOpjDNl8lUIMmbTS///8sd9ZEd4+iUmA/+3kP/8zjEDBPZ/wZ+ekTSDhno1KUcbYKmI0nU0UCGINUy/wWHvFaiId8rlwdMomusVCJn7nGpX9kg7+jf/v/9F+i+RW9W+hi6xlnwWagTav/wnQoyMuW2IlSgf/beZQuzn4rG/MA50oXsxlpnGEn/8zjEGxShqtm/TzgC95ut4j8JhsbVAWsaqnDguY85DVLHpZirnaUVOrP/875rLocSmm87VCQdes7q9igaw1Utf/ubSSpDqIHDcUBTZW5gjSJGDZuF2u4NAzVDQQNh6fdKEAGSCgjLLUbDmFX/8zjEJx6rDmwBmpAAK7pJppKW6yLuRPfqrlgqDMFUn6aSVvymT8tkUNFOa0XR9byIGZuXz7JoJI0lKX+3VQZM6b3o1//9W0wY0WmnQcwQNKvr///9aae6DGgnD5z///DF/8JbcaWIlg0A1T3/8zjECxgRIqAB2UgBNu+58CluzXtF0zkoAgJERD4JTOOU2z1XNMp9Lhd8UcvTFozaWSYUJGoXNMjXFaJGohBMEwLGgQQhhMnRyha83AJ/v8AIYB6cPDxwe+PAW/83/17v9RWhAOyW5RgNMJj/8zjECRQRltmeKwQyWAyevdtoGpiYqbauAiShStiRUz2cpnspjJZn/qVlicpatqitNlVt79KGMYxnmFAUBFntCZZ8qEwmdKuIiWDT2//1AMAmA2QVXCkkd33wH/lsQWA0/eQhks+ExSm5FM//8zjEFxQpqr0fSRgCNZvDH6xvjiY1XaNSZjs+MFAYf5c+YUj6s14zVZS+wU39BOpMKASxIAVyrowi48Vdy0GkaEaTot5bWgIEARGNozkslOkcK6FrbEMcmbczM4I85XdmC/GQsHK6quBUISf/8zjEJRxzGmQPj1AAEPTd/GA0AsEGLddOr4U4iDR6Iczf2/Hg9FsRZENBYdF19tPKk43KDQaEZON//8xq38eMJhG5cw9Xmf/9//9ic9CQxTzzDCQPjv+v/lIDX+XjD/j7vwD5/1Cd+cCAILr/8zjEEhmB8r2ViUAAmpIAxI+ZoogAQNPTUOKTBoaPMeXNEeY8OBojrYPsL5qOeNsXlQFQ7JBuDLHunE13CzmHxUVaTG76RHVVzXA09S7fT8bY4AC082gUecOAVu1Tvf2L9vLlsIGjQoSqBSr/8zjECxeJzswBj3gAtXB9GYaqFn1BIPqgVj8gA/YENNMzKStG84g6fAc3zYtXT/UjlhGYT/jusOCM1+2s7RDd9gHTtCN5+/j+1/96xuNjPvNjP1///e27//9xy4bT//XVaBNMoKcA9dYfK4//8zjECxUxItIvz3gCYUdqw86eglA6RmjytZpAayem6cyJVEEh28f/JrPldP7XG4ZT6la9d6//sezDEzukM/HOvx8QIr9+jKEtIK4O6tR3Juz/DWn/26UZJ9N2oNSDgbbVemCHb9cZWhEReqr/8zjEFRSZPvZeA9AWHp7UbQL4R0mSQUnG/wBoiusjnAwbuzJLf/ArX+51/8A1NSFhRZmLAugO4rDARIrWBXUB3DGvs//zZNZ0xUoiEb5rk3H5RYoCoPpdWJBqbGuIQAwfXqqm6GM6rKxWdWT/8zjEIRTi5t2XSBADcz+hWT5XaspTZnMb8v3TUql6Ohn///Vveb9dH////qR3KGBkUSBMFQ4woGqEuq/LBb6aJBbQB0PHXnTwmaNGw2Ny3NwC22UmC4BIOvcxooCeFf2q7jcblSn5/sPEzBT/8zjELB/DzowriTgAjw1/mbs54A4iHgoD0ud/3YghlXJlBOD0VAFkxJFxD/89T7EFtngDh4SCodHxoD8AwqUHP//se5Dcxj9jBgHIOwdiKw4FBCJYIAPFYx//////5hcW+36XB/AH/+MQZWH/8zjEDBTZwspV2hAAY0bqAaYACBSCFJJ7WXGSaHCcGeAQC01k7dGWbrXs8PsyvOei0If////1X/RGdCAZwgAQgAAABhBAQgABDIMEABnhgSO2uK01ACLjkiAh8SlQGO4Yd33MEGA4k6Q6BCb/8zjEFxMx5s26A8YbIn4XLK63WBxBkl8QzG+SBT+vsZ7FQjffVjP/L/Kxbf9sk4Qq2mRM5Y2Fjqt4f0PsJp01pO6V4iVn/8Jd4H+dWeKQk248SX3HpIlyi6rOhrpxt9a6/JgZc8YUdDCVJNX/8zjEKRSRAuG/T0ACWrZqGMcvMMMoMh4NfOlesNB2d1gqS/Ap3rBbjIBER76jdoAHgEICIyPVBDXTAS6uOBsFo8nEpCPwGMWGoawIp1E4K7enTgICQCUO4IwrKcuWbfr+WejmR0MnG/ZoRlj/8zjENRkCBmQDmxgAlNHAQvn4kj+OcVAgF1SOH5lZCOXzzuCYw2OYBHP1VlJxLSomAtgKTDEO+KvspgICTr7r/3zjTwD/v9C1FNbA4Wic8FyfQH5pmR1Huag8v9lnnOe0soUS2Ta3nPt7DZP/8zjEMCEy+rGVhkgB2pTzLletpMagggIGlUkQRlOpNy/YxiGIM+TVmXIxYywdZxTNrrKrztedo9Rz7bCyObWd+pSqEbydRuU5VWThn/9ZWeBZARNxe2vVJug64Qcq0loeOQZZJWHHGgW6B///8zjEChVInsL/2hgA9pnhLAw1BoRjTjCzVkYY7MhUGbVKWmCBEAQ5SpVuXL8v/YEIIzOOBgYEcID5el4uKg+IB0QY62B+XFoPygDC76tjP5zR/2M1dFT1qowgU3LZW7uBkLFnAMmqf+viStP/8zjEExSA7upeEwY22pwtBuNgqjr85L/doBP4UND1MEHKcrXCgFSgKhQoDQFKmQafUHL1B0WfPFvkmkRNipVVkUJJ7ujPNIjw0TdrEiAjVIOUC2lwBMBNzUgs6LEXHwatVpqL4qDQVGsv5yv/8zjEIBSJDtG2A9Aeh6GiMaCw4wxEQOE3sYLu78vcomWCsF7uPihc9az4Yr/4IF4gd+H1vKf5+p306TkD5ovVMwA0ngdDBQgSqvmDQjKpVuLeIBPjdLirZtF1Dfi//TW/pj4Xsp0AQnkH+cD/8zjELBPhwtGMK8o8iKp2EwIOrGhAPvQg0jdD36C79A+pKKFe0SJkagkcrfh/DbK1UPj//t44VvHhxkSLyJSseEEBNuQ3VTaUgTGyR6+oGIshgGdLOJDX8SH+JAxNylFX6FNrKIv9kr5605z/8zjEOxQ5qszCeU0T/u4kTesdRIHRChf+DKNgLu42mh2/+gH4B3gWlUgXxYt5mVzWy4lVrp6wk5VhpT1/CjMzUBXxXkxW4uT/xdF6dks/4oLxKFHCv/gVCbKgsLI7rv/zQryh0Xwr8f+rE23/8zjESRUIjrxWA8YZf////8UULEkdYbNVLm8NyiMVo+TqWDTBZAtUBCEinQTGSkvn/7Um5uq98mM85UZi5Rm5ZV9vlpW5Z5Z6dfmTmeW1uRExf67wr9Lcz0wiReAQGvrn1X5gdHMOfm76u+j/8zjEUxUiPnAsCkYN+7X6gMnRen78czSyT9782CQC+fI4OpsAIyl+Sjvdn3r20d2L2+7TsTt9svcv8+lH7enjDzkNjImU40yTgjD9/77d+Ig+iGM5NZF9wF/GNfH+PUwjgP//+n///+v//9j/8zjEXRS6lpAAGEy9RI/de+d7Jsnom8N7OPnjerGGZs5N9tl1kFkNpWtJRjHVt+F1qsCwkAIGkHoEkhj+KynIGblvI7CzDd6b/ct727Z272ZTdlOUg4gA+moAAdniG9jSkobCXcYz+dNJvFf/8zjEaRWTGrAAEw3FQf23aViO73/06Kv/v+v//lQyr/6kSdi6GzdFaIGAUTFQUOkMgweysxVbMLCodPMUsrLM9Xo5nsdSzGQrWHVJhrcS7bfa6NpsP4+ElXRFLLHlDhTcHcgUUB7ZzCQ2Zkz/8zjEcRS7IvZ+AMqTg02RJqZcrOYQCNcRpyb2f80pu2yCQWStecT/89obMUh9X3MSAgFc0qvlVZBx0jVjk0VKF3310lQC//kcCF/zCnQ77IOMJDSGgx4jImsrBDEQkxZQOmVDP7M9WdOY04z/8zjEfRQaOt5cQEb68GSHpoZQRcR8pf1IAIlhe+2Ts/WfWjfEXT3cYfvl///Lj701CsociMP/WMQW2DOgwp1MHIBIMFhsFA4XBwMUH6ghpgGSApJGJpxm6Ct5mFtBf6R+WAW2qh+ik8FRgND/8zjEixPY6t5Y3kym24GnhUxWJTpENCHcR28lWBQ0RDQUetUH0YTbQMsa1+NM9MBMj4QNb02u+FRRnpoRYhdDMsrvqz4FATNrOu64VquxXJh/N60U0/h8pPOcauVLJFIjXaRDZi//7+vvH57/8zjEmhRQlqZI3lKIEHJo1//8jdO0rnetCAEUtutl/wHQRHQTIK43TMbqGRGSWQ1bGKnQNkofFCqhnUFKYrEMbvV6kKU6GL2Tuju/1//ve+6lQZK4uOOLI5JP/7rGlVgQOGWsOPzifkEERPX/8zjEpxTxqpBe2Ybkcrdkrut292zsAIuNjrPj/mPgrOHAxylpjMHX41OPatEzOCoSteX/uSzpGvG8j/9Zbfjf/93D5s3nhWGyAVxu4qZ8+fIEJxMhWcKWI3mrU25mVVlzaYMm0DDaBLdm5qH/8zjEshPxtspfUSgCew//8/v/5GQIi6SIqsFiVYauf/8GNbd73fPN+XWfMQrA0ZE4uGCMbGExkiPGfClOpmXkiOEFv/Nf8woEVoab2+7zAP02Zu0kFhGpX6wIKlkRQRXtYh2OjWQ4ArojHUr/8zjEwScbJq5fmUgAbetphCKDSXbZOqtf9p7/bP/z085FT/9NaIvb7a0RUkXS6232sRaQZjmGDJOGMHXaAA33+uu10BvtzMR5F5SJaT1eR9p2iStV7oJOxHn5d1KMOcAxzTi99bOV0K1Lp/f/8zjEgxUDLrr9wxABoZL1QSSft1szb1jlC7x5Z55zluvLCYOBQ79B+cDodcJVy1UEVmh0aG9/tQYhIKbQtzygnUo42IJqpccU5uSYfIqvK/c1TqKjj0qe+UWdyTBa4c2TcKnZWt97lyyAaMn/8zjEjhRJtrpcAYp0U7StbkkQkBmonZUqGirvoJFf/g09TyMsBlkPzZSB5HsSZaYG9klUyYOo6m+U96La5FUDY+cy4ylcwrXVVjVjOqpaygIwMuKiIS3Q0PDrWmBgFYtodHeEnt/IjKVHisD/8zjEmxT5IrMeAFAILSykvIhoSr/39dUnyFGRJ+j/J6/DUlGn0ikWBxfD2whBBzhL9UCInaHjkhK+hfT2Y+V1MqgJoMT9Sg9eZdS0sL1+SLDz/ssytzqC63f6dynXo3s9Kw+rBjG2eRcS8mj/8zjEphRJDlwUeYakpZ9aTC+uXhyqdK7xjZmEVCh82CYA9yos6ZKhAETQmYWDBJrhrF7VTEyZUVKsxh/6plWi5y2X30/8V19iVQovYWUdZwE4LAYqqSinhs2VCr37+NH1e2qQNEu85VmOLOf/8zjEsxKA+kgCekagPqTOd6V6aKZnFDnd93V1Pf5e+jN6nOdFe+WhJR2YYuwQIUpFiJd6baFnGo9H9CoCDPSBjc/VBIWVhQLFNmXFhiU5TJX0cnAUPLhmS5FuLT6SAhPM0gMLlz0AJTL8N07/8zjEyBGQYlAKa9gEv9++4NyicGznf/+w3L38jEslbZ+vPTfrm/+5hZfty4fdOdkMDShmnP/fcLbkP4/D9yufypFZpI76oV6hALDDv/zX/Mv229zlWN08YQ6AAk38hVC7b7UzZ////////6T/8zjE4BQJ3lALTxAAsS/vLG/1r85Y7GD+OrFH0tX7PH/z5ycXqDQJBElVcLNLcnruUD/OYZ5LoLiK2PMWRRHB8l7V/of5qrNa7wAqL4kGi7cSFyejt6Gbyv8v/6tds1F7ylDysEQKQeOaIjD/8zjE7isKbpDLmtAAPDg0DbA6WFlQkwqdNCoa/9d/oRAg43IkxcB5oTIJACiRzqN6oWBKB4XKuuVRJID2NnPHtl32SwpSTJKibl6KpTPc2Z2T/9L6s0rorTFbBlQGEizqv/9xXihqjwWDVZ7/8zjEoBTxvupXzygCts3E1QIVJttpfuB//aoswaVTRap9KY6nLG819p4u84jMvyhQIwlDomeTIg3JODILAqYYBSw4iVERbxwsBng2Cz/1usG1Ehdn/00aDSTLBjWHjyEDlADirZEFwNgBgRv/8zjEqxPRosW+gwRWdAiP0jR0MIcqWNxdC9TCeSMlG4GECAJAlqsX2WkANYNtyeE8WVZk3WkMAcwWYGDwtLqUld00GTifhBAmxvJk+jurbZTLE7kwTZIl4nxzO+/e3xWh4Y8kzMXAXC4Hr9//8zjEuhQ4ms2/TxgC/Qsh78mDoXUGqAzYy44xcgzBUIf//7M//uRcc8kByCQLo5584XGImxuQT///DFVJWlvQVUzcsLIJJ5jCsuEGK3Y0xIhDncVMW3DjsWvRWvyCKLfoNJZvCqXNWno4oaz/8zjEyCXLJmQJmJAArZG3bcJtizQsrhWe1nuV+FLXdsWj2vmBLfe317Wy1t8+9b1hihwYvxWtlqeJZ8+Ybw9vY3xW8XELcOFut4LymsMUT23TVfLqs+I+tV3TGLes1d3mmg6p/nVd7rmafRj/8zjEjyXi/pABiXgAD4iCUB/9f/FlAEG2SrIpTQG7lWgpioHxzdxehuVJ7hWfYb6b3CdMuZIHpOmoHsIrAyBaI8zmReNlOggtkzEZ0opVFMqG6RPm6ayuoihgdRLSaRkfQY3ZkHOHDBZqgtH/8zjEViZy0pF1mpgBMnWyDqa9aCay+imsxl5NdM4lSOsUCcPH1M7mSVCiZJLSuynNklppsmpNNSKa6kWap3U6kqDI12vaipI6jTHNtupxd+mIACCqqmSAogDef83ACFLigUZiQCFf1J8OOUX/8zjEGxwSMsmVmWgASNl2x7kGAxNRLQSU3J4BhH1NW6SytFmUyBcrZa5nO5dN3MDe5sdIRsmfYxRnH/TUjMFqNFWegumpbtumYHGLjrU6ZLG7nrf/6d3ZjdTkMNk2sHf5ilXk/2vJWFDUaNn/8zjECRbJzrgBmogAjBy+wQFdsw9EIOmGElA4YXA5EATQ0FEG2okhkK0HWbG9THum2npWbX0tJ2QMn7szqZ60DFVNNaCNm1J2dI0Y6gXkaOYniqmivTMjZYoacj//9SpUIYjDDzDyAAAAQCr/8zjEDBg6ErGXmVACCVlO7r+A/Z+kYHRd3SjgXEZrHq+AEIXxcKILRvArHlCH/IBsPiEk/8sRDcRQgRKuub+gtCqIEanD7//EkEAGkRQkCyhFYiqn/8hIDSIflTCcmHpYe5gm3nH3syDQer//8zjEChcC4rwBjDgAzUEAMc8eOAMG5fzdT9efNWh2/3///z2VN9XPZuf73HEJuYaUMPuilj3O+ZfniKikHHR8HhilFR2skeWbPdT757z/JOYXjjnkjiEOiVQMyt//lpHm7rrbWxcB/77lDSj/8zjEDRVhVv5f2DACoXRcWBn6s065xp5cVmsqzeEKIMAQKJNa7YyPn41a54GNrdfcr62w7U7fPFPOPs689nenV6Lh40r+2SKgR4LEe7//LL9/qrOxZRAAAq+BXAZ0kZZAM5Aui/Pxi+o6YzT/8zjEFhSA/rI2DkQUmUtFuEfbCm4lkzoUVHIIe1pmVHbVupf2RzO4UuCrriURTqnwgKy1xYqE3f3iJ68q5F+WEQdzoxYatqeQMDH+RkjcDKM2ooI5AfJd2iaU/VUQxC2K15mZlM+vGHwr03H/8zjEIxSA6qWeDoYUaOSogfYiMnY/bWQnNkGVsXE4OB5yK29g8DgoAmjXLd///3EkBwQuk4uFmmD7Iugut0EPxtg5kbYD6wIBEACTxQDNRNHZjKRhPBL2ndhVOSJFNo7crn8gyNDwa8ySa8D/8zjEMBSxoogI2gTx2XmjBVO54SXnpg4JPg1qSbvsQq5n2+tF2DPRsILMAVvqd+0KS223/+jICMCy4zHfp8T8OYmvpqIuTjVF9Ywuci7f5IETPylHE7o7fRqJ38RvJA2hECBgiDBHTEsnPY//8zjEPBRZtsh5T0gB/+T+ff6z77rJ9SmJMIyRSGLv2dviqsVZtPVqsPjloYLG15el+f7/hgFoiMO1tNX/R1an0XsKx6HdTPt////Il/37/0///8+Z/WRI///mOjHnocYwqFnc1LEKIcxMXZT/8zjESROrJrgBmFAAiT/wj/xlBXiYp4hfd7CAObARJXmAiC5TIIU+IiUIdNDtKLRJXRGOKBopmfJ3OtxwQpKK+28qu5NlVvb+2XLvXbSaZyO7f9P2NbJ9vJLTvavTPrY7k7KcrHdsQ2pzfX7/8zjEWRVbOsMfwhAB1tl0iJHzPpTh4HiSfe7hoUCAxhQPFe8BFWn7d6zGQflJ+tiPvfx/2iLTTKDWGFBtgWGiUOFRxUocFDLsLJIGmcmBCQWFqrxVimkP+f/+7rrfN3d2I20AKFq9FXFXRyT/8zjEYhShFuZfSDACBIMGwlRguyHuB+4nMbQFjgONCMAMHoEeOmnJ8gxWIYSowTwm4wMFEUKhJJC3GIpNMdBqbh6hcWZFNaYiwgqRQixxMT6OQFyTEjP9B/oGtB3PeyfoGqf5Nl1MvnjRNn//8zjEbhzZ3rgBmaAA+iZNfqJVCDEC0NVAB//j+6ZDvGX+k9rKDE/Fi8ucxqMaHVpWvzZyNF4A8NEMcw4eAOjV85AqB8h27gFiJpxxEIIL1WR9e+5L+e31X6kjq2hhMRz2rp7eGe/9KpNgZbv/8zjEWRUZqs432FAAlwH+cZiJMLKMOM4GWhzGeNt9n6ASAWv9VJN/lSm/9hav5UkVSvyQ9RmVmZvopSt5Tf/1L5nQCc7eGtzxKCo90tiUSgLDrd33LbOgc8HaEyBkmN24D1BNHRZn3uazAvf/8zjEYxRhqtWWegS6S+BZ85Z4QQDK4ICOK+A4MmEyDKn9P+ng/0Qg5Rgg4P0l3TVVw4WBAThwPgR3kF0F3y5d5R377Rd4ubax6Gi1GFEB5qN/gDmZKC1hDnUioVjGUKeGeT9i2xAFpkrOMwn/8zjEcBPo8tGeFhAuTC+i5z8IpA339Nx/59qd8Ujnh8xvRXimkd6MGwVO9TX7qYnoien0cxtDiL7ocn3bocO5Ea+KKICMxU3QJ3GgutwYD/9SG4G4XuPHMNaLMfSqQ5QpLK8PU0xN1xsTBTf/8zjEfxb56so+g858ERXMZfKqB4WoZWERXaNDrirsFSwdaBTvxK5bgaf/Co07ET0uX//1tQPBVpUNLpi/242443G5JZKHABLBGVQNFmk7BraAjkKT9MJ2eBRsBQdRw1XE9LxggkgHUSQScur/8zjEghQw+tGfTygCKnVUpFBy8mTy8cKa1NclR7BygnI3LXX1vaJcPEfhhieOBfquyflQ4xyIEuPTU6tmU+9k3YljQcI4hjjhGoRsWPZVfu7oa6dOoKgFvGHEoCRkIOAOeOoXwYM2///+n1b/8zjEkCcrJrW/mWgCemRipA3LjG5qanzxrUyDCxkpGLIEGsAu+XsNCkgsHBYCZtqchmbp1QTTjTU2D2gwoH43UPP84mfJ55Y1FIa/3OQOLPYmaLqrcnH37Gn3uqkShbZPH37JcfQo406lY23/8zjEUiQbLmQBmlgAJh9Urnv+X3bKWfFuhQzKezrDdlNrr+Ic64l+xjT5ehVGzolBqRm5FAqPNU//2//2+12U17Ip5/piph/1f8TqDchsFgsdYsltsllrAY/YrlE3lNAaD0TPYgC8RzAsKjj/8zjEIBzqsvZfhkACLgoEQF49CHpaD4kRzBSpB8A8Oy3FJWHg2xc/KeuVJEdH99GStdvjM6uXXun39+bhtZ7q0/97MIMD8uyBQx9pi+ita/jf//9JuXe9OKP5bWp///ytfD//uWUbDjO9j9b/8zjECxPo9sAL2HgApp8vesVnLDWtNeROLEDH8FlcGKy2GIWOpoh5h1YFGUrc9ZYq7UwWJYYe364NAwVxPEtZyV0GIxYtzXf8gLB4PvBb/+5iEUUFguy0cDGAQFOc+yvSE0dlZhu+cB8PKS7/8zjEGhMo8vI+AwoWEWVs4k6lplL8SFq3RWUQDbD2CoqoSiqRDZVc8QEwms7iyScKZUkYULHv/+LDA+IknjtNGVL9Sy34D/xwiDSbPtDAVTZtm2VphmMERUHArKxlLQxUNRSmVujh07PERwD/8zjELBVRls2fSSgCwuxWMrGsa5bq0qsnf+6sZA8qp9ajzVnc8GnxF2rYxdQlKrhoe64RLGLVEvPLPPEYtFgsEgA5vcTBsAUhnMaNv2T6p3/unrbob/8Gi6pP+HX/+iQA+OHsE/4c6f/8tAr/8zjENSJrFr2fh1gDAYYBcTnwOh5DyPRsPQ8///gcIxSAmRyCAAIUhSbSR5Qklpq7///8CdwiASKkGDtIQgcKkVK5NTVx4qNUSbH////5exCs3dRpWfvNEjZrUXOUbJqbSgKggwwwGBAIBAH/8zjEChcTJrWfglACgD8MUWhBHq/4iBmd/ioxgqf+WMFxY7/8oSOTmH//4FcYFRFoRiX//+TFRBkxGIkdNDT///8G84WCceFFHglDQgCt////+NJQshxpOTkYtk8fj+r/4zcu4DuFehCccNz/8zjEDBMy5rQBzxABRSATgA8JJPl/ljtTP/1p9f6su9Lfc6OxhRTen///87O5f6tLp+35l7GR7lRUd/X+nRHaW6HdjiUqKlXVcrlJHEoI6lqkgHyhgMAldDtnKPMgfJEZNFWGLSKnf8zIEhT/8zjEHhMhpsT2DgQ2r1bIAHezUZwFjdkN92Vt7S+a5itO1tPT1ytXmMYopn4BUxV62klRzf7OozqjWOo1AqbWW3bgfnIDYHgUiylWwsHzqrNioit/AIVlsHAaAo2qiWQ/WNYSxtdm/yY1kML/8zjEMBSxMs2/SBgCiVkiBaFD1wNA0eHB0lFD3VbUHS07SeVN88nrGmWjMXPM6L4Hq8M88NhwRuINgDv8nAFF5scKZvXXHwa/xWHBd62aRFTfnuuzkT/8x1Qs556G/6VeeJ4LgvFcfE4w/5P/8zjEPCHTJrWfi1ACj8enFiVx+ePiUWAuB6IsSy4X/9vKA0AVxFi2FIhAOHmC2PnFsSwvxDguCwEJcwf//89yxPdmPeYqRDCqDaKRPJwuywtg3j0EM4UlKpmdnSujMD9+lMWD2AGFZYWa0YL/8zjEExPKUsQBzBAAGfz+d/yKfoxG9yMRvI3/Zf//6+i6WSVMuxlYqOqOVHMFZyoYoYhioOAmVioYKAmjssaxF2ZIKhJR4rLW1TAD/4LogLBg4TTpTS2btIsOkTCGVOTLXYM1DJlSEPS+XCH/8zjEIhQBCsWQDh40YKdLN1oURvUxzJ1UwI8IzzKRLnDShMyXFtOovZcWM3DxTbLCc5Zn01iQUOf/6hQhQKkxIKABuIf40UvrEt6Ewco69rqcayptbUNSAQiFUbgatu3IaW9hbgxirBnamqn/8zjEMRTQ5tJeA/AYE5WgDRxYLFM9vpDDvS54HBI7olhcFViwdUK3Cf/9yywtYpUQpKATjm4HLBOB+4FIk3nmXYswpLf4N36NzX+8Q0hVLoNFW5ACDzq0OhIG0GjBbxcFVtU/K3ytyiRrsjn/8zjEPBUJ+t4eg8pSUVpl/f6/ZysqMYRfFg96ZlbvtyQge+P2qgAwnsLmpcxwzMTIwB26daDWQYImNvIYPP6pfEW4wSgqt6CpCFivUbQrawpabIquFORLoo12Vl0NSqfXYgXPMEPdkbdyzxH/8zjERhQI8pVQFtIVrfoCPNFJ+L/ztFUCcA1v7dggASGfAw7As03ztiAEdxIPClmvs9b2A1GckG/iVLUHshXnq8EM22XZEEj4a/HtftkogntYcmRYGna8OHt/zUHK2ZZJuOoIC7lc/kMuFTH/8zjEVBR5LpgU3pZMArK3bcABCZRhCUNbWqYvB342FtCOHefg0efdT0yi5vgwDXrekWD9/wZV7YUHfVM5KzONfkN1mRUuHe9/vD+eqH6Z6u/ZX/3X/FXx6D0EdOdvBWr/3leUPOspm1mtLVb/8zjEYRUR5upeA9YH8Exm2JakdWWKbmUMJFUvVAMcq/SV/eJr4SDv4pm+WwLE1/7izV3uKswpVEy0i1IkJ0EFkBhAuyHkcBH+7fNTuXk++dUGE0zf7NubAfGcFQOUwxDhvH4iALAyDF2ZsUj/8zjEaxPJcrAAyhLRRXezE5ta06lJpVPabAZrZ22KUrY1SzLV8u//ylkMoNlA8jodm6v6V6ufhGGoJMHEAy4n/m2yutUQMq2WImwP/8BQSkrnOA2SKj0Z1IX0ZuPvK6V98Zq2vovzhtUb/On/8zjEehSR6vZeawSWpieO25Qbu2YnQxP/T0Oc8S6cgWI+SOn7E53j/sKGHewKSufRngXfviqwMu2SADH/ng/6hJNSWd3qCQ0EUxlSh+i5Kj4qxD2NakdjYUSTSkCtV2Xx5uqBZ24jfiKejej/8zjEhhPKHtm8eIcvv/0+ndVFETQZZLCrmoZrZFxZLQMYQXqVxKkjoAcD/3quOIRnsfhQtLFvJYUMrnnAS/Tx39eno2bYuZ2I2ZlUCN4lye6jUdnoX8rEZjSnOhj//2+KWUjgRVdjggfAyw//8zjElRN5rs26w8qSMtySxiISLWqshUBWqgpbbCncB//oRYMqN8L4hIhJJfFbkOVsXdaMTNnQCAkMcpAIwVkVruxpSzGlMZZtqlLsX6dDf6ylvM+qGUSxqlb1L1b6G+ZvNNRQEBPGsqyOWXL/8zjEphTJmsUcwkTqN+gCApLDAgPgSioFLtQC1pn7E4aL+PZGdWLbpwwkgkZmrqHGMJvS5w3NEfSqqQKZ4xNj1XsqipAxLTExNhh9vbbicj8SonDDDl1ddV92rZdBBRWbgehRRHmTyT//ag//8zjEsRUCTsR/TxACNE1JpuaFALuVjACXgk7hVwvwK4JuWf/9rJszoILTZboD1BaxOAig9yXC0EiS4cwYdhGDo4///+n//+YFtRq25JI45U/6kKiTVDFGmlDxolpITtsisbEA3V+3wHrYrd3/8zjEvCZbzng1mGgAvqkCLS1ZIldbhxY14G5d5xt/uTcTDa4qw6nE8w4xM36ron2ajx/ayEN7yZwW4SMQxxYGtbXkMVjC1PEkxujhgdYV7Ar4W+2vYUSvkzeBJmunDd871qmc4V+9R81cqRb/8zjEgSTSXrG9yXgCo26LRrDx6GSYEGOIRpcArmG6VQeQZrQAEM+K8q6JtGXkkdVUNFjdSjJJHSwOmCGPKFba1dWaTdB7tcQ/FtFdoNKLIC1lDRVJ1lm4mT1uYQLIQhNGRhKXow4VIXCQumH/8zjETBd6Rpm8QEWoMBAYLIPEfEOo96g7rI888q4qWgz4fliGJ8ypW2sdQIljcGdRNBmE0LvPhmjCUPeh4Uw0OKqHjlMHh4gASiI4yo61lQxWSVaPR1VWMZ6OsOztur6/b+XMZWUVng6BwEj/8zjETRZKPmw0SErsES72rIwS3hwq1PfO1Rbbl2tw0VxwoCuqblYiXWTIs/rL5Tn9S56DopTb9KHFFWdgKI+zGDMBp6g6s0bLIY2i9xtWef+l/q//QoAAq05IP8Hy6ICxIihE3GMWwGFhxA7/8zjEUg7pqnReKETcqpv6fopYeX2/Kk+5bui/vzqNpna46wU0ZjH7+r6O26rBaLdEb1FBRq5IyYTF0gYQaG7MGDx35j7aj6bIiGaOJAuSL4NYKl05NxvPnmwvUHWrSkRT8n03HUXIqoZmonj/8zjEdQ1QQmF3SRgA+D5ghn12ScWs5sUp8TZZBwkMY+2Np/NMbdLdrTDiSw6uZH7nviOa2fcp7WoQyGXsTPstA0PvebtiJfE133Ff7HNi3zdXLYq3vT33XUnqO/85/wZqcchsVg1e12e02n3/8zjEniSTJkQBmFgAtsAMUwc/eZqQtfJQ5s9CqFIFkITZZQGGxUJHXXvufa90kUxMOPtvuasdjIycxODA8o4f3uuqu5wsPLDyBhwwc6970YtB7kS5xycr7k3pMzs0QmnVBjGdHTcL8Wzek93/8zjEaiZS7upfj2ADLccmDnL1+NLT32moVpyfPNN9u715pvRdTtv9KUfu+so4/rt59/ctvf+TEgUQzM9q//3q0QgFvWmyqjnq1MTVwqmprNAwo4YwMLAtLz5H9/wLnR/sJl/xkrXHQRlqkqr/8zjELxSJzrwB2UAABIOTalYBqIpu/Agj2rqHHRH7CYyLtig9Qo5oUPra/kYYyPfVEUUKlkSSlwHZNEmgG8tqd3vrsXA03831cmqXxn+5+xN4+Nokr6axVAiTegDHvwFM3iI4/oI29n+rfMf/8zjEOxTRmvJeg8paRugsNrCv4dOVgPErLCT5V2vU8PSw6dLGVRAminAPKCcsy0RxXXVtfCUqYkg9kFNvKlnFKlfQLrfmFxgaXlERXLRQFdOY31KyPSYWt1K3yv9DfUreowPGrw1sflu3U/H/8zjERhPporDuFoo2LsI0qdSDt7SPagLJtsOpQ0hbA3wvqA9jY+O0RkRko0l1l017M7INpvsvdlf/vwz3OdZP//az5PdhiOs/n7n/C2yAn6NRyNYECSbcF3kDMmKsVvYnK0Zc3ZG3Mjex1wv/8zjEVRajPrRmaBNRm1IMLtj6/tjQePrVLpomuZjmqiaOupm+4+GqXebh55+rruv+bJuALG+LmELMK//mGbMlZvylkNO/tyk+try3IG7f96uTb5ijWWbJyJ32FBLHpDb2zkDK507j5rhPULT/8zjEWRrLRpQAQFmMULVa8cCadPl9IOgSLx4PGEcPVQALdrbbbOY//eyurqVwMQggH7nO7IVMNZnHXQ8w8aFzCxVbspsjVlMOEI2EYkSUfVXOQ8xnS53czXSt/1pc5b//7r6/+qpTv/o+7f//8zjETBUjKtZdRTgD//3stmaPNdAFBCwM6w4GiiB+AZ4+WgPANDZ+J3Do+Ygmx9kXXMSo3JLVremTScfNlNvu8ok0miahIRt0V6Du1aJkkgkTaVVTqapS8umyonySI7U3XTVVuyFFTO44R4n/8zjEViIbLmg1jGgAiPU8gbmJFElESStb3evWpVtDT3HsSyx3EusnG5eTFgPU6URmfR1JaSVSkmqrttXi2C6q/us7rta+ST4YA/j52GaMKhCJrL7lMZhADVlxBxIJpumSJeLhxxW4txF03cn/8zjELCBaNpgBmKAAgnER7KwaMG8CviE4t4nIOOQNGoSbGPHGRItEyKMI2I4m0UjS6DUDFOg5ofprZboIaDK6L2OnTrUU2W7I220P0WTaiYGixNQxzj3+NJFSg95w7Uj//VWkCi/kD5/+TzT/8zjECReJxtjLj5gA8S1hFiYjvGERkxSzSonIi4nMwCfCYMQErHgnDU2HMJg8dIGOgeTw4CqXisMwfSF4OQTIzJsKcQh8WcmfN9yIom6lTY6bf19/btXbQ+kbuyHzFzv/9CoFUQCUk0y3gf//8zjECRVBqt5fz1AA/ohgXL/s8P1NldOFf6kBJkoo3yMh8FsBEescTHgaAvJF5wghZJc1jRAljknuaXM+/nyL9H//o6WdDCF3CAax6xNrEZDPJ3f/0xQMFiYSU43I4Jx/+cFUDDjcaiWkUW7/8zjEExUBit2/RhgCwMmAY3/NSP40qqQY1gVQpUmFLRmqqAiYq//rqv/8b41JvUtgIUDJEsHSzmRKCyMGhEoGj1kFf/7eWHjj38Fmj49tJB56DIDXNMIV/PGXzLiuXb25CTmGfzGnu6kf9Gr/8zjEHhtTzpQLhlAAWKFlLggf31fFZh+IsXEhn/1c9n2PLkBITj+N//889zFPnM1xoMBYQXjcRbkJL//zGstSckPRDLE6CACxOFgqWBsEIPRDjQCv///o3//6DOoS7bSWRyP//eup3GogBkH/8zjEDxRJkvJZ2igDGmKTyaaXhhS4jCBeWf3eBoSCyOqxjCDkJCYFFn3dReyucPgOfoh376kQi1Oc7c54mrnVVVzIu/1PW0ggLnwICi/qVUAHZMM4ZVa6+lAYlYtfKkxQao0gXtBMXh2CHuD/8zjEHBUQssEUBhAUAIQ14qtX+pVNa1KHDw0sYDTVjIGKjBEChMGjxaryssHAKCpwBCu7j6b1d6Hp/ympjJxUEFg45gfVA3YgBTg+FEmU6HQUrOVSp/X0b/////qhDnfRm+vdTiQABwUuhiH/8zjEJhOjQsmmEAsMCZ4uc84udGO1HqndzAQqoqPEzsc91nHnHFGGIHHDpxgooopBQhTsIEUADTba5sJJQWl8igq5lJtkfc6v9NTL2QUq23//R2LmvT3////ujPXb+yUY0kISzGnIhxmOHOL/8zjENhMjQu5eAM5+kdulH/2++99P6f6mmqqVHTTDTjlYdOUMWXW2Ulrv8AI8HYtYGYctADPRlCTCEPZxI1HnPtQBVOLMJdlP6/9BQPC3t/MrKxCzXUSrq1FOEB2YRIZFK23MpVYp20rbMon/8zjESBS6RsZYCYp+Dy7u9vHC9X+y21QIC/3+/7THf/sQ0zbSka1lkFkaYle45jp1kk1Iu51qa+OyiANEU62q4vhLlGl4tGqeGlYv9jKxH20N/8qOv/zIZD2Z/3lzSLLp9f7IbkWI6IQ3d2r/8zjEVBTTDrJaCgTdCbkkclcbkDvUi9vNMT870VvWEi0EGp4zt21SbRCy0E3Uzj9tKEIxv+z/YymqVS10BpsyDg0t+u8uoa0+aeZGNcKUQsNPUxuOe+QbVi3+vVkBRtB2GqqiUP1K03EzUc7/8zjEXxTxQr5cCkwyH5me5RPcAEJcsfe5vH+BgjdYFcjuWB6ZA1ebmk9IT/dp5bOxAgQyH59Fk1glHhZMnRkpxOx7Z7+X/4//56d66cc9PX1rQyoW22Wx1uTvOjWBSEO5lvUL6HJqsLxZ7yf/8zjEahRRur2QBgwYTKBHpqXPbOobYBA2PO+Qas/zX/kC4rDdFhIza8TX/ErX82v/0dzzuIos0XQcCCKsfFxQrV9JaiEQK6VyAUZl2fA/pZZpWo0lc5Zr8m6LijbW/Cl80M11KjloYwEBCmT/8zjEdxORuwJYphBzMWXqVQzq1MzSllKymNm/4UBBYRStmzsK5U7rCQNMriWIluRKwVHhqHaqP0zkAmiZMvA6AMOx1BsB1Z7VtN05U2+ckuyOXMZW5nzAQokNyKmgx2ukr4Ugrv58UUK+Fkf/8zjEhxRhhsWWA8QaHCnwuPt/WH+FOv+zvBSTwr30/N7fL44sxu//5Pmt/vnqAQgJBBxJYoEithOTebcOU6GkdqNvsfZ5kEFVyQLC+O4FtNPfQH4KsF0EF+SBqTxcC+DzHqMoDsF//EbGHNz/8zjElBVQynQ3TBABSwchoFvGFHuD8Rin/GDHuPMYAYQoGZKE0YAchIDlO/830EDdM3LhgojqQPlwoFv/5ogX03NEGTTTQMiUKQ7C6XyQQIbEgbf/9TU3QQZO6CFNTMt0GWaTQaOf//01Ih3/8zjEnSabEoT1j2gAZW9twf5pp9MPsTMCUHoVOIhvgJ5rqwOs0xCybJyK/rV1NjvTIpOen/fZ5mKq+uFNhmzED7dZOb1Or+Zevp0YYdBF8d7ld1dKNuHvWEceLgqMHhQfO2MeWcSVO/Khr2v/8zjEYRmpkrWXzzACpLW4RazyEEAM0AuO8D/3FZTDLZAGSwaBX0kkkR0MIUKmGKAnU1UueARxkQGBiQr8WbPvzOSTSCgVRLbaaqt1uz5bqlngGYzKRO4YSnakqINUfWIItGoJhCGzzLB9ZTH/8zjEWR3Kuqo+yYT8Bye3bIOe3105PfnRn56Nzv87s3J+T5CXW5ggzsI2VSoCrbJJbuB/55YBQ18NnKqtrQUAov/wYlWvmuRpv68zPbZz/95zvnYlleZw4klBSQUFAqJ+Rw34T2mhpt4T/6H/8zjEQBWxHtm/RjADX/FN/oL/4m/4p2/d+xv+FLhRsIKCnjUASNxpwSCUTXLYegcAr3crwdfYb2NXNdNKvO32T6/2R3Ltn//7FmS5v/+/beuceViEYf1+ZJSmgmrecqyYZv//4HZmZJIcBAP/8zjESCbjzq5fiVgAQ0GR/TPvLYefm7k+uyz/LxFI4nIMuJRIAkHQbmgeJNl2LiOIMpLBsWj////8sGwHBADQCGQ5uYoDvLBsa40Pn0T7FbhN7H2///////2f/////56Vr5+P////////////8zjECxcyurQBgFgA/+5/9Xhkxd3TaqJiJndD+GmJsoeTq3H6lIzbzse6WtPDtEYPI7CglAhmlsaskbiU1NzpPkmzbaOozyyodpJQfTbR1zIt83pPBxovPMnbOVZ/od0+cQrjAbnUhFvmsLr/8zjEDRbB8qABmpgA0cqF62bgGGBgqbxoiUyuAD8EYjD006ZLpm6X3tpGpcMWvpHVppu6ZuThOHCgYumimipbIrQWtSnRTQQqRUkkiyOk36t/5x2lg05X/1MqUhAoGoA/fLkSVuCK5dNTEAz/8zjEERW5lq2V2UAAbMYRAdC6aW0Ri7mWQXGh6LZ0j/7i76WuWYRVX5DxeeC518i69mD604w/WrugkHa7khfGS1AvqW3EBK/GmzizTYQqP1EsCKAP7oUGA/9fpsaQ0/Yy+Wo1Vb/I/HQZuT3/8zjEGRRqGr0WwkTMXHFuJt78iJpQYiqA4ZqvOjO7mT1DPvQvLK3VDS3O2qmGnopn3IHe9nZlor+wdlezmI7IUc9rf/9dFADDe0gBgD/1Tv0WhG8XtV/bIcivLaZxBasIyyBscqPAFBL19Vr/8zjEJhRZrrJcwgTNpWBGlqBrmt1t8pd1MVmSZ//KpSleY7IczgKqjsxrxzmrVudfKHlPD8lOO2oQIDfzEAQAf/6rlUQWDKqe3ivIPlLptsk/PsJgT/fnL2syprMgUAfruWqmfy/Vq6CvUj//8zjEMxQZnq2+wYTN/mr0dndgwog9yiiDqlFqYkjeG38b/hX+FZfFhai1CbkjBTgHeNGOuI7T7+DS7rq2LNarXlushzMCDtGuh58SSQkkNbPVmhFYecMykvzfzVkN/8/huVWlRIYwmJWcrDv/8zjEQRShnqR+BgYWXM1CIoHSTzjkX/ZsbZY3oCqFFtQAqQBxgHeClJAa0eArjmfspSc8u5vHj47S0U5bV4T2Nbdjtnzb35AlKAus5SkEk2sYFCTnKOlQVGnTp67OoberK1WTxsBtOvQ56Hv/8zjETRTpGoBeA8wMhY7+5T2IWqwquHkWhMHxJRW1lbx0+SVLVWaLmYl21taWvqoX2aw2sPlaw71fY9VRqdL+M2zM1L6qrG//+N/S7sfs4C4RNhIKuyyCw93JYhWdJCJQFdExKedDVQAafLr/8zjEWBTZ5mQEYEcE8AIGCZkFhcVFRUVFg8aHijcWFbs1iotNDxT+sUb+oX/rFFfxf26xTULCv8Vb/iutTEFNRTMuMTAwVVVVVVVVVVVVVVVVVVVVVVVVVVVVVVVVVVVVVVVVVVVVVVVVVVX/8zjEYwzwCfB2EEYAVVVVVVVVVVVVVVVVVVVVVVVVVVVVVVVVVVVVVVVVVVVVVVVVVVVVVVVVVVVVVVVVVVVVVVVVVVVVVVVVVVVVVVVVVVVVVVVVVVVVVVVVVVVVVVVVVVVVVVVVVVVVVVU=\" type=\"audio/mpeg\"/>\n                        Your browser does not support the audio element.\n                    </audio>\n                  "
     },
     "execution_count": 6,
     "metadata": {},
     "output_type": "execute_result"
    }
   ],
   "source": [
    "# Load the .flac file\n",
    "example_file = f\"{dataset_path}/LA/LA/ASVspoof2019_LA_train/flac/LA_T_1004407.flac\"\n",
    "audio = AudioSegment.from_file(example_file, format=\"flac\")\n",
    "\n",
    "audio"
   ],
   "metadata": {
    "collapsed": false,
    "ExecuteTime": {
     "end_time": "2025-02-03T12:34:01.149018Z",
     "start_time": "2025-02-03T12:34:00.456759Z"
    }
   },
   "id": "b10ebdddb8cbb58"
  },
  {
   "cell_type": "code",
   "execution_count": 83,
   "outputs": [],
   "source": [
    "importlib.reload(data_utils)\n",
    "col_names = ['speaker', 'file_name', 'attack', 'label']\n",
    "protocols_folder = \"LA/LA/ASVspoof2019_LA_cm_protocols\"\n",
    "protocol_file_prefix = \"ASVspoof2019.LA.cm\"\n",
    "data_info_train_file_path = f\"{dataset_path}/{protocols_folder}/{protocol_file_prefix}.train.trn.txt\"\n",
    "data_info_val_file_path = f\"{dataset_path}/{protocols_folder}/{protocol_file_prefix}.dev.trl.txt\"\n",
    "data_info_test_file_path = f\"{dataset_path}/{protocols_folder}/{protocol_file_prefix}.eval.trl.txt\"\n",
    "\n",
    "train_df_info = load_protocol(data_info_train_file_path, names=col_names)\n",
    "val_df_info = load_protocol(data_info_train_file_path, names=col_names)\n",
    "test_df_info = load_protocol(data_info_train_file_path, names=col_names)"
   ],
   "metadata": {
    "collapsed": false,
    "ExecuteTime": {
     "end_time": "2025-02-04T10:07:18.414428Z",
     "start_time": "2025-02-04T10:07:18.360727Z"
    }
   },
   "id": "df5728317c1a6d00"
  },
  {
   "cell_type": "code",
   "execution_count": 84,
   "outputs": [
    {
     "name": "stdout",
     "output_type": "stream",
     "text": [
      "6345\n",
      "      file_name label\n",
      "0  LA_T_1138215     0\n",
      "1  LA_T_1271820     0\n",
      "2  LA_T_1272637     0\n",
      "3  LA_T_1276960     0\n",
      "4  LA_T_1341447     0\n",
      "      file_name label\n",
      "0  LA_T_1138215     0\n",
      "1  LA_T_1271820     0\n",
      "2  LA_T_1272637     0\n",
      "3  LA_T_1276960     0\n",
      "4  LA_T_1341447     0\n",
      "      file_name label\n",
      "0  LA_T_1138215     0\n",
      "1  LA_T_1271820     0\n",
      "2  LA_T_1272637     0\n",
      "3  LA_T_1276960     0\n",
      "4  LA_T_1341447     0\n"
     ]
    }
   ],
   "source": [
    "train_df = data_utils.process_data_frame(train_dir, train_df_info)\n",
    "val_df = data_utils.process_data_frame(val_dir, val_df_info)\n",
    "test_df = data_utils.process_data_frame(test_dir, test_df_info)"
   ],
   "metadata": {
    "collapsed": false,
    "ExecuteTime": {
     "end_time": "2025-02-04T10:07:26.899713Z",
     "start_time": "2025-02-04T10:07:19.580489Z"
    }
   },
   "id": "e4fdcea353786df7"
  },
  {
   "cell_type": "code",
   "execution_count": 86,
   "outputs": [
    {
     "data": {
      "text/plain": "              file_name label\n25382  aug_LA_T_9350805     1",
      "text/html": "<div>\n<style scoped>\n    .dataframe tbody tr th:only-of-type {\n        vertical-align: middle;\n    }\n\n    .dataframe tbody tr th {\n        vertical-align: top;\n    }\n\n    .dataframe thead th {\n        text-align: right;\n    }\n</style>\n<table border=\"1\" class=\"dataframe\">\n  <thead>\n    <tr style=\"text-align: right;\">\n      <th></th>\n      <th>file_name</th>\n      <th>label</th>\n    </tr>\n  </thead>\n  <tbody>\n    <tr>\n      <th>25382</th>\n      <td>aug_LA_T_9350805</td>\n      <td>1</td>\n    </tr>\n  </tbody>\n</table>\n</div>"
     },
     "execution_count": 86,
     "metadata": {},
     "output_type": "execute_result"
    }
   ],
   "source": [
    "train_df[train_df['file_name'] == example_aug_file[:-5]]"
   ],
   "metadata": {
    "collapsed": false,
    "ExecuteTime": {
     "end_time": "2025-02-04T10:10:30.751405Z",
     "start_time": "2025-02-04T10:10:30.742876Z"
    }
   },
   "id": "49efcd40748ebef4"
  },
  {
   "cell_type": "code",
   "execution_count": 87,
   "outputs": [],
   "source": [
    "train_dataset = audio_utils.AudioDataset(data_dir=train_dir, df=train_df)\n",
    "val_dataset = audio_utils.AudioDataset(data_dir=val_dir, df=val_df)\n",
    "test_dataset = audio_utils.AudioDataset(data_dir=test_dir, df=test_df)"
   ],
   "metadata": {
    "collapsed": false,
    "ExecuteTime": {
     "end_time": "2025-02-04T10:25:46.050004Z",
     "start_time": "2025-02-04T10:25:46.042194Z"
    }
   },
   "id": "f85e68e706979634"
  },
  {
   "cell_type": "code",
   "execution_count": 88,
   "outputs": [],
   "source": [
    "class Wav2Vec2BinaryClassifier(nn.Module):\n",
    "    def __init__(self, model_name=\"facebook/wav2vec2-base\", input_dim=256, dropout=0.3):\n",
    "        super(Wav2Vec2BinaryClassifier, self).__init__()\n",
    "        self.wav2vec2 = Wav2Vec2Model.from_pretrained(model_name)\n",
    "        self.classifier = nn.Sequential(\n",
    "            nn.Linear(self.wav2vec2.config.hidden_size, input_dim),  # Reduce to 256 features\n",
    "            nn.ReLU(),\n",
    "            nn.Dropout(dropout),\n",
    "            nn.Linear(input_dim, 1),  # Single neuron for binary classification\n",
    "            nn.Sigmoid()\n",
    "        )\n",
    "\n",
    "    def forward(self, input_values, attention_mask=None):\n",
    "        outputs = self.wav2vec2(input_values, attention_mask=attention_mask)\n",
    "        hidden_states = outputs.last_hidden_state  # Shape: (batch_size, seq_len, hidden_dim)\n",
    "        \n",
    "        # Get the mean embedding over time (global average pooling)\n",
    "        pooled_output = hidden_states.mean(dim=1)  # Shape: (batch_size, hidden_dim)\n",
    "        \n",
    "        return self.classifier(pooled_output)  # Shape: (batch_size, 1)"
   ],
   "metadata": {
    "collapsed": false,
    "ExecuteTime": {
     "end_time": "2025-02-04T10:25:50.025612Z",
     "start_time": "2025-02-04T10:25:50.019855Z"
    }
   },
   "id": "e54a0084924f84b4"
  },
  {
   "cell_type": "code",
   "execution_count": 89,
   "outputs": [],
   "source": [
    "device = torch.device('mps' if torch.mps.is_available() else 'cuda' if torch.cuda.is_available() else 'cpu')"
   ],
   "metadata": {
    "collapsed": false,
    "ExecuteTime": {
     "end_time": "2025-02-04T10:25:53.951585Z",
     "start_time": "2025-02-04T10:25:53.948308Z"
    }
   },
   "id": "dcfc3aaf613c7db1"
  },
  {
   "cell_type": "code",
   "execution_count": 90,
   "outputs": [],
   "source": [
    "def freeze_except_classifier(model):\n",
    "    \"\"\"\n",
    "    Freeze all layers of the Wav2Vec 2.0 model except the classifier layers.\n",
    "    \"\"\"\n",
    "    \n",
    "    # Freeze all parameters in the Wav2Vec 2.0 model\n",
    "    for param in model.wav2vec2.parameters():\n",
    "        param.requires_grad = False\n",
    "\n",
    "    # Unfreeze the classifier layers\n",
    "    for param in model.classifier.parameters():\n",
    "        param.requires_grad = True\n",
    "\n",
    "    print(\"Wav2Vec 2.0 layers frozen. Only classifier layers are trainable.\")"
   ],
   "metadata": {
    "collapsed": false,
    "ExecuteTime": {
     "end_time": "2025-02-04T10:25:54.731972Z",
     "start_time": "2025-02-04T10:25:54.715043Z"
    }
   },
   "id": "41f2c7c797d13ca4"
  },
  {
   "cell_type": "code",
   "execution_count": 91,
   "outputs": [],
   "source": [
    "# Hyperparameters\n",
    "LEARNING_RATE = 0.001\n",
    "criterion = nn.BCEWithLogitsLoss()\n",
    "EPOCHS = 3"
   ],
   "metadata": {
    "collapsed": false,
    "ExecuteTime": {
     "end_time": "2025-02-04T10:25:56.041481Z",
     "start_time": "2025-02-04T10:25:56.028614Z"
    }
   },
   "id": "d5107dfba5eeac0b"
  },
  {
   "cell_type": "code",
   "execution_count": 92,
   "outputs": [
    {
     "name": "stderr",
     "output_type": "stream",
     "text": [
      "/Library/Python/3.9/site-packages/transformers/configuration_utils.py:312: UserWarning: Passing `gradient_checkpointing` to a config initialization is deprecated and will be removed in v5 Transformers. Using `model.gradient_checkpointing_enable()` instead, or if you are using the `Trainer` API, pass `gradient_checkpointing=True` in your `TrainingArguments`.\n",
      "  warnings.warn(\n"
     ]
    },
    {
     "name": "stdout",
     "output_type": "stream",
     "text": [
      "Wav2Vec 2.0 layers frozen. Only classifier layers are trainable.\n"
     ]
    },
    {
     "name": "stderr",
     "output_type": "stream",
     "text": [
      "Python(56159) MallocStackLogging: can't turn off malloc stack logging because it was not enabled.\n",
      "Python(56161) MallocStackLogging: can't turn off malloc stack logging because it was not enabled.\n"
     ]
    },
    {
     "name": "stdout",
     "output_type": "stream",
     "text": [
      "Progress of epoch 1/3: loop 0/1983 finished\n"
     ]
    },
    {
     "name": "stderr",
     "output_type": "stream",
     "text": [
      "Traceback (most recent call last):\n",
      "  File \"<string>\", line 1, in <module>\n",
      "Process Process-31:\n",
      "  File \"/Applications/Xcode.app/Contents/Developer/Library/Frameworks/Python3.framework/Versions/3.9/lib/python3.9/multiprocessing/spawn.py\", line 116, in spawn_main\n",
      "    exitcode = _main(fd, parent_sentinel)\n",
      "  File \"/Applications/Xcode.app/Contents/Developer/Library/Frameworks/Python3.framework/Versions/3.9/lib/python3.9/multiprocessing/spawn.py\", line 129, in _main\n",
      "    return self._bootstrap(parent_sentinel)\n",
      "  File \"/Applications/Xcode.app/Contents/Developer/Library/Frameworks/Python3.framework/Versions/3.9/lib/python3.9/multiprocessing/process.py\", line 333, in _bootstrap\n",
      "    threading._shutdown()\n",
      "  File \"/Applications/Xcode.app/Contents/Developer/Library/Frameworks/Python3.framework/Versions/3.9/lib/python3.9/threading.py\", line 1435, in _shutdown\n",
      "    atexit_call()\n",
      "  File \"/Applications/Xcode.app/Contents/Developer/Library/Frameworks/Python3.framework/Versions/3.9/lib/python3.9/concurrent/futures/process.py\", line 90, in _python_exit\n",
      "    items = list(_threads_wakeups.items())\n",
      "  File \"/Applications/Xcode.app/Contents/Developer/Library/Frameworks/Python3.framework/Versions/3.9/lib/python3.9/weakref.py\", line 452, in items\n",
      "    with _IterationGuard(self):\n",
      "KeyboardInterrupt\n",
      "Traceback (most recent call last):\n",
      "  File \"/Applications/Xcode.app/Contents/Developer/Library/Frameworks/Python3.framework/Versions/3.9/lib/python3.9/multiprocessing/process.py\", line 318, in _bootstrap\n",
      "    util._exit_function()\n",
      "  File \"/Applications/Xcode.app/Contents/Developer/Library/Frameworks/Python3.framework/Versions/3.9/lib/python3.9/multiprocessing/util.py\", line 360, in _exit_function\n",
      "    _run_finalizers()\n",
      "  File \"/Applications/Xcode.app/Contents/Developer/Library/Frameworks/Python3.framework/Versions/3.9/lib/python3.9/multiprocessing/util.py\", line 300, in _run_finalizers\n",
      "    finalizer()\n",
      "  File \"/Applications/Xcode.app/Contents/Developer/Library/Frameworks/Python3.framework/Versions/3.9/lib/python3.9/multiprocessing/util.py\", line 224, in __call__\n",
      "    res = self._callback(*self._args, **self._kwargs)\n",
      "  File \"/Applications/Xcode.app/Contents/Developer/Library/Frameworks/Python3.framework/Versions/3.9/lib/python3.9/multiprocessing/queues.py\", line 201, in _finalize_join\n",
      "    thread.join()\n",
      "  File \"/Applications/Xcode.app/Contents/Developer/Library/Frameworks/Python3.framework/Versions/3.9/lib/python3.9/threading.py\", line 1053, in join\n",
      "    self._wait_for_tstate_lock()\n",
      "  File \"/Applications/Xcode.app/Contents/Developer/Library/Frameworks/Python3.framework/Versions/3.9/lib/python3.9/threading.py\", line 1069, in _wait_for_tstate_lock\n",
      "    elif lock.acquire(block, timeout):\n",
      "KeyboardInterrupt\n",
      "Exception ignored in: <function _MultiProcessingDataLoaderIter.__del__ at 0x113414a60>\n",
      "Traceback (most recent call last):\n",
      "  File \"/Users/roeeseren/Library/Python/3.9/lib/python/site-packages/torch/utils/data/dataloader.py\", line 1617, in __del__\n",
      "    def __del__(self):\n",
      "  File \"/Users/roeeseren/Library/Python/3.9/lib/python/site-packages/torch/utils/data/_utils/signal_handling.py\", line 73, in handler\n",
      "    _error_if_any_worker_fails()\n",
      "RuntimeError: DataLoader worker (pid 56159) exited unexpectedly with exit code 1. Details are lost due to multiprocessing. Rerunning with num_workers=0 may give better error trace.\n"
     ]
    },
    {
     "name": "stdout",
     "output_type": "stream",
     "text": [
      "Unexpected exception formatting exception. Falling back to standard exception\n"
     ]
    },
    {
     "name": "stderr",
     "output_type": "stream",
     "text": [
      "Traceback (most recent call last):\n",
      "  File \"/Users/roeeseren/Library/Python/3.9/lib/python/site-packages/IPython/core/interactiveshell.py\", line 3508, in run_code\n",
      "    exec(code_obj, self.user_global_ns, self.user_ns)\n",
      "  File \"/var/folders/5y/g1j3_4fs0rz08qx2c5tfp28h0000gn/T/ipykernel_2429/3394482668.py\", line 10, in <module>\n",
      "    results = train_utils.train_model(wav2vec, train_loader, val_loader, criterion, optimizer, EPOCHS, device)\n",
      "  File \"/Users/roeeseren/Documents/semester-seven/deep-learning/project/train_utils.py\", line 28, in train_model\n",
      "    outputs = model(inputs).squeeze(1)\n",
      "KeyboardInterrupt\n",
      "\n",
      "During handling of the above exception, another exception occurred:\n",
      "\n",
      "Traceback (most recent call last):\n",
      "  File \"/Users/roeeseren/Library/Python/3.9/lib/python/site-packages/IPython/core/interactiveshell.py\", line 2105, in showtraceback\n",
      "    stb = self.InteractiveTB.structured_traceback(\n",
      "  File \"/Users/roeeseren/Library/Python/3.9/lib/python/site-packages/IPython/core/ultratb.py\", line 1396, in structured_traceback\n",
      "    return FormattedTB.structured_traceback(\n",
      "  File \"/Users/roeeseren/Library/Python/3.9/lib/python/site-packages/IPython/core/ultratb.py\", line 1287, in structured_traceback\n",
      "    return VerboseTB.structured_traceback(\n",
      "  File \"/Users/roeeseren/Library/Python/3.9/lib/python/site-packages/IPython/core/ultratb.py\", line 1140, in structured_traceback\n",
      "    formatted_exception = self.format_exception_as_a_whole(etype, evalue, etb, number_of_lines_of_context,\n",
      "  File \"/Users/roeeseren/Library/Python/3.9/lib/python/site-packages/IPython/core/ultratb.py\", line 1055, in format_exception_as_a_whole\n",
      "    frames.append(self.format_record(record))\n",
      "  File \"/Users/roeeseren/Library/Python/3.9/lib/python/site-packages/IPython/core/ultratb.py\", line 955, in format_record\n",
      "    frame_info.lines, Colors, self.has_colors, lvals\n",
      "  File \"/Users/roeeseren/Library/Python/3.9/lib/python/site-packages/IPython/core/ultratb.py\", line 778, in lines\n",
      "    return self._sd.lines\n",
      "  File \"/Users/roeeseren/Library/Python/3.9/lib/python/site-packages/stack_data/utils.py\", line 144, in cached_property_wrapper\n",
      "    value = obj.__dict__[self.func.__name__] = self.func(obj)\n",
      "  File \"/Users/roeeseren/Library/Python/3.9/lib/python/site-packages/stack_data/core.py\", line 734, in lines\n",
      "    pieces = self.included_pieces\n",
      "  File \"/Users/roeeseren/Library/Python/3.9/lib/python/site-packages/stack_data/utils.py\", line 144, in cached_property_wrapper\n",
      "    value = obj.__dict__[self.func.__name__] = self.func(obj)\n",
      "  File \"/Users/roeeseren/Library/Python/3.9/lib/python/site-packages/stack_data/core.py\", line 681, in included_pieces\n",
      "    pos = scope_pieces.index(self.executing_piece)\n",
      "  File \"/Users/roeeseren/Library/Python/3.9/lib/python/site-packages/stack_data/utils.py\", line 144, in cached_property_wrapper\n",
      "    value = obj.__dict__[self.func.__name__] = self.func(obj)\n",
      "  File \"/Users/roeeseren/Library/Python/3.9/lib/python/site-packages/stack_data/core.py\", line 660, in executing_piece\n",
      "    return only(\n",
      "  File \"/Users/roeeseren/Library/Python/3.9/lib/python/site-packages/executing/executing.py\", line 190, in only\n",
      "    raise NotOneValueFound('Expected one value, found 0')\n",
      "executing.executing.NotOneValueFound: Expected one value, found 0\n"
     ]
    }
   ],
   "source": [
    "wav2vec = Wav2Vec2BinaryClassifier()\n",
    "freeze_except_classifier(wav2vec)\n",
    "\n",
    "optimizer = torch.optim.Adam(wav2vec.parameters(), lr=LEARNING_RATE)\n",
    "wav2vec.to(device)\n",
    "\n",
    "train_loader = DataLoader(train_dataset, batch_size=16, shuffle=True, num_workers=2)\n",
    "val_loader = DataLoader(val_dataset, batch_size=16, shuffle=False, num_workers=2)\n",
    "\n",
    "results = train_utils.train_model(wav2vec, train_loader, val_loader, criterion, optimizer, EPOCHS, device)"
   ],
   "metadata": {
    "collapsed": false,
    "ExecuteTime": {
     "end_time": "2025-02-04T10:41:56.363281Z",
     "start_time": "2025-02-04T10:25:57.409680Z"
    }
   },
   "id": "d2e262fe336558e0"
  },
  {
   "cell_type": "code",
   "execution_count": null,
   "outputs": [],
   "source": [],
   "metadata": {
    "collapsed": false
   },
   "id": "5c73128739554bd3"
  }
 ],
 "metadata": {
  "kernelspec": {
   "display_name": "Python 3",
   "language": "python",
   "name": "python3"
  },
  "language_info": {
   "codemirror_mode": {
    "name": "ipython",
    "version": 2
   },
   "file_extension": ".py",
   "mimetype": "text/x-python",
   "name": "python",
   "nbconvert_exporter": "python",
   "pygments_lexer": "ipython2",
   "version": "2.7.6"
  }
 },
 "nbformat": 4,
 "nbformat_minor": 5
}
