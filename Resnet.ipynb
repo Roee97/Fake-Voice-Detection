{
  "cells": [
    {
      "cell_type": "markdown",
      "metadata": {
        "id": "view-in-github",
        "colab_type": "text"
      },
      "source": [
        "<a href=\"https://colab.research.google.com/github/Roee97/Fake-Voice-Detection/blob/main/Resnet.ipynb\" target=\"_parent\"><img src=\"https://colab.research.google.com/assets/colab-badge.svg\" alt=\"Open In Colab\"/></a>"
      ]
    },
    {
      "cell_type": "code",
      "source": [
        "!pip install pydub"
      ],
      "metadata": {
        "id": "U1K-I2rDdR_q",
        "outputId": "22795f7c-ab84-41e5-bce4-0ebdddd21ca5",
        "colab": {
          "base_uri": "https://localhost:8080/"
        }
      },
      "id": "U1K-I2rDdR_q",
      "execution_count": 2,
      "outputs": [
        {
          "output_type": "stream",
          "name": "stdout",
          "text": [
            "Collecting pydub\n",
            "  Downloading pydub-0.25.1-py2.py3-none-any.whl.metadata (1.4 kB)\n",
            "Downloading pydub-0.25.1-py2.py3-none-any.whl (32 kB)\n",
            "Installing collected packages: pydub\n",
            "Successfully installed pydub-0.25.1\n"
          ]
        }
      ]
    },
    {
      "cell_type": "code",
      "execution_count": 1,
      "outputs": [
        {
          "output_type": "stream",
          "name": "stdout",
          "text": [
            "Requirement already satisfied: torchvision in /usr/local/lib/python3.11/dist-packages (0.20.1+cu124)\n",
            "Requirement already satisfied: numpy in /usr/local/lib/python3.11/dist-packages (from torchvision) (1.26.4)\n",
            "Requirement already satisfied: torch==2.5.1 in /usr/local/lib/python3.11/dist-packages (from torchvision) (2.5.1+cu124)\n",
            "Requirement already satisfied: pillow!=8.3.*,>=5.3.0 in /usr/local/lib/python3.11/dist-packages (from torchvision) (11.1.0)\n",
            "Requirement already satisfied: filelock in /usr/local/lib/python3.11/dist-packages (from torch==2.5.1->torchvision) (3.17.0)\n",
            "Requirement already satisfied: typing-extensions>=4.8.0 in /usr/local/lib/python3.11/dist-packages (from torch==2.5.1->torchvision) (4.12.2)\n",
            "Requirement already satisfied: networkx in /usr/local/lib/python3.11/dist-packages (from torch==2.5.1->torchvision) (3.4.2)\n",
            "Requirement already satisfied: jinja2 in /usr/local/lib/python3.11/dist-packages (from torch==2.5.1->torchvision) (3.1.5)\n",
            "Requirement already satisfied: fsspec in /usr/local/lib/python3.11/dist-packages (from torch==2.5.1->torchvision) (2024.10.0)\n",
            "Collecting nvidia-cuda-nvrtc-cu12==12.4.127 (from torch==2.5.1->torchvision)\n",
            "  Downloading nvidia_cuda_nvrtc_cu12-12.4.127-py3-none-manylinux2014_x86_64.whl.metadata (1.5 kB)\n",
            "Collecting nvidia-cuda-runtime-cu12==12.4.127 (from torch==2.5.1->torchvision)\n",
            "  Downloading nvidia_cuda_runtime_cu12-12.4.127-py3-none-manylinux2014_x86_64.whl.metadata (1.5 kB)\n",
            "Collecting nvidia-cuda-cupti-cu12==12.4.127 (from torch==2.5.1->torchvision)\n",
            "  Downloading nvidia_cuda_cupti_cu12-12.4.127-py3-none-manylinux2014_x86_64.whl.metadata (1.6 kB)\n",
            "Collecting nvidia-cudnn-cu12==9.1.0.70 (from torch==2.5.1->torchvision)\n",
            "  Downloading nvidia_cudnn_cu12-9.1.0.70-py3-none-manylinux2014_x86_64.whl.metadata (1.6 kB)\n",
            "Collecting nvidia-cublas-cu12==12.4.5.8 (from torch==2.5.1->torchvision)\n",
            "  Downloading nvidia_cublas_cu12-12.4.5.8-py3-none-manylinux2014_x86_64.whl.metadata (1.5 kB)\n",
            "Collecting nvidia-cufft-cu12==11.2.1.3 (from torch==2.5.1->torchvision)\n",
            "  Downloading nvidia_cufft_cu12-11.2.1.3-py3-none-manylinux2014_x86_64.whl.metadata (1.5 kB)\n",
            "Collecting nvidia-curand-cu12==10.3.5.147 (from torch==2.5.1->torchvision)\n",
            "  Downloading nvidia_curand_cu12-10.3.5.147-py3-none-manylinux2014_x86_64.whl.metadata (1.5 kB)\n",
            "Collecting nvidia-cusolver-cu12==11.6.1.9 (from torch==2.5.1->torchvision)\n",
            "  Downloading nvidia_cusolver_cu12-11.6.1.9-py3-none-manylinux2014_x86_64.whl.metadata (1.6 kB)\n",
            "Collecting nvidia-cusparse-cu12==12.3.1.170 (from torch==2.5.1->torchvision)\n",
            "  Downloading nvidia_cusparse_cu12-12.3.1.170-py3-none-manylinux2014_x86_64.whl.metadata (1.6 kB)\n",
            "Requirement already satisfied: nvidia-nccl-cu12==2.21.5 in /usr/local/lib/python3.11/dist-packages (from torch==2.5.1->torchvision) (2.21.5)\n",
            "Requirement already satisfied: nvidia-nvtx-cu12==12.4.127 in /usr/local/lib/python3.11/dist-packages (from torch==2.5.1->torchvision) (12.4.127)\n",
            "Collecting nvidia-nvjitlink-cu12==12.4.127 (from torch==2.5.1->torchvision)\n",
            "  Downloading nvidia_nvjitlink_cu12-12.4.127-py3-none-manylinux2014_x86_64.whl.metadata (1.5 kB)\n",
            "Requirement already satisfied: triton==3.1.0 in /usr/local/lib/python3.11/dist-packages (from torch==2.5.1->torchvision) (3.1.0)\n",
            "Requirement already satisfied: sympy==1.13.1 in /usr/local/lib/python3.11/dist-packages (from torch==2.5.1->torchvision) (1.13.1)\n",
            "Requirement already satisfied: mpmath<1.4,>=1.1.0 in /usr/local/lib/python3.11/dist-packages (from sympy==1.13.1->torch==2.5.1->torchvision) (1.3.0)\n",
            "Requirement already satisfied: MarkupSafe>=2.0 in /usr/local/lib/python3.11/dist-packages (from jinja2->torch==2.5.1->torchvision) (3.0.2)\n",
            "Downloading nvidia_cublas_cu12-12.4.5.8-py3-none-manylinux2014_x86_64.whl (363.4 MB)\n",
            "\u001b[2K   \u001b[90m━━━━━━━━━━━━━━━━━━━━━━━━━━━━━━━━━━━━━━━━\u001b[0m \u001b[32m363.4/363.4 MB\u001b[0m \u001b[31m4.2 MB/s\u001b[0m eta \u001b[36m0:00:00\u001b[0m\n",
            "\u001b[?25hDownloading nvidia_cuda_cupti_cu12-12.4.127-py3-none-manylinux2014_x86_64.whl (13.8 MB)\n",
            "\u001b[2K   \u001b[90m━━━━━━━━━━━━━━━━━━━━━━━━━━━━━━━━━━━━━━━━\u001b[0m \u001b[32m13.8/13.8 MB\u001b[0m \u001b[31m60.8 MB/s\u001b[0m eta \u001b[36m0:00:00\u001b[0m\n",
            "\u001b[?25hDownloading nvidia_cuda_nvrtc_cu12-12.4.127-py3-none-manylinux2014_x86_64.whl (24.6 MB)\n",
            "\u001b[2K   \u001b[90m━━━━━━━━━━━━━━━━━━━━━━━━━━━━━━━━━━━━━━━━\u001b[0m \u001b[32m24.6/24.6 MB\u001b[0m \u001b[31m46.5 MB/s\u001b[0m eta \u001b[36m0:00:00\u001b[0m\n",
            "\u001b[?25hDownloading nvidia_cuda_runtime_cu12-12.4.127-py3-none-manylinux2014_x86_64.whl (883 kB)\n",
            "\u001b[2K   \u001b[90m━━━━━━━━━━━━━━━━━━━━━━━━━━━━━━━━━━━━━━━━\u001b[0m \u001b[32m883.7/883.7 kB\u001b[0m \u001b[31m33.4 MB/s\u001b[0m eta \u001b[36m0:00:00\u001b[0m\n",
            "\u001b[?25hDownloading nvidia_cudnn_cu12-9.1.0.70-py3-none-manylinux2014_x86_64.whl (664.8 MB)\n",
            "\u001b[2K   \u001b[90m━━━━━━━━━━━━━━━━━━━━━━━━━━━━━━━━━━━━━━━━\u001b[0m \u001b[32m664.8/664.8 MB\u001b[0m \u001b[31m1.2 MB/s\u001b[0m eta \u001b[36m0:00:00\u001b[0m\n",
            "\u001b[?25hDownloading nvidia_cufft_cu12-11.2.1.3-py3-none-manylinux2014_x86_64.whl (211.5 MB)\n",
            "\u001b[2K   \u001b[90m━━━━━━━━━━━━━━━━━━━━━━━━━━━━━━━━━━━━━━━━\u001b[0m \u001b[32m211.5/211.5 MB\u001b[0m \u001b[31m5.2 MB/s\u001b[0m eta \u001b[36m0:00:00\u001b[0m\n",
            "\u001b[?25hDownloading nvidia_curand_cu12-10.3.5.147-py3-none-manylinux2014_x86_64.whl (56.3 MB)\n",
            "\u001b[2K   \u001b[90m━━━━━━━━━━━━━━━━━━━━━━━━━━━━━━━━━━━━━━━━\u001b[0m \u001b[32m56.3/56.3 MB\u001b[0m \u001b[31m11.3 MB/s\u001b[0m eta \u001b[36m0:00:00\u001b[0m\n",
            "\u001b[?25hDownloading nvidia_cusolver_cu12-11.6.1.9-py3-none-manylinux2014_x86_64.whl (127.9 MB)\n",
            "\u001b[2K   \u001b[90m━━━━━━━━━━━━━━━━━━━━━━━━━━━━━━━━━━━━━━━━\u001b[0m \u001b[32m127.9/127.9 MB\u001b[0m \u001b[31m7.2 MB/s\u001b[0m eta \u001b[36m0:00:00\u001b[0m\n",
            "\u001b[?25hDownloading nvidia_cusparse_cu12-12.3.1.170-py3-none-manylinux2014_x86_64.whl (207.5 MB)\n",
            "\u001b[2K   \u001b[90m━━━━━━━━━━━━━━━━━━━━━━━━━━━━━━━━━━━━━━━━\u001b[0m \u001b[32m207.5/207.5 MB\u001b[0m \u001b[31m6.4 MB/s\u001b[0m eta \u001b[36m0:00:00\u001b[0m\n",
            "\u001b[?25hDownloading nvidia_nvjitlink_cu12-12.4.127-py3-none-manylinux2014_x86_64.whl (21.1 MB)\n",
            "\u001b[2K   \u001b[90m━━━━━━━━━━━━━━━━━━━━━━━━━━━━━━━━━━━━━━━━\u001b[0m \u001b[32m21.1/21.1 MB\u001b[0m \u001b[31m72.1 MB/s\u001b[0m eta \u001b[36m0:00:00\u001b[0m\n",
            "\u001b[?25hInstalling collected packages: nvidia-nvjitlink-cu12, nvidia-curand-cu12, nvidia-cufft-cu12, nvidia-cuda-runtime-cu12, nvidia-cuda-nvrtc-cu12, nvidia-cuda-cupti-cu12, nvidia-cublas-cu12, nvidia-cusparse-cu12, nvidia-cudnn-cu12, nvidia-cusolver-cu12\n",
            "  Attempting uninstall: nvidia-nvjitlink-cu12\n",
            "    Found existing installation: nvidia-nvjitlink-cu12 12.5.82\n",
            "    Uninstalling nvidia-nvjitlink-cu12-12.5.82:\n",
            "      Successfully uninstalled nvidia-nvjitlink-cu12-12.5.82\n",
            "  Attempting uninstall: nvidia-curand-cu12\n",
            "    Found existing installation: nvidia-curand-cu12 10.3.6.82\n",
            "    Uninstalling nvidia-curand-cu12-10.3.6.82:\n",
            "      Successfully uninstalled nvidia-curand-cu12-10.3.6.82\n",
            "  Attempting uninstall: nvidia-cufft-cu12\n",
            "    Found existing installation: nvidia-cufft-cu12 11.2.3.61\n",
            "    Uninstalling nvidia-cufft-cu12-11.2.3.61:\n",
            "      Successfully uninstalled nvidia-cufft-cu12-11.2.3.61\n",
            "  Attempting uninstall: nvidia-cuda-runtime-cu12\n",
            "    Found existing installation: nvidia-cuda-runtime-cu12 12.5.82\n",
            "    Uninstalling nvidia-cuda-runtime-cu12-12.5.82:\n",
            "      Successfully uninstalled nvidia-cuda-runtime-cu12-12.5.82\n",
            "  Attempting uninstall: nvidia-cuda-nvrtc-cu12\n",
            "    Found existing installation: nvidia-cuda-nvrtc-cu12 12.5.82\n",
            "    Uninstalling nvidia-cuda-nvrtc-cu12-12.5.82:\n",
            "      Successfully uninstalled nvidia-cuda-nvrtc-cu12-12.5.82\n",
            "  Attempting uninstall: nvidia-cuda-cupti-cu12\n",
            "    Found existing installation: nvidia-cuda-cupti-cu12 12.5.82\n",
            "    Uninstalling nvidia-cuda-cupti-cu12-12.5.82:\n",
            "      Successfully uninstalled nvidia-cuda-cupti-cu12-12.5.82\n",
            "  Attempting uninstall: nvidia-cublas-cu12\n",
            "    Found existing installation: nvidia-cublas-cu12 12.5.3.2\n",
            "    Uninstalling nvidia-cublas-cu12-12.5.3.2:\n",
            "      Successfully uninstalled nvidia-cublas-cu12-12.5.3.2\n",
            "  Attempting uninstall: nvidia-cusparse-cu12\n",
            "    Found existing installation: nvidia-cusparse-cu12 12.5.1.3\n",
            "    Uninstalling nvidia-cusparse-cu12-12.5.1.3:\n",
            "      Successfully uninstalled nvidia-cusparse-cu12-12.5.1.3\n",
            "  Attempting uninstall: nvidia-cudnn-cu12\n",
            "    Found existing installation: nvidia-cudnn-cu12 9.3.0.75\n",
            "    Uninstalling nvidia-cudnn-cu12-9.3.0.75:\n",
            "      Successfully uninstalled nvidia-cudnn-cu12-9.3.0.75\n",
            "  Attempting uninstall: nvidia-cusolver-cu12\n",
            "    Found existing installation: nvidia-cusolver-cu12 11.6.3.83\n",
            "    Uninstalling nvidia-cusolver-cu12-11.6.3.83:\n",
            "      Successfully uninstalled nvidia-cusolver-cu12-11.6.3.83\n",
            "Successfully installed nvidia-cublas-cu12-12.4.5.8 nvidia-cuda-cupti-cu12-12.4.127 nvidia-cuda-nvrtc-cu12-12.4.127 nvidia-cuda-runtime-cu12-12.4.127 nvidia-cudnn-cu12-9.1.0.70 nvidia-cufft-cu12-11.2.1.3 nvidia-curand-cu12-10.3.5.147 nvidia-cusolver-cu12-11.6.1.9 nvidia-cusparse-cu12-12.3.1.170 nvidia-nvjitlink-cu12-12.4.127\n"
          ]
        }
      ],
      "source": [
        "!pip install torchvision"
      ],
      "metadata": {
        "ExecuteTime": {
          "end_time": "2025-01-30T07:44:17.896908Z",
          "start_time": "2025-01-30T07:44:15.099211Z"
        },
        "id": "a68657678237d3f5",
        "outputId": "fa7273c8-62e6-4043-e7f4-b15d21f687eb",
        "colab": {
          "base_uri": "https://localhost:8080/"
        }
      },
      "id": "a68657678237d3f5"
    },
    {
      "cell_type": "code",
      "execution_count": 3,
      "id": "initial_id",
      "metadata": {
        "collapsed": true,
        "ExecuteTime": {
          "end_time": "2025-01-30T14:57:50.209171Z",
          "start_time": "2025-01-30T14:57:50.124495Z"
        },
        "id": "initial_id"
      },
      "outputs": [],
      "source": [
        "import torch\n",
        "import torch.nn as nn\n",
        "import torch.optim as optim\n",
        "from torch.utils.data import DataLoader\n",
        "from sklearn.model_selection import ParameterGrid\n",
        "import torchvision\n",
        "from IPython.display import Audio\n",
        "from torchvision.models import ResNet18_Weights\n"
      ]
    },
    {
      "cell_type": "code",
      "execution_count": 5,
      "outputs": [
        {
          "output_type": "stream",
          "name": "stdout",
          "text": [
            "Downloading from https://www.kaggle.com/api/v1/datasets/download/awsaf49/asvpoof-2019-dataset?dataset_version_number=1...\n"
          ]
        },
        {
          "output_type": "stream",
          "name": "stderr",
          "text": [
            "100%|██████████| 23.6G/23.6G [02:16<00:00, 185MB/s]"
          ]
        },
        {
          "output_type": "stream",
          "name": "stdout",
          "text": [
            "Extracting files...\n"
          ]
        },
        {
          "output_type": "stream",
          "name": "stderr",
          "text": [
            "\n"
          ]
        }
      ],
      "source": [
        "from utils import download_asvspoof2019_data\n",
        "\n",
        "path = download_asvspoof2019_data()"
      ],
      "metadata": {
        "ExecuteTime": {
          "end_time": "2025-01-30T07:20:40.462706Z",
          "start_time": "2025-01-30T07:18:34.644878Z"
        },
        "id": "feba42ecd8660d5b",
        "outputId": "0a8cd65f-c68f-4d52-9298-c03a647f78fc",
        "colab": {
          "base_uri": "https://localhost:8080/"
        }
      },
      "id": "feba42ecd8660d5b"
    },
    {
      "cell_type": "code",
      "execution_count": 6,
      "outputs": [
        {
          "output_type": "execute_result",
          "data": {
            "text/plain": [
              "<pydub.audio_segment.AudioSegment at 0x786eeb188590>"
            ],
            "text/html": [
              "\n",
              "                    <audio controls>\n",
              "                        <source src=\"data:audio/mpeg;base64,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\" type=\"audio/mpeg\"/>\n",
              "                        Your browser does not support the audio element.\n",
              "                    </audio>\n",
              "                  "
            ]
          },
          "metadata": {},
          "execution_count": 6
        }
      ],
      "source": [
        "from pydub import AudioSegment\n",
        "from pydub.playback import play\n",
        "\n",
        "path = \"/root/.cache/kagglehub/datasets/awsaf49/asvpoof-2019-dataset/versions/1\"\n",
        "local_path = \"/Users/roeeseren/Documents/semester-seven/deep-learning/project/asvspoof\"\n",
        "\n",
        "remote_path = path\n",
        "# Load the .flac example file\n",
        "audio_file = f\"{remote_path}/LA/LA/ASVspoof2019_LA_train/flac/LA_T_1004407.flac\"\n",
        "audio = AudioSegment.from_file(audio_file, format=\"flac\")\n",
        "\n",
        "audio"
      ],
      "metadata": {
        "ExecuteTime": {
          "end_time": "2025-01-30T10:23:20.288311Z",
          "start_time": "2025-01-30T10:23:19.323640Z"
        },
        "id": "dfccc25c46335458",
        "outputId": "5ddf6582-7dba-4b3e-c82a-2418a931111d",
        "colab": {
          "base_uri": "https://localhost:8080/",
          "height": 75
        }
      },
      "id": "dfccc25c46335458"
    },
    {
      "cell_type": "code",
      "execution_count": 7,
      "outputs": [],
      "source": [
        "import librosa\n",
        "import librosa.display\n",
        "import numpy as np\n",
        "import matplotlib.pyplot as plt\n",
        "\n",
        "def audio_to_mel_spectrogram(audio_path, n_fft=400, hop_length=160, n_mels=64):\n",
        "    \"\"\"\n",
        "    Convert an audio file to a mel-spectrogram using librosa.\n",
        "    Args:\n",
        "        audio_path (str): Path to the audio file.\n",
        "        n_fft (int): FFT window size.\n",
        "        hop_length (int): Number of samples between successive frames.\n",
        "        n_mels (int): Number of mel filterbanks.\n",
        "    Returns:\n",
        "        np.ndarray: Mel-spectrogram as a numpy array.\n",
        "    \"\"\"\n",
        "    # Load audio file\n",
        "    waveform, sample_rate = librosa.load(audio_path, sr=None)\n",
        "\n",
        "    # Generate mel-spectrogram\n",
        "    mel_spectrogram = librosa.feature.melspectrogram(\n",
        "        y=waveform,\n",
        "        sr=sample_rate,\n",
        "        n_fft=n_fft,\n",
        "        hop_length=hop_length,\n",
        "        n_mels=n_mels\n",
        "    )\n",
        "\n",
        "    # Convert to log scale (dB)\n",
        "    log_mel_spectrogram = librosa.power_to_db(mel_spectrogram, ref=np.max)\n",
        "\n",
        "    # Normalize to [0, 1]\n",
        "    log_mel_spectrogram = (log_mel_spectrogram - log_mel_spectrogram.min()) / (log_mel_spectrogram.max() - log_mel_spectrogram.min())\n",
        "\n",
        "    return log_mel_spectrogram"
      ],
      "metadata": {
        "id": "d096e6bc722a1fab"
      },
      "id": "d096e6bc722a1fab"
    },
    {
      "cell_type": "code",
      "source": [
        "# Example usage\n",
        "audio_path = audio_file\n",
        "mel_spectrogram = audio_to_mel_spectrogram(audio_path)\n",
        "\n",
        "# Visualize the mel-spectrogram\n",
        "plt.figure(figsize=(10, 4))\n",
        "librosa.display.specshow(mel_spectrogram, x_axis='time', y_axis='mel', sr=16000, hop_length=160, cmap='viridis')\n",
        "plt.colorbar(format='%+2.0f dB')\n",
        "plt.title('Mel-Spectrogram')\n",
        "plt.show()"
      ],
      "metadata": {
        "id": "ehxWD8DldiKy",
        "outputId": "948e93f0-9644-4ccd-be7c-cae4ca5fdcb9",
        "colab": {
          "base_uri": "https://localhost:8080/",
          "height": 386
        }
      },
      "id": "ehxWD8DldiKy",
      "execution_count": 8,
      "outputs": [
        {
          "output_type": "display_data",
          "data": {
            "text/plain": [
              "<Figure size 1000x400 with 2 Axes>"
            ],
            "image/png": "[encoded data removed]"
          },
          "metadata": {}
        }
      ]
    },
    {
      "cell_type": "code",
      "execution_count": 54,
      "outputs": [
        {
          "output_type": "execute_result",
          "data": {
            "text/plain": [
              "   speaker     file_name attack     label\n",
              "0  LA_0079  LA_T_1138215      -  bonafide\n",
              "1  LA_0079  LA_T_1271820      -  bonafide\n",
              "2  LA_0079  LA_T_1272637      -  bonafide\n",
              "3  LA_0079  LA_T_1276960      -  bonafide\n",
              "4  LA_0079  LA_T_1341447      -  bonafide"
            ],
            "text/html": [
              "\n",
              "  <div id=\"df-d11b3e1b-bee1-4118-ab21-8a5830023fc7\" class=\"colab-df-container\">\n",
              "    <div>\n",
              "<style scoped>\n",
              "    .dataframe tbody tr th:only-of-type {\n",
              "        vertical-align: middle;\n",
              "    }\n",
              "\n",
              "    .dataframe tbody tr th {\n",
              "        vertical-align: top;\n",
              "    }\n",
              "\n",
              "    .dataframe thead th {\n",
              "        text-align: right;\n",
              "    }\n",
              "</style>\n",
              "<table border=\"1\" class=\"dataframe\">\n",
              "  <thead>\n",
              "    <tr style=\"text-align: right;\">\n",
              "      <th></th>\n",
              "      <th>speaker</th>\n",
              "      <th>file_name</th>\n",
              "      <th>attack</th>\n",
              "      <th>label</th>\n",
              "    </tr>\n",
              "  </thead>\n",
              "  <tbody>\n",
              "    <tr>\n",
              "      <th>0</th>\n",
              "      <td>LA_0079</td>\n",
              "      <td>LA_T_1138215</td>\n",
              "      <td>-</td>\n",
              "      <td>bonafide</td>\n",
              "    </tr>\n",
              "    <tr>\n",
              "      <th>1</th>\n",
              "      <td>LA_0079</td>\n",
              "      <td>LA_T_1271820</td>\n",
              "      <td>-</td>\n",
              "      <td>bonafide</td>\n",
              "    </tr>\n",
              "    <tr>\n",
              "      <th>2</th>\n",
              "      <td>LA_0079</td>\n",
              "      <td>LA_T_1272637</td>\n",
              "      <td>-</td>\n",
              "      <td>bonafide</td>\n",
              "    </tr>\n",
              "    <tr>\n",
              "      <th>3</th>\n",
              "      <td>LA_0079</td>\n",
              "      <td>LA_T_1276960</td>\n",
              "      <td>-</td>\n",
              "      <td>bonafide</td>\n",
              "    </tr>\n",
              "    <tr>\n",
              "      <th>4</th>\n",
              "      <td>LA_0079</td>\n",
              "      <td>LA_T_1341447</td>\n",
              "      <td>-</td>\n",
              "      <td>bonafide</td>\n",
              "    </tr>\n",
              "  </tbody>\n",
              "</table>\n",
              "</div>\n",
              "    <div class=\"colab-df-buttons\">\n",
              "\n",
              "  <div class=\"colab-df-container\">\n",
              "    <button class=\"colab-df-convert\" onclick=\"convertToInteractive('df-d11b3e1b-bee1-4118-ab21-8a5830023fc7')\"\n",
              "            title=\"Convert this dataframe to an interactive table.\"\n",
              "            style=\"display:none;\">\n",
              "\n",
              "  <svg xmlns=\"http://www.w3.org/2000/svg\" height=\"24px\" viewBox=\"0 -960 960 960\">\n",
              "    <path d=\"M120-120v-720h720v720H120Zm60-500h600v-160H180v160Zm220 220h160v-160H400v160Zm0 220h160v-160H400v160ZM180-400h160v-160H180v160Zm440 0h160v-160H620v160ZM180-180h160v-160H180v160Zm440 0h160v-160H620v160Z\"/>\n",
              "  </svg>\n",
              "    </button>\n",
              "\n",
              "  <style>\n",
              "    .colab-df-container {\n",
              "      display:flex;\n",
              "      gap: 12px;\n",
              "    }\n",
              "\n",
              "    .colab-df-convert {\n",
              "      background-color: #E8F0FE;\n",
              "      border: none;\n",
              "      border-radius: 50%;\n",
              "      cursor: pointer;\n",
              "      display: none;\n",
              "      fill: #1967D2;\n",
              "      height: 32px;\n",
              "      padding: 0 0 0 0;\n",
              "      width: 32px;\n",
              "    }\n",
              "\n",
              "    .colab-df-convert:hover {\n",
              "      background-color: #E2EBFA;\n",
              "      box-shadow: 0px 1px 2px rgba(60, 64, 67, 0.3), 0px 1px 3px 1px rgba(60, 64, 67, 0.15);\n",
              "      fill: #174EA6;\n",
              "    }\n",
              "\n",
              "    .colab-df-buttons div {\n",
              "      margin-bottom: 4px;\n",
              "    }\n",
              "\n",
              "    [theme=dark] .colab-df-convert {\n",
              "      background-color: #3B4455;\n",
              "      fill: #D2E3FC;\n",
              "    }\n",
              "\n",
              "    [theme=dark] .colab-df-convert:hover {\n",
              "      background-color: #434B5C;\n",
              "      box-shadow: 0px 1px 3px 1px rgba(0, 0, 0, 0.15);\n",
              "      filter: drop-shadow(0px 1px 2px rgba(0, 0, 0, 0.3));\n",
              "      fill: #FFFFFF;\n",
              "    }\n",
              "  </style>\n",
              "\n",
              "    <script>\n",
              "      const buttonEl =\n",
              "        document.querySelector('#df-d11b3e1b-bee1-4118-ab21-8a5830023fc7 button.colab-df-convert');\n",
              "      buttonEl.style.display =\n",
              "        google.colab.kernel.accessAllowed ? 'block' : 'none';\n",
              "\n",
              "      async function convertToInteractive(key) {\n",
              "        const element = document.querySelector('#df-d11b3e1b-bee1-4118-ab21-8a5830023fc7');\n",
              "        const dataTable =\n",
              "          await google.colab.kernel.invokeFunction('convertToInteractive',\n",
              "                                                    [key], {});\n",
              "        if (!dataTable) return;\n",
              "\n",
              "        const docLinkHtml = 'Like what you see? Visit the ' +\n",
              "          '<a target=\"_blank\" href=https://colab.research.google.com/notebooks/data_table.ipynb>data table notebook</a>'\n",
              "          + ' to learn more about interactive tables.';\n",
              "        element.innerHTML = '';\n",
              "        dataTable['output_type'] = 'display_data';\n",
              "        await google.colab.output.renderOutput(dataTable, element);\n",
              "        const docLink = document.createElement('div');\n",
              "        docLink.innerHTML = docLinkHtml;\n",
              "        element.appendChild(docLink);\n",
              "      }\n",
              "    </script>\n",
              "  </div>\n",
              "\n",
              "\n",
              "<div id=\"df-263bd27f-07b3-451b-b4b4-8af430511e10\">\n",
              "  <button class=\"colab-df-quickchart\" onclick=\"quickchart('df-263bd27f-07b3-451b-b4b4-8af430511e10')\"\n",
              "            title=\"Suggest charts\"\n",
              "            style=\"display:none;\">\n",
              "\n",
              "<svg xmlns=\"http://www.w3.org/2000/svg\" height=\"24px\"viewBox=\"0 0 24 24\"\n",
              "     width=\"24px\">\n",
              "    <g>\n",
              "        <path d=\"M19 3H5c-1.1 0-2 .9-2 2v14c0 1.1.9 2 2 2h14c1.1 0 2-.9 2-2V5c0-1.1-.9-2-2-2zM9 17H7v-7h2v7zm4 0h-2V7h2v10zm4 0h-2v-4h2v4z\"/>\n",
              "    </g>\n",
              "</svg>\n",
              "  </button>\n",
              "\n",
              "<style>\n",
              "  .colab-df-quickchart {\n",
              "      --bg-color: #E8F0FE;\n",
              "      --fill-color: #1967D2;\n",
              "      --hover-bg-color: #E2EBFA;\n",
              "      --hover-fill-color: #174EA6;\n",
              "      --disabled-fill-color: #AAA;\n",
              "      --disabled-bg-color: #DDD;\n",
              "  }\n",
              "\n",
              "  [theme=dark] .colab-df-quickchart {\n",
              "      --bg-color: #3B4455;\n",
              "      --fill-color: #D2E3FC;\n",
              "      --hover-bg-color: #434B5C;\n",
              "      --hover-fill-color: #FFFFFF;\n",
              "      --disabled-bg-color: #3B4455;\n",
              "      --disabled-fill-color: #666;\n",
              "  }\n",
              "\n",
              "  .colab-df-quickchart {\n",
              "    background-color: var(--bg-color);\n",
              "    border: none;\n",
              "    border-radius: 50%;\n",
              "    cursor: pointer;\n",
              "    display: none;\n",
              "    fill: var(--fill-color);\n",
              "    height: 32px;\n",
              "    padding: 0;\n",
              "    width: 32px;\n",
              "  }\n",
              "\n",
              "  .colab-df-quickchart:hover {\n",
              "    background-color: var(--hover-bg-color);\n",
              "    box-shadow: 0 1px 2px rgba(60, 64, 67, 0.3), 0 1px 3px 1px rgba(60, 64, 67, 0.15);\n",
              "    fill: var(--button-hover-fill-color);\n",
              "  }\n",
              "\n",
              "  .colab-df-quickchart-complete:disabled,\n",
              "  .colab-df-quickchart-complete:disabled:hover {\n",
              "    background-color: var(--disabled-bg-color);\n",
              "    fill: var(--disabled-fill-color);\n",
              "    box-shadow: none;\n",
              "  }\n",
              "\n",
              "  .colab-df-spinner {\n",
              "    border: 2px solid var(--fill-color);\n",
              "    border-color: transparent;\n",
              "    border-bottom-color: var(--fill-color);\n",
              "    animation:\n",
              "      spin 1s steps(1) infinite;\n",
              "  }\n",
              "\n",
              "  @keyframes spin {\n",
              "    0% {\n",
              "      border-color: transparent;\n",
              "      border-bottom-color: var(--fill-color);\n",
              "      border-left-color: var(--fill-color);\n",
              "    }\n",
              "    20% {\n",
              "      border-color: transparent;\n",
              "      border-left-color: var(--fill-color);\n",
              "      border-top-color: var(--fill-color);\n",
              "    }\n",
              "    30% {\n",
              "      border-color: transparent;\n",
              "      border-left-color: var(--fill-color);\n",
              "      border-top-color: var(--fill-color);\n",
              "      border-right-color: var(--fill-color);\n",
              "    }\n",
              "    40% {\n",
              "      border-color: transparent;\n",
              "      border-right-color: var(--fill-color);\n",
              "      border-top-color: var(--fill-color);\n",
              "    }\n",
              "    60% {\n",
              "      border-color: transparent;\n",
              "      border-right-color: var(--fill-color);\n",
              "    }\n",
              "    80% {\n",
              "      border-color: transparent;\n",
              "      border-right-color: var(--fill-color);\n",
              "      border-bottom-color: var(--fill-color);\n",
              "    }\n",
              "    90% {\n",
              "      border-color: transparent;\n",
              "      border-bottom-color: var(--fill-color);\n",
              "    }\n",
              "  }\n",
              "</style>\n",
              "\n",
              "  <script>\n",
              "    async function quickchart(key) {\n",
              "      const quickchartButtonEl =\n",
              "        document.querySelector('#' + key + ' button');\n",
              "      quickchartButtonEl.disabled = true;  // To prevent multiple clicks.\n",
              "      quickchartButtonEl.classList.add('colab-df-spinner');\n",
              "      try {\n",
              "        const charts = await google.colab.kernel.invokeFunction(\n",
              "            'suggestCharts', [key], {});\n",
              "      } catch (error) {\n",
              "        console.error('Error during call to suggestCharts:', error);\n",
              "      }\n",
              "      quickchartButtonEl.classList.remove('colab-df-spinner');\n",
              "      quickchartButtonEl.classList.add('colab-df-quickchart-complete');\n",
              "    }\n",
              "    (() => {\n",
              "      let quickchartButtonEl =\n",
              "        document.querySelector('#df-263bd27f-07b3-451b-b4b4-8af430511e10 button');\n",
              "      quickchartButtonEl.style.display =\n",
              "        google.colab.kernel.accessAllowed ? 'block' : 'none';\n",
              "    })();\n",
              "  </script>\n",
              "</div>\n",
              "\n",
              "    </div>\n",
              "  </div>\n"
            ],
            "application/vnd.google.colaboratory.intrinsic+json": {
              "type": "dataframe",
              "variable_name": "train_df_info",
              "summary": "{\n  \"name\": \"train_df_info\",\n  \"rows\": 25380,\n  \"fields\": [\n    {\n      \"column\": \"speaker\",\n      \"properties\": {\n        \"dtype\": \"category\",\n        \"num_unique_values\": 20,\n        \"samples\": [\n          \"LA_0079\",\n          \"LA_0096\",\n          \"LA_0094\"\n        ],\n        \"semantic_type\": \"\",\n        \"description\": \"\"\n      }\n    },\n    {\n      \"column\": \"file_name\",\n      \"properties\": {\n        \"dtype\": \"string\",\n        \"num_unique_values\": 25380,\n        \"samples\": [\n          \"LA_T_1136756\",\n          \"LA_T_9760660\",\n          \"LA_T_6436847\"\n        ],\n        \"semantic_type\": \"\",\n        \"description\": \"\"\n      }\n    },\n    {\n      \"column\": \"attack\",\n      \"properties\": {\n        \"dtype\": \"category\",\n        \"num_unique_values\": 7,\n        \"samples\": [\n          \"-\",\n          \"A01\",\n          \"A05\"\n        ],\n        \"semantic_type\": \"\",\n        \"description\": \"\"\n      }\n    },\n    {\n      \"column\": \"label\",\n      \"properties\": {\n        \"dtype\": \"category\",\n        \"num_unique_values\": 2,\n        \"samples\": [\n          \"spoof\",\n          \"bonafide\"\n        ],\n        \"semantic_type\": \"\",\n        \"description\": \"\"\n      }\n    }\n  ]\n}"
            }
          },
          "metadata": {},
          "execution_count": 54
        }
      ],
      "source": [
        "# Load train data\n",
        "from utils import load_protocol\n",
        "data_path = \"/Users/roeeseren/Documents/semester-seven/deep-learning/project/asvspoof\"\n",
        "data_info_file_path = f\"{remote_path}/LA/LA/ASVspoof2019_LA_cm_protocols/ASVspoof2019.LA.cm.train.trn.txt\"\n",
        "\n",
        "train_df_info = load_protocol(data_info_file_path, names=['speaker', 'file_name', 'attack', 'label'])\n",
        "\n",
        "train_df_info.head()"
      ],
      "metadata": {
        "ExecuteTime": {
          "end_time": "2025-01-31T15:24:33.412849Z",
          "start_time": "2025-01-31T15:24:33.306687Z"
        },
        "id": "d5eb7848e2c9c361",
        "outputId": "fbae1d6d-035e-4454-a6a7-bef428e3bcc7",
        "colab": {
          "base_uri": "https://localhost:8080/",
          "height": 206
        }
      },
      "id": "d5eb7848e2c9c361"
    },
    {
      "cell_type": "code",
      "source": [
        "eval_info_file_path = f\"{path}/LA/LA/ASVspoof2019_LA_cm_protocols/ASVspoof2019.LA.cm.eval.trl.txt\"\n",
        "eval_df_info = load_protocol(eval_info_file_path, names=['speaker', 'file_name', 'attack', 'label'])\n",
        "\n",
        "eval_df_info.head()"
      ],
      "metadata": {
        "id": "9Jr2rzqacA2J",
        "outputId": "d02d4704-622e-48c2-d547-d552372604aa",
        "colab": {
          "base_uri": "https://localhost:8080/",
          "height": 206
        }
      },
      "id": "9Jr2rzqacA2J",
      "execution_count": 56,
      "outputs": [
        {
          "output_type": "execute_result",
          "data": {
            "text/plain": [
              "   speaker     file_name attack  label\n",
              "0  LA_0039  LA_E_2834763    A11  spoof\n",
              "1  LA_0014  LA_E_8877452    A14  spoof\n",
              "2  LA_0040  LA_E_6828287    A16  spoof\n",
              "3  LA_0022  LA_E_6977360    A09  spoof\n",
              "4  LA_0031  LA_E_5932896    A13  spoof"
            ],
            "text/html": [
              "\n",
              "  <div id=\"df-c665eb71-636f-4e17-bb1a-f9d3b185004b\" class=\"colab-df-container\">\n",
              "    <div>\n",
              "<style scoped>\n",
              "    .dataframe tbody tr th:only-of-type {\n",
              "        vertical-align: middle;\n",
              "    }\n",
              "\n",
              "    .dataframe tbody tr th {\n",
              "        vertical-align: top;\n",
              "    }\n",
              "\n",
              "    .dataframe thead th {\n",
              "        text-align: right;\n",
              "    }\n",
              "</style>\n",
              "<table border=\"1\" class=\"dataframe\">\n",
              "  <thead>\n",
              "    <tr style=\"text-align: right;\">\n",
              "      <th></th>\n",
              "      <th>speaker</th>\n",
              "      <th>file_name</th>\n",
              "      <th>attack</th>\n",
              "      <th>label</th>\n",
              "    </tr>\n",
              "  </thead>\n",
              "  <tbody>\n",
              "    <tr>\n",
              "      <th>0</th>\n",
              "      <td>LA_0039</td>\n",
              "      <td>LA_E_2834763</td>\n",
              "      <td>A11</td>\n",
              "      <td>spoof</td>\n",
              "    </tr>\n",
              "    <tr>\n",
              "      <th>1</th>\n",
              "      <td>LA_0014</td>\n",
              "      <td>LA_E_8877452</td>\n",
              "      <td>A14</td>\n",
              "      <td>spoof</td>\n",
              "    </tr>\n",
              "    <tr>\n",
              "      <th>2</th>\n",
              "      <td>LA_0040</td>\n",
              "      <td>LA_E_6828287</td>\n",
              "      <td>A16</td>\n",
              "      <td>spoof</td>\n",
              "    </tr>\n",
              "    <tr>\n",
              "      <th>3</th>\n",
              "      <td>LA_0022</td>\n",
              "      <td>LA_E_6977360</td>\n",
              "      <td>A09</td>\n",
              "      <td>spoof</td>\n",
              "    </tr>\n",
              "    <tr>\n",
              "      <th>4</th>\n",
              "      <td>LA_0031</td>\n",
              "      <td>LA_E_5932896</td>\n",
              "      <td>A13</td>\n",
              "      <td>spoof</td>\n",
              "    </tr>\n",
              "  </tbody>\n",
              "</table>\n",
              "</div>\n",
              "    <div class=\"colab-df-buttons\">\n",
              "\n",
              "  <div class=\"colab-df-container\">\n",
              "    <button class=\"colab-df-convert\" onclick=\"convertToInteractive('df-c665eb71-636f-4e17-bb1a-f9d3b185004b')\"\n",
              "            title=\"Convert this dataframe to an interactive table.\"\n",
              "            style=\"display:none;\">\n",
              "\n",
              "  <svg xmlns=\"http://www.w3.org/2000/svg\" height=\"24px\" viewBox=\"0 -960 960 960\">\n",
              "    <path d=\"M120-120v-720h720v720H120Zm60-500h600v-160H180v160Zm220 220h160v-160H400v160Zm0 220h160v-160H400v160ZM180-400h160v-160H180v160Zm440 0h160v-160H620v160ZM180-180h160v-160H180v160Zm440 0h160v-160H620v160Z\"/>\n",
              "  </svg>\n",
              "    </button>\n",
              "\n",
              "  <style>\n",
              "    .colab-df-container {\n",
              "      display:flex;\n",
              "      gap: 12px;\n",
              "    }\n",
              "\n",
              "    .colab-df-convert {\n",
              "      background-color: #E8F0FE;\n",
              "      border: none;\n",
              "      border-radius: 50%;\n",
              "      cursor: pointer;\n",
              "      display: none;\n",
              "      fill: #1967D2;\n",
              "      height: 32px;\n",
              "      padding: 0 0 0 0;\n",
              "      width: 32px;\n",
              "    }\n",
              "\n",
              "    .colab-df-convert:hover {\n",
              "      background-color: #E2EBFA;\n",
              "      box-shadow: 0px 1px 2px rgba(60, 64, 67, 0.3), 0px 1px 3px 1px rgba(60, 64, 67, 0.15);\n",
              "      fill: #174EA6;\n",
              "    }\n",
              "\n",
              "    .colab-df-buttons div {\n",
              "      margin-bottom: 4px;\n",
              "    }\n",
              "\n",
              "    [theme=dark] .colab-df-convert {\n",
              "      background-color: #3B4455;\n",
              "      fill: #D2E3FC;\n",
              "    }\n",
              "\n",
              "    [theme=dark] .colab-df-convert:hover {\n",
              "      background-color: #434B5C;\n",
              "      box-shadow: 0px 1px 3px 1px rgba(0, 0, 0, 0.15);\n",
              "      filter: drop-shadow(0px 1px 2px rgba(0, 0, 0, 0.3));\n",
              "      fill: #FFFFFF;\n",
              "    }\n",
              "  </style>\n",
              "\n",
              "    <script>\n",
              "      const buttonEl =\n",
              "        document.querySelector('#df-c665eb71-636f-4e17-bb1a-f9d3b185004b button.colab-df-convert');\n",
              "      buttonEl.style.display =\n",
              "        google.colab.kernel.accessAllowed ? 'block' : 'none';\n",
              "\n",
              "      async function convertToInteractive(key) {\n",
              "        const element = document.querySelector('#df-c665eb71-636f-4e17-bb1a-f9d3b185004b');\n",
              "        const dataTable =\n",
              "          await google.colab.kernel.invokeFunction('convertToInteractive',\n",
              "                                                    [key], {});\n",
              "        if (!dataTable) return;\n",
              "\n",
              "        const docLinkHtml = 'Like what you see? Visit the ' +\n",
              "          '<a target=\"_blank\" href=https://colab.research.google.com/notebooks/data_table.ipynb>data table notebook</a>'\n",
              "          + ' to learn more about interactive tables.';\n",
              "        element.innerHTML = '';\n",
              "        dataTable['output_type'] = 'display_data';\n",
              "        await google.colab.output.renderOutput(dataTable, element);\n",
              "        const docLink = document.createElement('div');\n",
              "        docLink.innerHTML = docLinkHtml;\n",
              "        element.appendChild(docLink);\n",
              "      }\n",
              "    </script>\n",
              "  </div>\n",
              "\n",
              "\n",
              "<div id=\"df-48a4cf76-f530-435b-bf83-0f1348d65e60\">\n",
              "  <button class=\"colab-df-quickchart\" onclick=\"quickchart('df-48a4cf76-f530-435b-bf83-0f1348d65e60')\"\n",
              "            title=\"Suggest charts\"\n",
              "            style=\"display:none;\">\n",
              "\n",
              "<svg xmlns=\"http://www.w3.org/2000/svg\" height=\"24px\"viewBox=\"0 0 24 24\"\n",
              "     width=\"24px\">\n",
              "    <g>\n",
              "        <path d=\"M19 3H5c-1.1 0-2 .9-2 2v14c0 1.1.9 2 2 2h14c1.1 0 2-.9 2-2V5c0-1.1-.9-2-2-2zM9 17H7v-7h2v7zm4 0h-2V7h2v10zm4 0h-2v-4h2v4z\"/>\n",
              "    </g>\n",
              "</svg>\n",
              "  </button>\n",
              "\n",
              "<style>\n",
              "  .colab-df-quickchart {\n",
              "      --bg-color: #E8F0FE;\n",
              "      --fill-color: #1967D2;\n",
              "      --hover-bg-color: #E2EBFA;\n",
              "      --hover-fill-color: #174EA6;\n",
              "      --disabled-fill-color: #AAA;\n",
              "      --disabled-bg-color: #DDD;\n",
              "  }\n",
              "\n",
              "  [theme=dark] .colab-df-quickchart {\n",
              "      --bg-color: #3B4455;\n",
              "      --fill-color: #D2E3FC;\n",
              "      --hover-bg-color: #434B5C;\n",
              "      --hover-fill-color: #FFFFFF;\n",
              "      --disabled-bg-color: #3B4455;\n",
              "      --disabled-fill-color: #666;\n",
              "  }\n",
              "\n",
              "  .colab-df-quickchart {\n",
              "    background-color: var(--bg-color);\n",
              "    border: none;\n",
              "    border-radius: 50%;\n",
              "    cursor: pointer;\n",
              "    display: none;\n",
              "    fill: var(--fill-color);\n",
              "    height: 32px;\n",
              "    padding: 0;\n",
              "    width: 32px;\n",
              "  }\n",
              "\n",
              "  .colab-df-quickchart:hover {\n",
              "    background-color: var(--hover-bg-color);\n",
              "    box-shadow: 0 1px 2px rgba(60, 64, 67, 0.3), 0 1px 3px 1px rgba(60, 64, 67, 0.15);\n",
              "    fill: var(--button-hover-fill-color);\n",
              "  }\n",
              "\n",
              "  .colab-df-quickchart-complete:disabled,\n",
              "  .colab-df-quickchart-complete:disabled:hover {\n",
              "    background-color: var(--disabled-bg-color);\n",
              "    fill: var(--disabled-fill-color);\n",
              "    box-shadow: none;\n",
              "  }\n",
              "\n",
              "  .colab-df-spinner {\n",
              "    border: 2px solid var(--fill-color);\n",
              "    border-color: transparent;\n",
              "    border-bottom-color: var(--fill-color);\n",
              "    animation:\n",
              "      spin 1s steps(1) infinite;\n",
              "  }\n",
              "\n",
              "  @keyframes spin {\n",
              "    0% {\n",
              "      border-color: transparent;\n",
              "      border-bottom-color: var(--fill-color);\n",
              "      border-left-color: var(--fill-color);\n",
              "    }\n",
              "    20% {\n",
              "      border-color: transparent;\n",
              "      border-left-color: var(--fill-color);\n",
              "      border-top-color: var(--fill-color);\n",
              "    }\n",
              "    30% {\n",
              "      border-color: transparent;\n",
              "      border-left-color: var(--fill-color);\n",
              "      border-top-color: var(--fill-color);\n",
              "      border-right-color: var(--fill-color);\n",
              "    }\n",
              "    40% {\n",
              "      border-color: transparent;\n",
              "      border-right-color: var(--fill-color);\n",
              "      border-top-color: var(--fill-color);\n",
              "    }\n",
              "    60% {\n",
              "      border-color: transparent;\n",
              "      border-right-color: var(--fill-color);\n",
              "    }\n",
              "    80% {\n",
              "      border-color: transparent;\n",
              "      border-right-color: var(--fill-color);\n",
              "      border-bottom-color: var(--fill-color);\n",
              "    }\n",
              "    90% {\n",
              "      border-color: transparent;\n",
              "      border-bottom-color: var(--fill-color);\n",
              "    }\n",
              "  }\n",
              "</style>\n",
              "\n",
              "  <script>\n",
              "    async function quickchart(key) {\n",
              "      const quickchartButtonEl =\n",
              "        document.querySelector('#' + key + ' button');\n",
              "      quickchartButtonEl.disabled = true;  // To prevent multiple clicks.\n",
              "      quickchartButtonEl.classList.add('colab-df-spinner');\n",
              "      try {\n",
              "        const charts = await google.colab.kernel.invokeFunction(\n",
              "            'suggestCharts', [key], {});\n",
              "      } catch (error) {\n",
              "        console.error('Error during call to suggestCharts:', error);\n",
              "      }\n",
              "      quickchartButtonEl.classList.remove('colab-df-spinner');\n",
              "      quickchartButtonEl.classList.add('colab-df-quickchart-complete');\n",
              "    }\n",
              "    (() => {\n",
              "      let quickchartButtonEl =\n",
              "        document.querySelector('#df-48a4cf76-f530-435b-bf83-0f1348d65e60 button');\n",
              "      quickchartButtonEl.style.display =\n",
              "        google.colab.kernel.accessAllowed ? 'block' : 'none';\n",
              "    })();\n",
              "  </script>\n",
              "</div>\n",
              "\n",
              "    </div>\n",
              "  </div>\n"
            ],
            "application/vnd.google.colaboratory.intrinsic+json": {
              "type": "dataframe",
              "variable_name": "eval_df_info",
              "summary": "{\n  \"name\": \"eval_df_info\",\n  \"rows\": 71237,\n  \"fields\": [\n    {\n      \"column\": \"speaker\",\n      \"properties\": {\n        \"dtype\": \"category\",\n        \"num_unique_values\": 67,\n        \"samples\": [\n          \"LA_0007\",\n          \"LA_0043\",\n          \"LA_0031\"\n        ],\n        \"semantic_type\": \"\",\n        \"description\": \"\"\n      }\n    },\n    {\n      \"column\": \"file_name\",\n      \"properties\": {\n        \"dtype\": \"string\",\n        \"num_unique_values\": 71237,\n        \"samples\": [\n          \"LA_E_9509114\",\n          \"LA_E_8920066\",\n          \"LA_E_6470107\"\n        ],\n        \"semantic_type\": \"\",\n        \"description\": \"\"\n      }\n    },\n    {\n      \"column\": \"attack\",\n      \"properties\": {\n        \"dtype\": \"category\",\n        \"num_unique_values\": 14,\n        \"samples\": [\n          \"A08\",\n          \"A10\",\n          \"A11\"\n        ],\n        \"semantic_type\": \"\",\n        \"description\": \"\"\n      }\n    },\n    {\n      \"column\": \"label\",\n      \"properties\": {\n        \"dtype\": \"category\",\n        \"num_unique_values\": 2,\n        \"samples\": [\n          \"bonafide\",\n          \"spoof\"\n        ],\n        \"semantic_type\": \"\",\n        \"description\": \"\"\n      }\n    }\n  ]\n}"
            }
          },
          "metadata": {},
          "execution_count": 56
        }
      ]
    },
    {
      "cell_type": "code",
      "execution_count": 57,
      "outputs": [
        {
          "output_type": "stream",
          "name": "stdout",
          "text": [
            "      file_name  label\n",
            "0  LA_T_1138215    0.0\n",
            "1  LA_T_1271820    0.0\n",
            "2  LA_T_1272637    0.0\n",
            "3  LA_T_1276960    0.0\n",
            "4  LA_T_1341447    0.0\n",
            "      file_name  label\n",
            "0  LA_E_2834763    1.0\n",
            "1  LA_E_8877452    1.0\n",
            "2  LA_E_6828287    1.0\n",
            "3  LA_E_6977360    1.0\n",
            "4  LA_E_5932896    1.0\n"
          ]
        },
        {
          "output_type": "stream",
          "name": "stderr",
          "text": [
            "<ipython-input-57-2242d0d1e397>:8: SettingWithCopyWarning: \n",
            "A value is trying to be set on a copy of a slice from a DataFrame.\n",
            "Try using .loc[row_indexer,col_indexer] = value instead\n",
            "\n",
            "See the caveats in the documentation: https://pandas.pydata.org/pandas-docs/stable/user_guide/indexing.html#returning-a-view-versus-a-copy\n",
            "  df_processed['label'] = df_processed['label'].map(mapping)\n",
            "<ipython-input-57-2242d0d1e397>:8: SettingWithCopyWarning: \n",
            "A value is trying to be set on a copy of a slice from a DataFrame.\n",
            "Try using .loc[row_indexer,col_indexer] = value instead\n",
            "\n",
            "See the caveats in the documentation: https://pandas.pydata.org/pandas-docs/stable/user_guide/indexing.html#returning-a-view-versus-a-copy\n",
            "  df_processed['label'] = df_processed['label'].map(mapping)\n"
          ]
        }
      ],
      "source": [
        "def process_data_frame(unprocessed_df):\n",
        "    mapping = {\n",
        "      'bonafide': float(0),\n",
        "      'spoof': float(1)\n",
        "\n",
        "    }\n",
        "    df_processed = unprocessed_df[['file_name', 'label']]\n",
        "    df_processed['label'] = df_processed['label'].map(mapping)\n",
        "\n",
        "    print(df_processed.head())\n",
        "    return df_processed\n",
        "\n",
        "train_df_info = process_data_frame(train_df_info)\n",
        "eval_df_info = process_data_frame(eval_df_info)"
      ],
      "metadata": {
        "ExecuteTime": {
          "end_time": "2025-01-31T15:24:37.354765Z",
          "start_time": "2025-01-31T15:24:36.046976Z"
        },
        "id": "fca2cc4571a6bfd2",
        "outputId": "4a9ac1ff-25f8-49af-b657-70b1c2d0d7a8",
        "colab": {
          "base_uri": "https://localhost:8080/"
        }
      },
      "id": "fca2cc4571a6bfd2"
    },
    {
      "cell_type": "code",
      "execution_count": 11,
      "outputs": [],
      "source": [
        "from scipy.ndimage import zoom\n",
        "\n",
        "def resize_spectrogram(spectrogram, fixed_time_steps=192):\n",
        "    \"\"\"\n",
        "    Resize the spectrogram to a fixed time dimension using interpolation.\n",
        "    Args:\n",
        "        spectrogram (np.ndarray): Input spectrogram of shape (n_mels, time_steps).\n",
        "        fixed_time_steps (int): Desired time dimension.\n",
        "    Returns:\n",
        "        np.ndarray: Resized spectrogram with shape (n_mels, fixed_time_steps).\n",
        "    \"\"\"\n",
        "    n_mels, time_steps = spectrogram.shape\n",
        "\n",
        "    # Calculate the zoom factor for the time dimension\n",
        "    zoom_factor = (1, fixed_time_steps / time_steps)\n",
        "\n",
        "    # Resize the spectrogram using interpolation\n",
        "    resized_spectrogram = zoom(spectrogram, zoom_factor)\n",
        "\n",
        "    return resized_spectrogram"
      ],
      "metadata": {
        "ExecuteTime": {
          "end_time": "2025-01-31T15:37:25.104295Z",
          "start_time": "2025-01-31T15:37:25.102472Z"
        },
        "id": "60c407358306bd76"
      },
      "id": "60c407358306bd76"
    },
    {
      "cell_type": "code",
      "execution_count": 80,
      "outputs": [],
      "source": [
        "from torch.utils.data import Dataset, DataLoader\n",
        "import os\n",
        "\n",
        "class ASVSpoofDataset(Dataset):\n",
        "    def __init__(self, audio_dir, data_info_df, fixed_time_steps=192):\n",
        "        \"\"\"\n",
        "        Args:\n",
        "            audio_dir (str): Directory with all the audio files.\n",
        "        \"\"\"\n",
        "        self.audio_dir = audio_dir\n",
        "        self.audio_files = os.listdir(audio_dir)\n",
        "        self.data_info_df = data_info_df\n",
        "        self.fixed_time_steps = fixed_time_steps\n",
        "\n",
        "    def __len__(self):\n",
        "        print(f\"{len(self.audio_files)}, {len(self.data_info_df)}\")\n",
        "        return min(len(self.audio_files), len(self.data_info_df))\n",
        "\n",
        "    def __getitem__(self, idx):\n",
        "        current_audio_path = os.path.join(self.audio_dir, self.audio_files[idx])\n",
        "        spectrogram = audio_to_mel_spectrogram(current_audio_path)\n",
        "\n",
        "        # Resize the spectrogram\n",
        "        mel_spectrogram = resize_spectrogram(spectrogram, self.fixed_time_steps)\n",
        "\n",
        "        # Convert to tensor and add channel dimension\n",
        "        mel_spectrogram = torch.tensor(mel_spectrogram, dtype=torch.float32).unsqueeze(0)\n",
        "\n",
        "        # Get label (0 for real, 1 for spoofed)\n",
        "        label = self.data_info_df.iloc[idx]['label']\n",
        "\n",
        "        return mel_spectrogram, torch.tensor(label, dtype=torch.float32)"
      ],
      "metadata": {
        "ExecuteTime": {
          "end_time": "2025-01-31T15:41:13.768214Z",
          "start_time": "2025-01-31T15:41:13.721378Z"
        },
        "id": "dbed0b9caf6e509"
      },
      "id": "dbed0b9caf6e509"
    },
    {
      "cell_type": "code",
      "execution_count": 81,
      "outputs": [],
      "source": [
        "BATCH_SIZE = 32"
      ],
      "metadata": {
        "id": "7cc8ae20e7299aa1"
      },
      "id": "7cc8ae20e7299aa1"
    },
    {
      "cell_type": "code",
      "execution_count": 60,
      "outputs": [],
      "source": [
        "train_dir = f\"{remote_path}/LA/LA/ASVspoof2019_LA_train/flac\"\n",
        "train_dataset = ASVSpoofDataset(train_dir, train_df_info)\n",
        "train_dataloader = DataLoader(train_dataset, batch_size=BATCH_SIZE, shuffle=True, num_workers=3)"
      ],
      "metadata": {
        "ExecuteTime": {
          "end_time": "2025-01-31T15:41:19.483387Z",
          "start_time": "2025-01-31T15:41:19.339997Z"
        },
        "id": "efcd3eaec03fa613"
      },
      "id": "efcd3eaec03fa613"
    },
    {
      "cell_type": "code",
      "execution_count": 82,
      "outputs": [
        {
          "output_type": "stream",
          "name": "stdout",
          "text": [
            "71933, 71237\n",
            "71933, 71237\n"
          ]
        }
      ],
      "source": [
        "eval_dir = f\"{remote_path}/LA/LA/ASVspoof2019_LA_eval/flac\"\n",
        "eval_dataset = ASVSpoofDataset(eval_dir, eval_df_info)\n",
        "eval_dataloader = DataLoader(eval_dataset, batch_size=BATCH_SIZE, shuffle=True, num_workers=3)"
      ],
      "metadata": {
        "ExecuteTime": {
          "end_time": "2025-01-31T15:41:23.847060Z",
          "start_time": "2025-01-31T15:41:23.692194Z"
        },
        "id": "7dbd1dfed1969f4e",
        "outputId": "f93f17fc-1119-48e8-cc2f-0a1a8a7420f2",
        "colab": {
          "base_uri": "https://localhost:8080/"
        }
      },
      "id": "7dbd1dfed1969f4e"
    },
    {
      "cell_type": "code",
      "source": [
        "input = 0\n",
        "label = 0\n",
        "print(len(eval_dataset))\n",
        "# eval_df_info.iloc[0]['label']\n",
        "# for inputs, labels in eval_dataloader:\n",
        "  # print(f\"HELLO {inputs.shape} {labels.shape}\")\n",
        "#   input = inputs\n",
        "#   label = labels\n",
        "#   break\n",
        "# print(input[0].shape)"
      ],
      "metadata": {
        "id": "zBq-GgpDdlAY",
        "outputId": "d200fb25-43e2-4129-e932-7b663f793cfc",
        "colab": {
          "base_uri": "https://localhost:8080/"
        }
      },
      "id": "zBq-GgpDdlAY",
      "execution_count": 84,
      "outputs": [
        {
          "output_type": "stream",
          "name": "stdout",
          "text": [
            "71933, 71237\n",
            "71237\n"
          ]
        }
      ]
    },
    {
      "cell_type": "code",
      "execution_count": 15,
      "outputs": [
        {
          "output_type": "stream",
          "name": "stderr",
          "text": [
            "Downloading: \"https://download.pytorch.org/models/resnet18-f37072fd.pth\" to /root/.cache/torch/hub/checkpoints/resnet18-f37072fd.pth\n",
            "100%|██████████| 44.7M/44.7M [00:00<00:00, 171MB/s]\n"
          ]
        }
      ],
      "source": [
        "\n",
        "import torchvision.models as models\n",
        "from torchvision.models import ResNet18_Weights\n",
        "\n",
        "# Load ResNet18 with pretrained weights\n",
        "resnet18 = models.resnet18(weights=ResNet18_Weights.IMAGENET1K_V1)\n",
        "\n",
        "# Modify the first layer to accept 1-channel input\n",
        "resnet18.conv1 = nn.Conv2d(1, 64, kernel_size=7, stride=2, padding=3, bias=False)\n",
        "\n",
        "# Modify the final layer for binary classification\n",
        "resnet18.fc = nn.Linear(resnet18.fc.in_features, 1)\n",
        "\n",
        "# Add a sigmoid activation for binary output\n",
        "resnet18 = nn.Sequential(resnet18, nn.Sigmoid())\n",
        "\n",
        "# Move model to GPU if available\n",
        "device = torch.device(\"cuda\" if torch.cuda.is_available() else \"cpu\")\n",
        "resnet18 = resnet18.to(device)"
      ],
      "metadata": {
        "ExecuteTime": {
          "end_time": "2025-01-31T15:28:56.532907Z",
          "start_time": "2025-01-31T15:28:55.877821Z"
        },
        "id": "a201e1a03a1573f9",
        "outputId": "c6b8d406-9d8b-4ef9-d8ca-82fbbbb65a01",
        "colab": {
          "base_uri": "https://localhost:8080/"
        }
      },
      "id": "a201e1a03a1573f9"
    },
    {
      "cell_type": "code",
      "execution_count": 38,
      "outputs": [
        {
          "output_type": "execute_result",
          "data": {
            "text/plain": [
              "<module 'train_utils' from '/content/train_utils.py'>"
            ]
          },
          "metadata": {},
          "execution_count": 38
        }
      ],
      "source": [
        "import torch.optim as optim\n",
        "\n",
        "# Define loss function and optimizer\n",
        "criterion = nn.BCELoss()\n",
        "optimizer = optim.Adam(resnet18.parameters(), lr=0.001)\n",
        "\n",
        "# # Training loop\n",
        "# for epoch in range(10):  # Number of epochs\n",
        "#     resnet18.train()\n",
        "#     running_loss = 0.0\n",
        "#     correct = 0\n",
        "#     total = 0\n",
        "\n",
        "#     for inputs, labels in train_dataloader:\n",
        "#         inputs, labels = inputs.to(device), labels.to(device).float()\n",
        "\n",
        "#         # Forward pass\n",
        "#         outputs = resnet18(inputs).squeeze()\n",
        "#         loss = criterion(outputs, labels)\n",
        "\n",
        "#         # Backward pass\n",
        "#         optimizer.zero_grad()\n",
        "#         loss.backward()\n",
        "#         optimizer.step()\n",
        "\n",
        "#         # Calculate accuracy\n",
        "#         predicted = (outputs > 0.5).float()\n",
        "#         total += labels.size(0)\n",
        "#         correct += (predicted == labels).sum().item()\n",
        "\n",
        "#         running_loss += loss.item()\n",
        "\n",
        "#     # Print epoch statistics\n",
        "#     epoch_loss = running_loss / len(train_dataloader)\n",
        "#     epoch_accuracy = 100 * correct / total\n",
        "#     print(f\"Epoch [{epoch+1}/10], Loss: {epoch_loss:.4f}, Accuracy: {epoch_accuracy:.2f}%\")\n",
        "\n",
        "import train_utils\n",
        "import importlib\n",
        "importlib.reload(train_utils)"
      ],
      "metadata": {
        "ExecuteTime": {
          "end_time": "2025-01-31T19:06:29.887316Z",
          "start_time": "2025-01-31T17:47:43.142155Z"
        },
        "id": "909b4e502f8e7714",
        "outputId": "8589de4a-9c3b-44f2-d1f2-40ca39324e9b",
        "colab": {
          "base_uri": "https://localhost:8080/"
        }
      },
      "id": "909b4e502f8e7714"
    },
    {
      "cell_type": "code",
      "source": [],
      "metadata": {
        "id": "9O9fILlstSIZ"
      },
      "id": "9O9fILlstSIZ",
      "execution_count": null,
      "outputs": []
    },
    {
      "cell_type": "markdown",
      "source": [],
      "metadata": {
        "id": "zepfMGfitR1j"
      },
      "id": "zepfMGfitR1j"
    },
    {
      "cell_type": "code",
      "execution_count": 46,
      "outputs": [
        {
          "output_type": "stream",
          "name": "stdout",
          "text": [
            "   speaker     file_name attack  label\n",
            "0  LA_0039  LA_E_2834763    A11  spoof\n",
            "1  LA_0014  LA_E_8877452    A14  spoof\n",
            "2  LA_0040  LA_E_6828287    A16  spoof\n",
            "3  LA_0022  LA_E_6977360    A09  spoof\n",
            "4  LA_0031  LA_E_5932896    A13  spoof\n",
            "      file_name  label\n",
            "0  LA_E_2834763    1.0\n",
            "1  LA_E_8877452    1.0\n",
            "2  LA_E_6828287    1.0\n",
            "3  LA_E_6977360    1.0\n",
            "4  LA_E_5932896    1.0\n"
          ]
        },
        {
          "output_type": "stream",
          "name": "stderr",
          "text": [
            "<ipython-input-10-594fd86ccd0c>:8: SettingWithCopyWarning: \n",
            "A value is trying to be set on a copy of a slice from a DataFrame.\n",
            "Try using .loc[row_indexer,col_indexer] = value instead\n",
            "\n",
            "See the caveats in the documentation: https://pandas.pydata.org/pandas-docs/stable/user_guide/indexing.html#returning-a-view-versus-a-copy\n",
            "  df_processed['label'] = df_processed['label'].map(mapping)\n"
          ]
        }
      ],
      "source": [
        "eval_info_file_path = f\"{path}/LA/LA/ASVspoof2019_LA_cm_protocols/ASVspoof2019.LA.cm.eval.trl.txt\"\n",
        "eval_df_info = load_protocol(eval_info_file_path, names=['speaker', 'file_name', 'attack', 'label'])\n",
        "\n",
        "print(eval_df_info.head())\n",
        "eval_df_info = process_data_frame(eval_df_info)"
      ],
      "metadata": {
        "ExecuteTime": {
          "start_time": "2025-01-31T19:06:29.886687Z"
        },
        "id": "95e7e3bd4f5d0ab0",
        "outputId": "f45e96c8-1628-4e93-8e99-db1269cc15d8",
        "colab": {
          "base_uri": "https://localhost:8080/"
        }
      },
      "id": "95e7e3bd4f5d0ab0"
    },
    {
      "cell_type": "code",
      "execution_count": 19,
      "outputs": [],
      "source": [
        "eval_dir = f\"{remote_path}/LA/LA/ASVspoof2019_LA_eval/flac\"\n",
        "eval_dataset = ASVSpoofDataset(eval_dir, eval_df_info)\n",
        "eval_dataloader = DataLoader(eval_dataset, batch_size=BATCH_SIZE, shuffle=True, num_workers=3)"
      ],
      "metadata": {
        "id": "f034cc4035c87c45"
      },
      "id": "f034cc4035c87c45"
    },
    {
      "cell_type": "code",
      "source": [],
      "metadata": {
        "collapsed": true,
        "id": "1Js7_xg2Uu-i",
        "outputId": "7573fd80-537c-48cf-eb5a-902f3fe9bdbc",
        "colab": {
          "base_uri": "https://localhost:8080/"
        }
      },
      "id": "1Js7_xg2Uu-i",
      "execution_count": 40,
      "outputs": [
        {
          "output_type": "execute_result",
          "data": {
            "text/plain": [
              "(tensor([[[ 2.0586e-01,  3.4187e-01,  2.3326e-01,  ...,  3.6336e-01,\n",
              "            3.8231e-01,  0.0000e+00],\n",
              "          [ 2.7246e-01,  4.1217e-01,  3.1236e-01,  ...,  3.8427e-01,\n",
              "            4.5312e-01,  0.0000e+00],\n",
              "          [ 3.0064e-01,  3.8411e-01,  3.2450e-01,  ...,  2.7918e-01,\n",
              "            4.4309e-01,  0.0000e+00],\n",
              "          ...,\n",
              "          [ 1.8583e-37,  1.3999e-37, -1.0608e-37,  ...,  2.5278e-01,\n",
              "            4.5637e-02,  0.0000e+00],\n",
              "          [ 8.5683e-38, -3.0184e-38, -2.8577e-38,  ...,  2.4808e-01,\n",
              "            2.6437e-02,  0.0000e+00],\n",
              "          [ 3.1780e-37, -4.2774e-37, -1.4757e-38,  ...,  1.5842e-01,\n",
              "           -6.8030e-03,  0.0000e+00]]]),\n",
              " tensor(0.))"
            ]
          },
          "metadata": {},
          "execution_count": 40
        }
      ]
    },
    {
      "cell_type": "code",
      "source": [
        "input = 0\n",
        "label = 0\n",
        "# eval_df_info.iloc[0]['label']\n",
        "\n",
        "for i, (inputs, labels) in enumerate(eval_dataloader):\n",
        "  print(\"HELLO\")\n",
        "  input = inputs\n",
        "  label = labels\n",
        "  break\n",
        "print(input[0].shape)"
      ],
      "metadata": {
        "id": "wVb2jr2GK7Jc",
        "outputId": "70365ff5-8db3-41a1-a9e9-9201b6c7a0af",
        "colab": {
          "base_uri": "https://localhost:8080/",
          "height": 825
        }
      },
      "id": "wVb2jr2GK7Jc",
      "execution_count": 61,
      "outputs": [
        {
          "output_type": "error",
          "ename": "IndexError",
          "evalue": "Caught IndexError in DataLoader worker process 0.\nOriginal Traceback (most recent call last):\n  File \"/usr/local/lib/python3.11/dist-packages/torch/utils/data/_utils/worker.py\", line 351, in _worker_loop\n    data = fetcher.fetch(index)  # type: ignore[possibly-undefined]\n           ^^^^^^^^^^^^^^^^^^^^\n  File \"/usr/local/lib/python3.11/dist-packages/torch/utils/data/_utils/fetch.py\", line 52, in fetch\n    data = [self.dataset[idx] for idx in possibly_batched_index]\n           ^^^^^^^^^^^^^^^^^^^^^^^^^^^^^^^^^^^^^^^^^^^^^^^^^^^^^\n  File \"/usr/local/lib/python3.11/dist-packages/torch/utils/data/_utils/fetch.py\", line 52, in <listcomp>\n    data = [self.dataset[idx] for idx in possibly_batched_index]\n            ~~~~~~~~~~~~^^^^^\n  File \"<ipython-input-12-e543b35e21ac>\", line 29, in __getitem__\n    label = self.data_info_df.iloc[idx]['label']\n            ~~~~~~~~~~~~~~~~~~~~~~^^^^^\n  File \"/usr/local/lib/python3.11/dist-packages/pandas/core/indexing.py\", line 1191, in __getitem__\n    return self._getitem_axis(maybe_callable, axis=axis)\n           ^^^^^^^^^^^^^^^^^^^^^^^^^^^^^^^^^^^^^^^^^^^^^\n  File \"/usr/local/lib/python3.11/dist-packages/pandas/core/indexing.py\", line 1752, in _getitem_axis\n    self._validate_integer(key, axis)\n  File \"/usr/local/lib/python3.11/dist-packages/pandas/core/indexing.py\", line 1685, in _validate_integer\n    raise IndexError(\"single positional indexer is out-of-bounds\")\nIndexError: single positional indexer is out-of-bounds\n",
          "traceback": [
            "\u001b[0;31m---------------------------------------------------------------------------\u001b[0m",
            "\u001b[0;31mIndexError\u001b[0m                                Traceback (most recent call last)",
            "\u001b[0;32m<ipython-input-61-482d48ec0914>\u001b[0m in \u001b[0;36m<cell line: 0>\u001b[0;34m()\u001b[0m\n\u001b[1;32m      3\u001b[0m \u001b[0;31m# eval_df_info.iloc[0]['label']\u001b[0m\u001b[0;34m\u001b[0m\u001b[0;34m\u001b[0m\u001b[0m\n\u001b[1;32m      4\u001b[0m \u001b[0;34m\u001b[0m\u001b[0m\n\u001b[0;32m----> 5\u001b[0;31m \u001b[0;32mfor\u001b[0m \u001b[0mi\u001b[0m\u001b[0;34m,\u001b[0m \u001b[0;34m(\u001b[0m\u001b[0minputs\u001b[0m\u001b[0;34m,\u001b[0m \u001b[0mlabels\u001b[0m\u001b[0;34m)\u001b[0m \u001b[0;32min\u001b[0m \u001b[0menumerate\u001b[0m\u001b[0;34m(\u001b[0m\u001b[0meval_dataloader\u001b[0m\u001b[0;34m)\u001b[0m\u001b[0;34m:\u001b[0m\u001b[0;34m\u001b[0m\u001b[0;34m\u001b[0m\u001b[0m\n\u001b[0m\u001b[1;32m      6\u001b[0m   \u001b[0mprint\u001b[0m\u001b[0;34m(\u001b[0m\u001b[0;34m\"HELLO\"\u001b[0m\u001b[0;34m)\u001b[0m\u001b[0;34m\u001b[0m\u001b[0;34m\u001b[0m\u001b[0m\n\u001b[1;32m      7\u001b[0m   \u001b[0minput\u001b[0m \u001b[0;34m=\u001b[0m \u001b[0minputs\u001b[0m\u001b[0;34m\u001b[0m\u001b[0;34m\u001b[0m\u001b[0m\n",
            "\u001b[0;32m/usr/local/lib/python3.11/dist-packages/torch/utils/data/dataloader.py\u001b[0m in \u001b[0;36m__next__\u001b[0;34m(self)\u001b[0m\n\u001b[1;32m    699\u001b[0m                 \u001b[0;31m# TODO(https://github.com/pytorch/pytorch/issues/76750)\u001b[0m\u001b[0;34m\u001b[0m\u001b[0;34m\u001b[0m\u001b[0m\n\u001b[1;32m    700\u001b[0m                 \u001b[0mself\u001b[0m\u001b[0;34m.\u001b[0m\u001b[0m_reset\u001b[0m\u001b[0;34m(\u001b[0m\u001b[0;34m)\u001b[0m  \u001b[0;31m# type: ignore[call-arg]\u001b[0m\u001b[0;34m\u001b[0m\u001b[0;34m\u001b[0m\u001b[0m\n\u001b[0;32m--> 701\u001b[0;31m             \u001b[0mdata\u001b[0m \u001b[0;34m=\u001b[0m \u001b[0mself\u001b[0m\u001b[0;34m.\u001b[0m\u001b[0m_next_data\u001b[0m\u001b[0;34m(\u001b[0m\u001b[0;34m)\u001b[0m\u001b[0;34m\u001b[0m\u001b[0;34m\u001b[0m\u001b[0m\n\u001b[0m\u001b[1;32m    702\u001b[0m             \u001b[0mself\u001b[0m\u001b[0;34m.\u001b[0m\u001b[0m_num_yielded\u001b[0m \u001b[0;34m+=\u001b[0m \u001b[0;36m1\u001b[0m\u001b[0;34m\u001b[0m\u001b[0;34m\u001b[0m\u001b[0m\n\u001b[1;32m    703\u001b[0m             if (\n",
            "\u001b[0;32m/usr/local/lib/python3.11/dist-packages/torch/utils/data/dataloader.py\u001b[0m in \u001b[0;36m_next_data\u001b[0;34m(self)\u001b[0m\n\u001b[1;32m   1463\u001b[0m             \u001b[0;32melse\u001b[0m\u001b[0;34m:\u001b[0m\u001b[0;34m\u001b[0m\u001b[0;34m\u001b[0m\u001b[0m\n\u001b[1;32m   1464\u001b[0m                 \u001b[0;32mdel\u001b[0m \u001b[0mself\u001b[0m\u001b[0;34m.\u001b[0m\u001b[0m_task_info\u001b[0m\u001b[0;34m[\u001b[0m\u001b[0midx\u001b[0m\u001b[0;34m]\u001b[0m\u001b[0;34m\u001b[0m\u001b[0;34m\u001b[0m\u001b[0m\n\u001b[0;32m-> 1465\u001b[0;31m                 \u001b[0;32mreturn\u001b[0m \u001b[0mself\u001b[0m\u001b[0;34m.\u001b[0m\u001b[0m_process_data\u001b[0m\u001b[0;34m(\u001b[0m\u001b[0mdata\u001b[0m\u001b[0;34m)\u001b[0m\u001b[0;34m\u001b[0m\u001b[0;34m\u001b[0m\u001b[0m\n\u001b[0m\u001b[1;32m   1466\u001b[0m \u001b[0;34m\u001b[0m\u001b[0m\n\u001b[1;32m   1467\u001b[0m     \u001b[0;32mdef\u001b[0m \u001b[0m_try_put_index\u001b[0m\u001b[0;34m(\u001b[0m\u001b[0mself\u001b[0m\u001b[0;34m)\u001b[0m\u001b[0;34m:\u001b[0m\u001b[0;34m\u001b[0m\u001b[0;34m\u001b[0m\u001b[0m\n",
            "\u001b[0;32m/usr/local/lib/python3.11/dist-packages/torch/utils/data/dataloader.py\u001b[0m in \u001b[0;36m_process_data\u001b[0;34m(self, data)\u001b[0m\n\u001b[1;32m   1489\u001b[0m         \u001b[0mself\u001b[0m\u001b[0;34m.\u001b[0m\u001b[0m_try_put_index\u001b[0m\u001b[0;34m(\u001b[0m\u001b[0;34m)\u001b[0m\u001b[0;34m\u001b[0m\u001b[0;34m\u001b[0m\u001b[0m\n\u001b[1;32m   1490\u001b[0m         \u001b[0;32mif\u001b[0m \u001b[0misinstance\u001b[0m\u001b[0;34m(\u001b[0m\u001b[0mdata\u001b[0m\u001b[0;34m,\u001b[0m \u001b[0mExceptionWrapper\u001b[0m\u001b[0;34m)\u001b[0m\u001b[0;34m:\u001b[0m\u001b[0;34m\u001b[0m\u001b[0;34m\u001b[0m\u001b[0m\n\u001b[0;32m-> 1491\u001b[0;31m             \u001b[0mdata\u001b[0m\u001b[0;34m.\u001b[0m\u001b[0mreraise\u001b[0m\u001b[0;34m(\u001b[0m\u001b[0;34m)\u001b[0m\u001b[0;34m\u001b[0m\u001b[0;34m\u001b[0m\u001b[0m\n\u001b[0m\u001b[1;32m   1492\u001b[0m         \u001b[0;32mreturn\u001b[0m \u001b[0mdata\u001b[0m\u001b[0;34m\u001b[0m\u001b[0;34m\u001b[0m\u001b[0m\n\u001b[1;32m   1493\u001b[0m \u001b[0;34m\u001b[0m\u001b[0m\n",
            "\u001b[0;32m/usr/local/lib/python3.11/dist-packages/torch/_utils.py\u001b[0m in \u001b[0;36mreraise\u001b[0;34m(self)\u001b[0m\n\u001b[1;32m    713\u001b[0m             \u001b[0;31m# instantiate since we don't know how to\u001b[0m\u001b[0;34m\u001b[0m\u001b[0;34m\u001b[0m\u001b[0m\n\u001b[1;32m    714\u001b[0m             \u001b[0;32mraise\u001b[0m \u001b[0mRuntimeError\u001b[0m\u001b[0;34m(\u001b[0m\u001b[0mmsg\u001b[0m\u001b[0;34m)\u001b[0m \u001b[0;32mfrom\u001b[0m \u001b[0;32mNone\u001b[0m\u001b[0;34m\u001b[0m\u001b[0;34m\u001b[0m\u001b[0m\n\u001b[0;32m--> 715\u001b[0;31m         \u001b[0;32mraise\u001b[0m \u001b[0mexception\u001b[0m\u001b[0;34m\u001b[0m\u001b[0;34m\u001b[0m\u001b[0m\n\u001b[0m\u001b[1;32m    716\u001b[0m \u001b[0;34m\u001b[0m\u001b[0m\n\u001b[1;32m    717\u001b[0m \u001b[0;34m\u001b[0m\u001b[0m\n",
            "\u001b[0;31mIndexError\u001b[0m: Caught IndexError in DataLoader worker process 0.\nOriginal Traceback (most recent call last):\n  File \"/usr/local/lib/python3.11/dist-packages/torch/utils/data/_utils/worker.py\", line 351, in _worker_loop\n    data = fetcher.fetch(index)  # type: ignore[possibly-undefined]\n           ^^^^^^^^^^^^^^^^^^^^\n  File \"/usr/local/lib/python3.11/dist-packages/torch/utils/data/_utils/fetch.py\", line 52, in fetch\n    data = [self.dataset[idx] for idx in possibly_batched_index]\n           ^^^^^^^^^^^^^^^^^^^^^^^^^^^^^^^^^^^^^^^^^^^^^^^^^^^^^\n  File \"/usr/local/lib/python3.11/dist-packages/torch/utils/data/_utils/fetch.py\", line 52, in <listcomp>\n    data = [self.dataset[idx] for idx in possibly_batched_index]\n            ~~~~~~~~~~~~^^^^^\n  File \"<ipython-input-12-e543b35e21ac>\", line 29, in __getitem__\n    label = self.data_info_df.iloc[idx]['label']\n            ~~~~~~~~~~~~~~~~~~~~~~^^^^^\n  File \"/usr/local/lib/python3.11/dist-packages/pandas/core/indexing.py\", line 1191, in __getitem__\n    return self._getitem_axis(maybe_callable, axis=axis)\n           ^^^^^^^^^^^^^^^^^^^^^^^^^^^^^^^^^^^^^^^^^^^^^\n  File \"/usr/local/lib/python3.11/dist-packages/pandas/core/indexing.py\", line 1752, in _getitem_axis\n    self._validate_integer(key, axis)\n  File \"/usr/local/lib/python3.11/dist-packages/pandas/core/indexing.py\", line 1685, in _validate_integer\n    raise IndexError(\"single positional indexer is out-of-bounds\")\nIndexError: single positional indexer is out-of-bounds\n"
          ]
        }
      ]
    },
    {
      "cell_type": "code",
      "source": [
        "train_utils.train_model(model=resnet18, train_loader=train_dataloader, val_loader=eval_dataloader,criterion=criterion, optimizer=optimizer, epochs=5, device=device)\n",
        "# EPOCHS = 2\n",
        "# # Initialize lists to save loss and accuracy values for each epoch\n",
        "# epoch_losses = []\n",
        "# epoch_accuracies = []\n",
        "\n",
        "# # Assuming this is inside your training loop\n",
        "# for epoch in range(EPOCHS):\n",
        "#     resnet18.train()\n",
        "#     running_loss = 0.0\n",
        "#     correct = 0\n",
        "#     total = 0\n",
        "#     iteration_number = 0\n",
        "\n",
        "#     for inputs, labels in train_dataloader:\n",
        "#         # inputs = inputs.unsqueeze(1)\n",
        "#         inputs, labels = inputs.to(device), labels.to(device)\n",
        "\n",
        "#         optimizer.zero_grad()\n",
        "#         outputs = resnet18(inputs)\n",
        "#         outputs = outputs.squeeze(1)\n",
        "#         loss = criterion(outputs, labels)\n",
        "#         loss.backward()\n",
        "#         optimizer.step()\n",
        "\n",
        "#         running_loss += loss.item()\n",
        "\n",
        "#         # Calculate accuracy - changed outputs.max(1) to outputs.max(0) since only 1 dimension\n",
        "#         _, predicted = outputs.max(0) # Assuming binary classification, use argmax for prediction\n",
        "#         predicted = (predicted > 0.5).float() # Apply threshold to get class labels (0 or 1)\n",
        "#         total += labels.size(0)\n",
        "#         correct += (predicted == labels).sum().item()\n",
        "#         if iteration_number % 50 == 0:\n",
        "#           print(f\"iteration number: {iteration_number} finished\")\n",
        "#         iteration_number += 1\n",
        "\n",
        "#     # Calculate and save epoch loss and accuracy\n",
        "#     epoch_loss = running_loss / len(train_dataloader)\n",
        "#     epoch_losses.append(epoch_loss)\n",
        "\n",
        "#     epoch_accuracy = 100 * correct / total\n",
        "#     epoch_accuracies.append(epoch_accuracy)\n",
        "\n",
        "#     print(f\"Epoch [{epoch+1}/{EPOCHS}], Loss: {epoch_loss:.4f}, Accuracy: {epoch_accuracy:.2f}%\")"
      ],
      "metadata": {
        "id": "NakSkSwctheo",
        "outputId": "b3631824-8798-43d9-dcf9-18d84b2f526a",
        "colab": {
          "base_uri": "https://localhost:8080/"
        }
      },
      "id": "NakSkSwctheo",
      "execution_count": null,
      "outputs": [
        {
          "output_type": "stream",
          "name": "stderr",
          "text": [
            "Exception ignored in: <function _MultiProcessingDataLoaderIter.__del__ at 0x786ff87749a0>\n",
            "Traceback (most recent call last):\n",
            "  File \"/usr/local/lib/python3.11/dist-packages/torch/utils/data/dataloader.py\", line 1604, in __del__\n",
            "    self._shutdown_workers()\n",
            "  File \"/usr/local/lib/python3.11/dist-packages/torch/utils/data/dataloader.py\", line 1587, in _shutdown_workers\n",
            "    "
          ]
        },
        {
          "output_type": "stream",
          "name": "stdout",
          "text": [
            "Progress - enumeration 0 / 794\n"
          ]
        },
        {
          "output_type": "stream",
          "name": "stderr",
          "text": [
            "if w.is_alive():\n",
            "       ^^^^^^^^^^^^Exception ignored in: \n",
            "<function _MultiProcessingDataLoaderIter.__del__ at 0x786ff87749a0>  File \"/usr/lib/python3.11/multiprocessing/process.py\", line 160, in is_alive\n",
            "\n",
            "Traceback (most recent call last):\n",
            "    assert self._parent_pid == os.getpid(), 'can only test a child process'  File \"/usr/local/lib/python3.11/dist-packages/torch/utils/data/dataloader.py\", line 1604, in __del__\n",
            "\n",
            "     self._shutdown_workers()Exception ignored in: <function _MultiProcessingDataLoaderIter.__del__ at 0x786ff87749a0> \n",
            "\n",
            "  File \"/usr/local/lib/python3.11/dist-packages/torch/utils/data/dataloader.py\", line 1587, in _shutdown_workers\n",
            "    Traceback (most recent call last):\n",
            "   File \"/usr/local/lib/python3.11/dist-packages/torch/utils/data/dataloader.py\", line 1604, in __del__\n",
            "if w.is_alive():     \n",
            "self._shutdown_workers()  \n",
            "   File \"/usr/local/lib/python3.11/dist-packages/torch/utils/data/dataloader.py\", line 1587, in _shutdown_workers\n",
            "     if w.is_alive():   \n",
            "       ^ ^   ^ ^^^  ^^^^^^^^^^^^^^^^^^^^^^^^^^^^^\n",
            "^^  File \"/usr/lib/python3.11/multiprocessing/process.py\", line 160, in is_alive\n",
            "^^    ^^^assert self._parent_pid == os.getpid(), 'can only test a child process'\n",
            "^\n",
            "  File \"/usr/lib/python3.11/multiprocessing/process.py\", line 160, in is_alive\n",
            "^     ^ assert self._parent_pid == os.getpid(), 'can only test a child process'^ ^\n",
            " ^  ^  ^  ^  ^  ^  ^  ^ ^\n",
            " ^AssertionError ^:  ^can only test a child process^^\n",
            "^^^^^^^^^^^^^Exception ignored in: ^^<function _MultiProcessingDataLoaderIter.__del__ at 0x786ff87749a0>^^\n",
            "^Traceback (most recent call last):\n",
            "^^  File \"/usr/local/lib/python3.11/dist-packages/torch/utils/data/dataloader.py\", line 1604, in __del__\n",
            "^^^    ^^^self._shutdown_workers()^\n",
            "^^  File \"/usr/local/lib/python3.11/dist-packages/torch/utils/data/dataloader.py\", line 1587, in _shutdown_workers\n",
            "^^^    ^^if w.is_alive():^^^\n",
            "^^^ ^ ^^ ^ ^^^ ^^ ^ ^^^\n",
            "^^^AssertionError^^: ^^can only test a child process^\n",
            "\n",
            "^AssertionError^: ^can only test a child process^\n",
            "^^Exception ignored in: ^<function _MultiProcessingDataLoaderIter.__del__ at 0x786ff87749a0>\n",
            "Exception ignored in: \n",
            "  File \"/usr/lib/python3.11/multiprocessing/process.py\", line 160, in is_alive\n",
            "<function _MultiProcessingDataLoaderIter.__del__ at 0x786ff87749a0>Traceback (most recent call last):\n",
            "\n",
            "      File \"/usr/local/lib/python3.11/dist-packages/torch/utils/data/dataloader.py\", line 1604, in __del__\n",
            "Traceback (most recent call last):\n",
            "assert self._parent_pid == os.getpid(), 'can only test a child process'    \n",
            "  File \"/usr/local/lib/python3.11/dist-packages/torch/utils/data/dataloader.py\", line 1604, in __del__\n",
            "self._shutdown_workers() \n",
            "       File \"/usr/local/lib/python3.11/dist-packages/torch/utils/data/dataloader.py\", line 1587, in _shutdown_workers\n",
            "self._shutdown_workers() \n",
            "       File \"/usr/local/lib/python3.11/dist-packages/torch/utils/data/dataloader.py\", line 1587, in _shutdown_workers\n",
            "if w.is_alive():     \n",
            " if w.is_alive():  \n",
            "              ^  ^ ^^^^^^^^^^^^^^^^^^^^^^^^^^^^^^^^^^^^\n",
            "^^\n",
            "  File \"/usr/lib/python3.11/multiprocessing/process.py\", line 160, in is_alive\n",
            "^  File \"/usr/lib/python3.11/multiprocessing/process.py\", line 160, in is_alive\n",
            "    ^    ^assert self._parent_pid == os.getpid(), 'can only test a child process'assert self._parent_pid == os.getpid(), 'can only test a child process'^\n",
            "\n",
            "^  ^  ^  ^  ^  ^  ^  ^  ^  ^  ^  \n",
            "^^AssertionError^^: ^^can only test a child process^^\n",
            "^^^^^^^^^^^Exception ignored in: ^^<function _MultiProcessingDataLoaderIter.__del__ at 0x786ff87749a0>^^\n",
            "^^Traceback (most recent call last):\n",
            "^^  File \"/usr/local/lib/python3.11/dist-packages/torch/utils/data/dataloader.py\", line 1604, in __del__\n",
            "^^^^^    ^^self._shutdown_workers()^^\n",
            "^^  File \"/usr/local/lib/python3.11/dist-packages/torch/utils/data/dataloader.py\", line 1587, in _shutdown_workers\n",
            "^^    ^^if w.is_alive():^^\n",
            "^^ ^^ ^^ ^^ ^^^ ^^ ^^ ^\n",
            "^^AssertionError^^^: \n",
            "can only test a child process^AssertionError^\n",
            ": ^can only test a child process^\n",
            "^^^Exception ignored in: ^Exception ignored in: <function _MultiProcessingDataLoaderIter.__del__ at 0x786ff87749a0>^<function _MultiProcessingDataLoaderIter.__del__ at 0x786ff87749a0>\n",
            "\n",
            "\n",
            "Traceback (most recent call last):\n",
            "  File \"/usr/lib/python3.11/multiprocessing/process.py\", line 160, in is_alive\n",
            "Traceback (most recent call last):\n",
            "  File \"/usr/local/lib/python3.11/dist-packages/torch/utils/data/dataloader.py\", line 1604, in __del__\n",
            "      File \"/usr/local/lib/python3.11/dist-packages/torch/utils/data/dataloader.py\", line 1604, in __del__\n",
            "assert self._parent_pid == os.getpid(), 'can only test a child process'    self._shutdown_workers()\n",
            "    \n",
            " self._shutdown_workers()  File \"/usr/local/lib/python3.11/dist-packages/torch/utils/data/dataloader.py\", line 1587, in _shutdown_workers\n",
            " \n",
            "       File \"/usr/local/lib/python3.11/dist-packages/torch/utils/data/dataloader.py\", line 1587, in _shutdown_workers\n",
            " if w.is_alive():    \n",
            " if w.is_alive():  \n",
            "                ^ ^^^^ ^^^^^^^^^^^^^^^^^^^^^^^^^^^^\n",
            "^^  File \"/usr/lib/python3.11/multiprocessing/process.py\", line 160, in is_alive\n",
            "^^    ^^assert self._parent_pid == os.getpid(), 'can only test a child process'^\n",
            "\n",
            "^  File \"/usr/lib/python3.11/multiprocessing/process.py\", line 160, in is_alive\n",
            " ^     ^assert self._parent_pid == os.getpid(), 'can only test a child process' \n",
            "^ ^  ^  ^  ^  ^  ^  ^  ^^ ^^ ^^ ^^ ^\n",
            "^AssertionError^^^: ^^can only test a child process^^\n",
            "^^^^^^^^^^^^^^Exception ignored in: ^<function _MultiProcessingDataLoaderIter.__del__ at 0x786ff87749a0>^\n",
            "^^^Traceback (most recent call last):\n",
            "^  File \"/usr/local/lib/python3.11/dist-packages/torch/utils/data/dataloader.py\", line 1604, in __del__\n",
            "^^    ^^self._shutdown_workers()^\n",
            "^^  File \"/usr/local/lib/python3.11/dist-packages/torch/utils/data/dataloader.py\", line 1587, in _shutdown_workers\n",
            "^^^    ^^if w.is_alive():^^\n",
            "^^ ^^ ^^  ^^ ^^ ^\n",
            " ^AssertionError^^: ^^can only test a child process^^\n",
            "^\n",
            "^AssertionError^: ^can only test a child process^\n",
            "^Exception ignored in: ^<function _MultiProcessingDataLoaderIter.__del__ at 0x786ff87749a0>^^Exception ignored in: \n",
            "\n",
            "Traceback (most recent call last):\n",
            "<function _MultiProcessingDataLoaderIter.__del__ at 0x786ff87749a0>  File \"/usr/lib/python3.11/multiprocessing/process.py\", line 160, in is_alive\n",
            "\n",
            "  File \"/usr/local/lib/python3.11/dist-packages/torch/utils/data/dataloader.py\", line 1604, in __del__\n",
            "    Traceback (most recent call last):\n",
            "      File \"/usr/local/lib/python3.11/dist-packages/torch/utils/data/dataloader.py\", line 1604, in __del__\n",
            "assert self._parent_pid == os.getpid(), 'can only test a child process'self._shutdown_workers()\n",
            "    \n",
            " self._shutdown_workers()  File \"/usr/local/lib/python3.11/dist-packages/torch/utils/data/dataloader.py\", line 1587, in _shutdown_workers\n",
            " \n",
            "       File \"/usr/local/lib/python3.11/dist-packages/torch/utils/data/dataloader.py\", line 1587, in _shutdown_workers\n",
            " if w.is_alive():      if w.is_alive():\n",
            " \n",
            "            ^  ^  ^  ^^^^^^^^^^^^^^^^^^^^^^^^^^^^^^^^^^^\n",
            "^  File \"/usr/lib/python3.11/multiprocessing/process.py\", line 160, in is_alive\n",
            "^^\n",
            "    ^  File \"/usr/lib/python3.11/multiprocessing/process.py\", line 160, in is_alive\n",
            "assert self._parent_pid == os.getpid(), 'can only test a child process'^    \n",
            "^ assert self._parent_pid == os.getpid(), 'can only test a child process'^ \n",
            "^ ^   ^ ^  ^  ^  ^  ^  ^  ^ ^ \n",
            "^AssertionError ^: ^^can only test a child process^^\n",
            "^^^^Exception ignored in: ^^<function _MultiProcessingDataLoaderIter.__del__ at 0x786ff87749a0>^^\n",
            "^^Traceback (most recent call last):\n",
            "^  File \"/usr/local/lib/python3.11/dist-packages/torch/utils/data/dataloader.py\", line 1604, in __del__\n",
            "^^^    ^^self._shutdown_workers()^^\n",
            "^^^  File \"/usr/local/lib/python3.11/dist-packages/torch/utils/data/dataloader.py\", line 1587, in _shutdown_workers\n",
            "^^^    ^if w.is_alive():^^\n",
            "^^ ^^^ ^^ ^^ ^^ ^ ^^ ^^^^^^^^^^^^^^^^\n",
            "^^AssertionError^^: ^^can only test a child process^\n",
            "\n",
            "^AssertionError^: Exception ignored in: ^can only test a child process<function _MultiProcessingDataLoaderIter.__del__ at 0x786ff87749a0>\n",
            "\n",
            "  File \"/usr/lib/python3.11/multiprocessing/process.py\", line 160, in is_alive\n",
            "\n",
            "Traceback (most recent call last):\n",
            "    Exception ignored in: assert self._parent_pid == os.getpid(), 'can only test a child process'  File \"/usr/local/lib/python3.11/dist-packages/torch/utils/data/dataloader.py\", line 1604, in __del__\n",
            "<function _MultiProcessingDataLoaderIter.__del__ at 0x786ff87749a0>\n",
            "\n",
            "     Traceback (most recent call last):\n",
            " self._shutdown_workers()  File \"/usr/local/lib/python3.11/dist-packages/torch/utils/data/dataloader.py\", line 1604, in __del__\n",
            " \n",
            "       File \"/usr/local/lib/python3.11/dist-packages/torch/utils/data/dataloader.py\", line 1587, in _shutdown_workers\n",
            " self._shutdown_workers() \n",
            "       File \"/usr/local/lib/python3.11/dist-packages/torch/utils/data/dataloader.py\", line 1587, in _shutdown_workers\n",
            "if w.is_alive():\n",
            "       if w.is_alive():   \n",
            " ^  ^   ^  ^ ^^ ^^^ ^^ ^^^^^^^^^^^^^^^^^^^^^^^^^^^\n",
            "^^^  File \"/usr/lib/python3.11/multiprocessing/process.py\", line 160, in is_alive\n",
            "^^    ^^assert self._parent_pid == os.getpid(), 'can only test a child process'\n",
            "^\n",
            "  File \"/usr/lib/python3.11/multiprocessing/process.py\", line 160, in is_alive\n",
            "^     ^ assert self._parent_pid == os.getpid(), 'can only test a child process'^ \n",
            "^  ^  ^  ^  ^  ^  \n",
            " AssertionError  :    can only test a child process^ \n",
            "^^^^^^^^^^^^^^^^^^^^^^^^^^^^^^^^^^^^^^^^^^^^^^^^^^^^^^^^\n",
            "^AssertionError: ^^^can only test a child process^\n",
            "\n",
            "AssertionError: can only test a child process\n"
          ]
        },
        {
          "output_type": "stream",
          "name": "stdout",
          "text": [
            "Progress - enumeration 50 / 794\n",
            "Progress - enumeration 100 / 794\n",
            "Progress - enumeration 150 / 794\n",
            "Progress - enumeration 200 / 794\n",
            "Progress - enumeration 250 / 794\n",
            "Progress - enumeration 300 / 794\n",
            "Progress - enumeration 350 / 794\n",
            "Progress - enumeration 400 / 794\n",
            "Progress - enumeration 450 / 794\n",
            "Progress - enumeration 500 / 794\n",
            "Progress - enumeration 550 / 794\n",
            "Progress - enumeration 600 / 794\n",
            "Progress - enumeration 650 / 794\n",
            "Progress - enumeration 700 / 794\n",
            "Progress - enumeration 750 / 794\n",
            "71933, 71237\n",
            "71933, 71237\n"
          ]
        }
      ]
    },
    {
      "cell_type": "code",
      "source": [],
      "metadata": {
        "id": "M_gvk7Y3-nZu"
      },
      "id": "M_gvk7Y3-nZu",
      "execution_count": null,
      "outputs": []
    },
    {
      "cell_type": "code",
      "source": [],
      "metadata": {
        "id": "BwclZ2NYt1Re"
      },
      "id": "BwclZ2NYt1Re",
      "execution_count": null,
      "outputs": []
    }
  ],
  "metadata": {
    "kernelspec": {
      "display_name": "Python 3",
      "name": "python3"
    },
    "language_info": {
      "codemirror_mode": {
        "name": "ipython",
        "version": 2
      },
      "file_extension": ".py",
      "mimetype": "text/x-python",
      "name": "python",
      "nbconvert_exporter": "python",
      "pygments_lexer": "ipython2",
      "version": "2.7.6"
    },
    "colab": {
      "provenance": [],
      "machine_shape": "hm",
      "gpuType": "A100",
      "include_colab_link": true
    },
    "accelerator": "GPU"
  },
  "nbformat": 4,
  "nbformat_minor": 5
}